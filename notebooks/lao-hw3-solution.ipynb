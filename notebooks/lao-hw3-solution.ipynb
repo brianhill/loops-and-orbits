{
 "cells": [
  {
   "cell_type": "markdown",
   "metadata": {},
   "source": [
    "# Loops & Orbits &mdash; HW3 Solution &mdash; Jupyter Notebook\n",
    "\n",
    "## Charging a Capacitor\n",
    "\n",
    "This solution started with Notebook 3-1 (Litihium-Ion Battery Charging)."
   ]
  },
  {
   "cell_type": "code",
   "execution_count": 1,
   "metadata": {},
   "outputs": [],
   "source": [
    "# Use the numpy library for dealing with arrays of floats:\n",
    "import numpy as np\n",
    "\n",
    "# The following import statement makes the plotting library available to us. There is also a mysterious\n",
    "# statement to work around a known Jupyter bug: https://github.com/jupyter/notebook/issues/3670\n",
    "%matplotlib inline\n",
    "import matplotlib.pyplot as plt\n",
    "\n",
    "# Use unit testing framework to test each function we write:\n",
    "import unittest"
   ]
  },
  {
   "cell_type": "markdown",
   "metadata": {},
   "source": [
    "## Constants\n",
    "\n",
    "Some suggested constants were sent by email. In this notebook, the product of R and C has been chosen to be 120 seconds."
   ]
  },
  {
   "cell_type": "code",
   "execution_count": 2,
   "metadata": {},
   "outputs": [],
   "source": [
    "# The following two parameters establish the simulation time step and its maximum total duration:\n",
    "delta_t = 0.1                  # simulation time step in seconds\n",
    "simulation_time_steps = 6000   # 10 minutes of charging for a delta_t of 0.1\n",
    "\n",
    "# DC supply\n",
    "v0 = 12.0 # DC supply voltage in volts\n",
    "\n",
    "# Capacitance\n",
    "capacitance = 50 * 10**-3      # 50 mF\n",
    "\n",
    "# Resistance\n",
    "resistance = 2400              # 2.4 k-ohms\n",
    "\n",
    "# Conversion factor\n",
    "seconds_in_a_minute = 60"
   ]
  },
  {
   "cell_type": "markdown",
   "metadata": {},
   "source": [
    "## The For Loop That Does the Work"
   ]
  },
  {
   "cell_type": "code",
   "execution_count": 3,
   "metadata": {},
   "outputs": [],
   "source": [
    "# Initialize the charge state\n",
    "# These charges will be filled in as the for loop runs.\n",
    "charges = np.zeros((simulation_time_steps + 1,))\n",
    "\n",
    "# Initialize the times\n",
    "times = np.zeros((simulation_time_steps + 1,))\n",
    "\n",
    "# The 0th elements of charges and times are already filled in.\n",
    "# Start the loop with i = 1 and go for 18000 more steps\n",
    "for i in range(1, simulation_time_steps + 1):\n",
    "    #\n",
    "    # get all the before values\n",
    "    #\n",
    "    # charge state\n",
    "    before_charge = charges[i - 1]\n",
    "    # time\n",
    "    before_time = times[i - 1]\n",
    "    #\n",
    "    # get the charging rate -- this is where the physics is -- remind me to put the physics on the whiteboard!\n",
    "    #\n",
    "    capacitor_voltage = before_charge / capacitance\n",
    "    voltage_difference = v0 - capacitor_voltage\n",
    "    charging_rate = voltage_difference / resistance\n",
    "    \n",
    "    # Now it's pretty much the usual update code:\n",
    "    after_charge = before_charge + charging_rate * delta_t\n",
    "    after_time = before_time + delta_t\n",
    "    #\n",
    "    # assign the after values into their lists\n",
    "    #\n",
    "    charges[i] = after_charge\n",
    "    times[i] = after_time\n"
   ]
  },
  {
   "cell_type": "markdown",
   "metadata": {},
   "source": [
    "## Graph"
   ]
  },
  {
   "cell_type": "code",
   "execution_count": 4,
   "metadata": {},
   "outputs": [
    {
     "data": {
      "image/png": "[encoded data removed]",
      "text/plain": [
       "<Figure size 576x576 with 1 Axes>"
      ]
     },
     "metadata": {
      "needs_background": "light"
     },
     "output_type": "display_data"
    }
   ],
   "source": [
    "plt.figure(figsize=(8, 8))\n",
    "\n",
    "plt.plot(times / seconds_in_a_minute, charges / capacitance)\n",
    "\n",
    "plt.xlabel(\"Time (m)\")\n",
    "plt.ylabel(\"Voltage (V)\")\n",
    "\n",
    "# Size the x-axis to go from 0 to the maximum time in hours\n",
    "plt.xlim(0.0, delta_t * simulation_time_steps / seconds_in_a_minute)\n",
    "\n",
    "plt.ylim(0.0, v0)\n",
    "\n",
    "# Size the y-axis to run from empty to full (0 to capacity_mAh):\n",
    "\n",
    "plt.show()"
   ]
  },
  {
   "cell_type": "markdown",
   "metadata": {},
   "source": [
    "## Conclusion\n",
    "\n",
    "Looks like the capacitor is very close to 12V after 10 minutes of charging."
   ]
  }
 ],
 "metadata": {
  "kernelspec": {
   "display_name": "Python 3",
   "language": "python",
   "name": "python3"
  },
  "language_info": {
   "codemirror_mode": {
    "name": "ipython",
    "version": 3
   },
   "file_extension": ".py",
   "mimetype": "text/x-python",
   "name": "python",
   "nbconvert_exporter": "python",
   "pygments_lexer": "ipython3",
   "version": "3.7.4"
  }
 },
 "nbformat": 4,
 "nbformat_minor": 2
}
