{
 "cells": [
  {
   "cell_type": "markdown",
   "metadata": {},
   "source": [
    "# Loops & Orbits &mdash; Week 2 &mdash; Day 2 &mdash; Jupyter Notebook\n",
    "\n",
    "## Home Run with Air Resistance\n",
    "\n",
    "The new thing in the initialization code below is the drag captured as a new variable `air_constant_over_m`. **Execute the initialization cell.** All these variables will then be available to the rest of the code."
   ]
  },
  {
   "cell_type": "code",
   "execution_count": 1,
   "metadata": {},
   "outputs": [],
   "source": [
    "# Initial speed of hit ball in meters per second\n",
    "initial_speed = 60\n",
    "\n",
    "# Initial angle of hit ball in degrees from horizontal\n",
    "initial_angle = 30\n",
    "\n",
    "# Simulation time step in seconds\n",
    "delta_t = 0.1\n",
    "\n",
    "# Distance to fence in meters\n",
    "distance_to_fence = 100\n",
    "\n",
    "# density_of_air * area_of_ball * drag_coefficient / (2 * mass_of_ball)\n",
    "# just call the whole combo air_constant_over_m\n",
    "air_constant_over_m = 0.012\n",
    "\n",
    "# Below is the way g is usually defined -- the amount is 9.81 m/s^2 downwards.\n",
    "# People don't put a minus sign in g -- that's a convention and we are not changing it.\n",
    "# When you use this constant, you have to remember to put the minus sign in front of it\n",
    "# to take care of the fact that gravity pulls in the -y direction.\n",
    "g = 9.81\n",
    "\n",
    "# Simulation time step in seconds\n",
    "delta_t = 0.1\n",
    "\n",
    "# Even though you don't know how import statements work yet, trust\n",
    "# that the following import allows you to use the sin function,\n",
    "# the cos function, the atan2 function (arctangent), the sqrt function,\n",
    "# and the constant pi anywhere you like in the rest of the code:\n",
    "from math import sin, cos, atan2, sqrt, pi\n",
    "\n",
    "# The following import statement makes the plotting library available to us. There is also a\n",
    "# statement to work around a known Jupyter bug: https://github.com/jupyter/notebook/issues/3670\n",
    "%matplotlib inline\n",
    "import matplotlib.pyplot as plt"
   ]
  },
  {
   "cell_type": "markdown",
   "metadata": {},
   "source": [
    "## Function to get Components of a Vector\n",
    "\n",
    "In the last notebook, we had two functions that calculated horizontal velocity and vertical velocity.\n",
    "\n",
    "Let's combine those two functions into a single function and have both components returned as a tuple.\n",
    "\n",
    "**Below, fix up the formula for vertical_component.**"
   ]
  },
  {
   "cell_type": "code",
   "execution_count": 2,
   "metadata": {},
   "outputs": [
    {
     "data": {
      "text/plain": [
       "(51.96152422706632, 29.999999999999996)"
      ]
     },
     "execution_count": 2,
     "metadata": {},
     "output_type": "execute_result"
    }
   ],
   "source": [
    "# computes horizontal and vertical components of a vector and returns them as a tuple\n",
    "def vector_components(length, angle_from_horizontal):\n",
    "    # convert angle from degrees to radians\n",
    "    angle = angle_from_horizontal * pi / 180.0\n",
    "    # this line is good\n",
    "    horizontal_component = length * cos(angle)\n",
    "    # fix the next line -- DONE\n",
    "    vertical_component = length * sin(angle)\n",
    "    # return both components as a tuple\n",
    "    return horizontal_component, vertical_component\n",
    "\n",
    "# Don't change the next two lines. They are going to tell us whether your vector_components implementation\n",
    "# is right. If it is, you'll get about 51.96 and 30.00 as the result of this cell.\n",
    "initial_horizontal_velocity, initial_vertical_velocity = vector_components(initial_speed, initial_angle)\n",
    "initial_horizontal_velocity, initial_vertical_velocity"
   ]
  },
  {
   "cell_type": "markdown",
   "metadata": {},
   "source": [
    "## Functions to get Angle and Speed from Components\n",
    "\n",
    "We are going to use `atan2` which is a form of the arctangent function to get the angle. In fact, the function `angle_from_velocity` is already fully implemented.\n",
    "\n",
    "**Implement** `speed_from_velocity` **using the Pythagorean theorem.**"
   ]
  },
  {
   "cell_type": "code",
   "execution_count": 3,
   "metadata": {},
   "outputs": [
    {
     "data": {
      "text/plain": [
       "0.9999999999999999"
      ]
     },
     "execution_count": 3,
     "metadata": {},
     "output_type": "execute_result"
    }
   ],
   "source": [
    "# sometimes we need to go from components to angle and speed -- instead of from angle and speed to components\n",
    "\n",
    "# get angle from components using atan2 version of arctangent function\n",
    "def angle_from_velocity(horizontal_velocity, vertical_velocity):\n",
    "    # use the arctangent function\n",
    "    angle = atan2(vertical_velocity, horizontal_velocity)  \n",
    "    # we are working in degrees -- convert radians to degrees\n",
    "    angle_in_degrees = angle * 180.0 / pi\n",
    "    # return the result\n",
    "    return angle_in_degrees\n",
    "\n",
    "# get speed from components using Pythagorean theorem\n",
    "def speed_from_velocity(horizontal_velocity, vertical_velocity):\n",
    "    # pythagorean theorem\n",
    "    hypotenuse = sqrt(horizontal_velocity**2 + vertical_velocity**2)\n",
    "    # return the result\n",
    "    return hypotenuse\n",
    "\n",
    "# As a test of what you just implemented, the following should give 1.00 -- allowing for a little rounding error.\n",
    "speed_from_velocity(sqrt(3.0)/2.0, 0.5)"
   ]
  },
  {
   "cell_type": "markdown",
   "metadata": {},
   "source": [
    "## Function to get Acceleration Components as a Tuple\n",
    "\n",
    "**This is going to be the most challenging function you have yet written.** I have done nothing but provide a space for your work. Your implementation will need\n",
    "all of the following:\n",
    "\n",
    "* Get `angle` and `speed` using the `angle_from_velocity` and `speed_from_velocity` functions.\n",
    "* Define and compute `strength_of_drag` using `air_constant_over_m` and a formula I'll have on the whiteboard.\n",
    "* Add 180 degrees to `angle` so that you have a direction that is 180 degrees opposite to velocity.\n",
    "* Get the vector components of `strength_of_drag` using your `vector_components` function &mdash; this involves unpacking a tuple! Call the components of the tuple `horizontal_drag_component` and `vertical_drag_component`.\n",
    "* Return `horizontal_drag_component` and `vertical_drag_component - g` as a tuple."
   ]
  },
  {
   "cell_type": "code",
   "execution_count": 4,
   "metadata": {},
   "outputs": [
    {
     "data": {
      "text/plain": [
       "(-15.004736850919702, -20.004449632854342)"
      ]
     },
     "execution_count": 4,
     "metadata": {},
     "output_type": "execute_result"
    }
   ],
   "source": [
    "# The function will return a tuple consisting of the horizontal acceleration and the vertical acceleration.\n",
    "def acceleration_with_drag(horizontal_velocity, vertical_velocity):\n",
    "    angle = angle_from_velocity(horizontal_velocity, vertical_velocity)\n",
    "    speed = speed_from_velocity(horizontal_velocity, vertical_velocity)\n",
    "    strength_of_drag = air_constant_over_m * speed**2\n",
    "    direction_of_drag = angle + 180\n",
    "    horizontal_component, vertical_component = vector_components(strength_of_drag, direction_of_drag)\n",
    "    return horizontal_component, vertical_component - g\n",
    "\n",
    "# As a test of what you just implemented, this should give approximately -15.0, -20.0\n",
    "acceleration_with_drag(32.16, 21.85)"
   ]
  },
  {
   "cell_type": "markdown",
   "metadata": {},
   "source": [
    "## The While Loop That Does the Work\n",
    "\n",
    "This while loop works like it did in the knock-it-out-of-the-park notebook except for two things:\n",
    "\n",
    "* it is set up to stop after 100 times no matter what &mdash; we had too many runaway kernels &mdash; take a look at how we stop the runaways\n",
    "* it uses the `acceleration_with_drag` function you just implemented above\n",
    "\n",
    "**There is nothing for you to change below. You can just execute it once you've got your functions implemented.**"
   ]
  },
  {
   "cell_type": "code",
   "execution_count": 5,
   "metadata": {},
   "outputs": [],
   "source": [
    "# Initialize the x and y velocities\n",
    "x_velocities = [initial_horizontal_velocity]\n",
    "y_velocities = [initial_vertical_velocity]\n",
    "# Initialize the x and y positions\n",
    "x_positions = [0.0]\n",
    "y_positions = [1.0]\n",
    "# Initialize the times\n",
    "times = [0.0]\n",
    "\n",
    "# We want to go until the ball is over the fence. It seems our code often runs\n",
    "# without terminating. Add an extra test to stop it from going more than 100 times.\n",
    "# This is the first time you have seen the logical and operator!\n",
    "while x_positions[-1] < distance_to_fence and len(times) < 100:\n",
    "    #\n",
    "    # get all the before values\n",
    "    #\n",
    "    # velocities\n",
    "    before_x_velocity = x_velocities[-1]\n",
    "    before_y_velocity = y_velocities[-1]\n",
    "    # positions\n",
    "    before_x_position = x_positions[-1]\n",
    "    before_y_position = y_positions[-1]\n",
    "    # time\n",
    "    before_time = times[-1]\n",
    "    #\n",
    "    # use the new acceleration_with_drag function to get the accelerations\n",
    "    #\n",
    "    x_acceleration, y_acceleration = acceleration_with_drag(before_x_velocity, before_y_velocity)\n",
    "    #\n",
    "    # bog-standard Euler update code -- in two dimensions\n",
    "    #\n",
    "    # update the x and y velocities\n",
    "    after_x_velocity = before_x_velocity + delta_t * x_acceleration\n",
    "    after_y_velocity = before_y_velocity + delta_t * y_acceleration\n",
    "    # update the x and y positions\n",
    "    after_x_position = before_x_position + delta_t * before_x_velocity\n",
    "    after_y_position = before_y_position + delta_t * before_y_velocity\n",
    "    # update time\n",
    "    after_time = before_time + delta_t\n",
    "    #\n",
    "    # append all the after values to their lists\n",
    "    #\n",
    "    x_velocities.append(after_x_velocity)\n",
    "    y_velocities.append(after_y_velocity)\n",
    "    x_positions.append(after_x_position)\n",
    "    y_positions.append(after_y_position)\n",
    "    times.append(after_time)\n"
   ]
  },
  {
   "cell_type": "markdown",
   "metadata": {},
   "source": [
    "## Graphs\n",
    "\n",
    "There are lots of interesting graphs we can make out of the x and y positions, the x and y velocities, and the times."
   ]
  },
  {
   "cell_type": "code",
   "execution_count": 6,
   "metadata": {},
   "outputs": [
    {
     "data": {
      "image/png": "[encoded data removed]",
      "text/plain": [
       "<Figure size 936x216 with 1 Axes>"
      ]
     },
     "metadata": {
      "needs_background": "light"
     },
     "output_type": "display_data"
    }
   ],
   "source": [
    "plt.figure(figsize=(13, 3))\n",
    "\n",
    "plt.scatter(x_positions, y_positions)\n",
    "\n",
    "plt.xlabel(\"Horizontal position (m)\")\n",
    "plt.ylabel(\"Vertical position (m)\")\n",
    "\n",
    "plt.show()"
   ]
  },
  {
   "cell_type": "code",
   "execution_count": 7,
   "metadata": {},
   "outputs": [
    {
     "data": {
      "image/png": "[encoded data removed]",
      "text/plain": [
       "<Figure size 936x216 with 1 Axes>"
      ]
     },
     "metadata": {
      "needs_background": "light"
     },
     "output_type": "display_data"
    }
   ],
   "source": [
    "plt.figure(figsize=(13, 3))\n",
    "\n",
    "plt.scatter(times, x_velocities)\n",
    "\n",
    "plt.xlabel(\"Time (s)\")\n",
    "plt.ylabel(\"Horizontal velocity (m/s)\")\n",
    "plt.ylim(0, 60)\n",
    "\n",
    "plt.show()"
   ]
  },
  {
   "cell_type": "code",
   "execution_count": 8,
   "metadata": {},
   "outputs": [
    {
     "data": {
      "image/png": "[encoded data removed]",
      "text/plain": [
       "<Figure size 936x216 with 1 Axes>"
      ]
     },
     "metadata": {
      "needs_background": "light"
     },
     "output_type": "display_data"
    }
   ],
   "source": [
    "plt.figure(figsize=(13, 3))\n",
    "\n",
    "plt.scatter(times, y_velocities)\n",
    "\n",
    "plt.xlabel(\"Time (s)\")\n",
    "plt.ylabel(\"Vertical velocity (m/s)\")\n",
    "plt.ylim(-35, 35)\n",
    "plt.axhline()\n",
    "\n",
    "plt.show()"
   ]
  },
  {
   "cell_type": "markdown",
   "metadata": {},
   "source": [
    "## Learning about Dependencies and Backtraces\n",
    "\n",
    "Backtraces are also known as Tracebacks and also known as Stack Traces.\n",
    "\n",
    "Dependencies:\n",
    "\n",
    "* The big while loop depends on `acceleration_with_drag`\n",
    "* `acceleration_with_drag` depends on several other functions including `angle_from_velocity`\n",
    "\n",
    "It's like nested Russian dolls although it's only three dolls so far.\n",
    "\n",
    "Let's intentionally break the code and see what happens. **Make the following two changes:**\n",
    "\n",
    "* Change `angle_in_degrees = angle * 180.0 / pi` to have this mistake `angle_in_degrees = angle * [180.0 / pi]`\n",
    "* Comment out the test `# acceleration_with_drag(32.16, 21.85)` that would catch the mistake\n",
    "\n",
    "**After making the two changes, hit the Kernel->Restart &amp; Run All menu item.**\n",
    "\n",
    "### Results\n",
    "\n",
    "You should get the following garbage:\n",
    "\n",
    "```\n",
    "TypeError                                 Traceback (most recent call last)\n",
    "<ipython-input-5-46dd0eecf3ea> in <module>\n",
    "     26     # use the new acceleration_with_drag function to get the accelerations\n",
    "     27     #\n",
    "---> 28     x_acceleration, y_acceleration = acceleration_with_drag(before_x_velocity, before_y_velocity)\n",
    "     29     #\n",
    "     30     # bog-standard Euler update code -- in two dimensions\n",
    "\n",
    "<ipython-input-4-afa6f8ab9be6> in acceleration_with_drag(horizontal_velocity, vertical_velocity)\n",
    "      3 \n",
    "      4 def acceleration_with_drag(horizontal_velocity, vertical_velocity):\n",
    "----> 5     angle = angle_from_velocity(horizontal_velocity, vertical_velocity)\n",
    "      6     speed = speed_from_velocity(horizontal_velocity, vertical_velocity)\n",
    "      7     #\n",
    "\n",
    "<ipython-input-3-010349adedeb> in angle_from_velocity(horizontal_velocity, vertical_velocity)\n",
    "      6     angle = atan2(vertical_velocity, horizontal_velocity)\n",
    "      7     # we are working in degrees -- convert radians to degrees\n",
    "----> 8     angle_in_degrees = angle * [180.0 / pi]\n",
    "      9     # return the result\n",
    "     10     return angle_in_degrees\n",
    "\n",
    "TypeError: can't multiply sequence by non-int of type 'float'\n",
    "```\n",
    "\n",
    "### Understanding the Results\n",
    "\n",
    "The results have lots of extra lines to help you see where in the code the problem is at. Let's strip the extra lines out:\n",
    "\n",
    "```\n",
    "<ipython-input-5-46dd0eecf3ea> in <module>\n",
    "---> 28     x_acceleration, y_acceleration = acceleration_with_drag(before_x_velocity, before_y_velocity)\n",
    "<ipython-input-4-afa6f8ab9be6> in acceleration_with_drag(horizontal_velocity, vertical_velocity)\n",
    "----> 5     angle = angle_from_velocity(horizontal_velocity, vertical_velocity)\n",
    "<ipython-input-3-010349adedeb> in angle_from_velocity(horizontal_velocity, vertical_velocity)\n",
    "----> 8     angle_in_degrees = angle * [180.0 / pi]\n",
    "TypeError: can't multiply sequence by non-int of type 'float'\n",
    "```\n",
    "\n",
    "You can see the dependencies in this!\n",
    "\n",
    "The code that was executing at the top level is called `<module>`. In C this would be `main`.\n",
    "\n",
    "You are at line 28 of that code. In line 28, you can see that `acceleration_with_drag` is called.\n",
    "\n",
    "The next line shows that you are in `acceleration_with_drag`.\n",
    "\n",
    "You are at line 5 of that function. At line 5, you can see that `angle_from_velocity` is called.\n",
    "\n",
    "The next line shows that you are in `angle_from_velocity`.\n",
    "\n",
    "You are at line 8 of that function. That's exactly where we introduced the error!\n",
    "\n",
    "The final line is trying to tell you what is wrong. It says you can't multiply a sequence by a float. Tuples, ranges, and lists are all called sequences.\n",
    "\n",
    "The square brackets have turned `180.0 / pi` into a list. It would be fine to multiply `180.0 / pi` by `angle`, but it is not fine to multiply the list of one item `[180.0 / pi]` by `angle`."
   ]
  },
  {
   "cell_type": "markdown",
   "metadata": {},
   "source": [
    "## Conclusion\n",
    "\n",
    "### Dependencies\n",
    "\n",
    "We've started to write more complicated functions. For example some of our functions return tuples.\n",
    "\n",
    "We've started to nest the functionality (functions calling other functions), creating what is called dependencies. In the above example:\n",
    "\n",
    "* The big while loop depends on `acceleration_with_drag`\n",
    "* `acceleration_with_drag` depends on several other functions including `angle_from_velocity`\n",
    "\n",
    "### Backtraces\n",
    "\n",
    "Errors can show up deep in the nesting. In the above example:\n",
    "\n",
    "* the big while loop is a module and in it, we called `acceleration_with_drag`\n",
    "* `acceleration_with_drag` called `angle_from_velocity` and that was where the error is\n",
    "\n",
    "Hopefully you now see how backtraces directly reflect dependencies.\n",
    "\n",
    "### Debugging\n",
    "\n",
    "Every time the interpreter coughs up a backtrace it is trying to help you understand your code and its problems. It is exceedingly valuable to start reading them.\n",
    "\n",
    "I have often studied backtraces that are 20 to 30 levels deep, but that isn't special. In fact, I have sometimes studied backtraces that are 60 to 80 levels deep. Software developers do this all the time. Start with backtraces that are just a few deep and soon you'll be reading very deep ones. After some time you will learn what to ignore and how to home in on the actual error.\n",
    "\n",
    "Great programmers study backtraces and work with debuggers. Lousy programmers stick print statements into their code. Don't go that route. All modern computer languages have powerful debuggers. Soon I'll show you how to use the Python debugger instead of print statements when you want more diagnostics."
   ]
  }
 ],
 "metadata": {
  "kernelspec": {
   "display_name": "Python 3",
   "language": "python",
   "name": "python3"
  },
  "language_info": {
   "codemirror_mode": {
    "name": "ipython",
    "version": 3
   },
   "file_extension": ".py",
   "mimetype": "text/x-python",
   "name": "python",
   "nbconvert_exporter": "python",
   "pygments_lexer": "ipython3",
   "version": "3.7.4"
  }
 },
 "nbformat": 4,
 "nbformat_minor": 2
}
