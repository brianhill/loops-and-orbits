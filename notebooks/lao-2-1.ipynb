{
 "cells": [
  {
   "cell_type": "markdown",
   "metadata": {},
   "source": [
    "# Loops & Orbits &mdash; Week 2 &mdash; Day 1 &mdash; Jupyter Notebook"
   ]
  },
  {
   "cell_type": "markdown",
   "metadata": {},
   "source": [
    "## Knocking the Ball out of the Park\n",
    "\n",
    "This is your first example of motion in two dimensions!\n",
    "\n",
    "First we need all the initial conditions. We are not yet putting in air resistance. That will come in the next notebook.\n",
    "\n",
    "**Make sure you understand all of the initialization variables below. There is nothing for you to do in the next code cell except execute it.**"
   ]
  },
  {
   "cell_type": "code",
   "execution_count": null,
   "metadata": {},
   "outputs": [],
   "source": [
    "# Initial speed of hit ball in meters per second\n",
    "initial_speed = 50\n",
    "\n",
    "# Initial angle of hit ball in degrees from horizontal\n",
    "initial_angle = 35\n",
    "\n",
    "# Simulation time step in seconds\n",
    "delta_t = 0.1\n",
    "\n",
    "# Distance to fence in meters\n",
    "distance_to_fence = 100\n",
    "\n",
    "# Initial speed of hit ball\n",
    "initial_speed = 40\n",
    "\n",
    "# Initial angle of hit ball in degrees from horizontal\n",
    "initial_angle = 30\n",
    "\n",
    "# x-acceleration -- there is no x acceleration (until we put in wind resistance, which slows the motion)\n",
    "x_acceleration = 0.0\n",
    "\n",
    "# y-accleration -- the y acceleration is due to gravity -- the amount is 9.81 m/s^2 downwards\n",
    "y_acceleration = -9.81\n",
    "\n",
    "# Simulation time step in seconds\n",
    "delta_t = 0.1\n",
    "\n",
    "# You don't know how import statements work yet.\n",
    "# Trust that the following allows you to use the sin function,\n",
    "# the cos function, and the constant pi in your code:\n",
    "from math import sin, cos, pi\n",
    "\n",
    "# The following statements make the plotting library available to us,\n",
    "# and they work around a known Jupyter bug: https://github.com/jupyter/notebook/issues/3670\n",
    "# which was causing plots to not appear the first time they were drawn\n",
    "%matplotlib inline\n",
    "import matplotlib.pyplot as plt"
   ]
  },
  {
   "cell_type": "markdown",
   "metadata": {},
   "source": [
    "## Functions to Convert Speed and Angle to Horizontal Velocity and Vertical Velocity\n",
    "\n",
    "The horizontal_velocity function is written for you.\n",
    "\n",
    "**Write the vertical_velocity function which currently has a nonsense return value.**"
   ]
  },
  {
   "cell_type": "code",
   "execution_count": null,
   "metadata": {},
   "outputs": [],
   "source": [
    "# You could check that this function returns 0 or something very close to that when angle is 90 degrees\n",
    "def horizontal_velocity(speed, angle_from_horizontal):\n",
    "    # convert angle from degrees to radians\n",
    "    angle = angle_from_horizontal * 2 * pi / 360\n",
    "    return speed * cos(angle)\n",
    "    \n",
    "# You could check that this function returns speed or something very close to that when angle is 90 degrees\n",
    "def vertical_velocity(speed, angle_from_horizontal):\n",
    "    return 12345.0\n",
    "\n",
    "initial_x_velocity = horizontal_velocity(initial_speed, initial_angle)\n",
    "\n",
    "initial_y_velocity = vertical_velocity(initial_speed, initial_angle)"
   ]
  },
  {
   "cell_type": "markdown",
   "metadata": {},
   "source": [
    "## The While Loop That Does the Work\n",
    "\n",
    "**Make the following modifications to the code below:**\n",
    "\n",
    "* Change the test of whether the y position is greater than 0 to instead test whether the x position has gone past the fence\n",
    "* **Everywhere** there is some code for x (like ```x_velocities = [initial_x_velocity]```) add the corresponding code for y (in that case, you need to add ```y_velocities = [initial_y_velocity]```)"
   ]
  },
  {
   "cell_type": "code",
   "execution_count": null,
   "metadata": {},
   "outputs": [],
   "source": [
    "# Initialize the velocities\n",
    "x_velocities = [initial_x_velocity]\n",
    "\n",
    "# Initialize the x positions -- start with 0.0\n",
    "x_positions = [0.0]\n",
    "# Initialize the y positions -- start with 1.0\n",
    "\n",
    "# Initialize the times -- simulation start when batter hits ball\n",
    "times = [0.0]\n",
    "\n",
    "# We want to go until the ball is over the fence -- fix the next line if you haven't already\n",
    "while y_positions[-1] > 0:\n",
    "    #\n",
    "    # get all the before values -- they are the ones at the end of the lists\n",
    "    #\n",
    "    # velocities\n",
    "    before_x_velocity = x_velocities[-1]\n",
    "    # positions\n",
    "    before_x_position = x_positions[-1]\n",
    "    # time\n",
    "    before_time = times[-1]\n",
    "    #\n",
    "    # calculate the after values\n",
    "    #\n",
    "    # x and y velocities are updated with accelerations\n",
    "    after_x_velocity = before_x_velocity + delta_t * x_acceleration\n",
    "    # x and y positions are updated with velocities\n",
    "    after_x_position = before_x_position + delta_t * before_x_velocity\n",
    "    # update time\n",
    "    after_time = before_time + delta_t\n",
    "    #\n",
    "    # append all the after values to their lists\n",
    "    #\n",
    "    x_velocities.append(after_x_velocity)\n",
    "    x_positions.append(after_x_position)\n",
    "    times.append(after_time)\n"
   ]
  },
  {
   "cell_type": "markdown",
   "metadata": {},
   "source": [
    "## Make an X-Position vs. Time Graph"
   ]
  },
  {
   "cell_type": "code",
   "execution_count": null,
   "metadata": {},
   "outputs": [],
   "source": [
    "plt.figure(figsize=(12, 6))\n",
    "\n",
    "plt.scatter(times, x_positions)\n",
    "\n",
    "plt.xlabel(\"Time (s)\")\n",
    "plt.ylabel(\"Horizontal position (m)\")\n",
    "\n",
    "plt.show()"
   ]
  },
  {
   "cell_type": "markdown",
   "metadata": {},
   "source": [
    "Do you understand why the x-vs-t graph is so simple? In our next notebook we will add air resistance so x-vs-t will show the horizontal speed slowing."
   ]
  },
  {
   "cell_type": "markdown",
   "metadata": {},
   "source": [
    "## Make a Y-Position vs. Time Graph\n",
    "\n",
    "**Study the example code that made the x-vs-t graph. You only have to change a few things to graph y vs. t.**"
   ]
  },
  {
   "cell_type": "code",
   "execution_count": null,
   "metadata": {},
   "outputs": [],
   "source": [
    "plt.figure(figsize=(12, 6))\n",
    "\n",
    "## Your plotting code goes here:\n",
    "\n",
    "\n",
    "plt.show()"
   ]
  },
  {
   "cell_type": "markdown",
   "metadata": {},
   "source": [
    "## Make a Y-Position vs. X-Position Graph\n",
    "\n",
    "**Above you have graphs for both x-vs-t and y-vs-t. For the third and final graph, do y-vs-x.**"
   ]
  },
  {
   "cell_type": "code",
   "execution_count": null,
   "metadata": {},
   "outputs": [],
   "source": [
    "plt.figure(figsize=(12, 6))\n",
    "\n",
    "## Your plotting code goes here:\n",
    "\n",
    "\n",
    "plt.show()"
   ]
  },
  {
   "cell_type": "markdown",
   "metadata": {},
   "source": [
    "## Conclusion\n",
    "\n",
    "We are letting the computer do so much work, it is easy to not fully appreciate what has been plotted.\n",
    "\n",
    "Make sure your second and third graphs are correct:\n",
    "\n",
    "* The maximum height in the second graph is about 22 meters. The maximum time is about 3 seconds.\n",
    "* The maximum height in the third graph is still 22 meters. The maximum horizontal position should be when the ball cleaers the outfield fence &mdash; just over 100 meters.\n",
    "\n",
    "and then study the differences between all three graphs.\n",
    "\n",
    "Why do the second and third graphs look superficially similar? Check the horizontal axis. If everything has gone properly, the second graph finishes at about 3 seconds. The third graph finishes when the ball clears the outfield fence, which is 100 meters."
   ]
  }
 ],
 "metadata": {
  "kernelspec": {
   "display_name": "Python 3",
   "language": "python",
   "name": "python3"
  },
  "language_info": {
   "codemirror_mode": {
    "name": "ipython",
    "version": 3
   },
   "file_extension": ".py",
   "mimetype": "text/x-python",
   "name": "python",
   "nbconvert_exporter": "python",
   "pygments_lexer": "ipython3",
   "version": "3.7.4"
  }
 },
 "nbformat": 4,
 "nbformat_minor": 2
}
