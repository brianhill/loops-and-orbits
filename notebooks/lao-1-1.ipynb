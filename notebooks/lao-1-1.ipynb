{
 "cells": [
  {
   "cell_type": "markdown",
   "metadata": {},
   "source": [
    "# Loops & Orbits &mdash; Week 1 &mdash; Day 1 &mdash; Jupyter Notebook\n",
    "\n",
    "You will be doing most of your coding in Jupyter. Jupyter allows you to write, document, and execute Python code all in a single environment.\n",
    "\n",
    "## Documentation is Written in Markdown\n",
    "\n",
    "What you reading right now is documentation not code. Documentation is written in Markdown. There are multiple versions of Markdown with slight differences. We are using [GitHub-flavored Markdown](https://guides.github.com/features/mastering-markdown/). It can be handy to print out page 1 of the [GitHub-flavored Markwdown cheatsheet (PDF)](https://guides.github.com/pdfs/markdown-cheatsheet-online.pdf) and put it over your desk. For starters, memorize how to get:\n",
    "\n",
    "* headings\n",
    "* sub-headings\n",
    "* bulleted lists\n",
    "* hyperlinks\n",
    "\n",
    "Double-click on this text. You can see what it looks like as raw Markdown and you can make edits to it.\n",
    "\n",
    "Notice that the bullets have turned into asterisks, and the heading line at the top begins with a pound-sign (also called the octothorpe, the number symbol, or the hash symbol &mdash; hence the expression, hashtag). The sub-heading begins with two pound signs.\n",
    "\n",
    "Computer science is laced with endless puns. Markdown is a pun. The idea was that the various markup languages (for marking up documents with title fonts and bulleted lists, etc.), especially HTML, which stands for Hypertext Markup Language had gotten grossly complex.\n",
    "\n",
    "Hit Shift-Enter to make it pretty again. Go back and forth a few times, by double-clicking and hitting Shift-Enter.\n",
    "\n",
    "## Python Building Blocks &mdash; Statements, Expressions, Variables, and Types\n",
    "\n",
    "Valid Python is a sequence of statements. Each statement has to be valid for the Python to be valid.\n",
    "\n",
    "Statements can be extremely complex. The simplest statement is just an expression all by itself. An expression has a value.\n",
    "\n",
    "The following are simple examples of expressions:"
   ]
  },
  {
   "cell_type": "code",
   "execution_count": null,
   "metadata": {},
   "outputs": [],
   "source": [
    "2 + 2"
   ]
  },
  {
   "cell_type": "code",
   "execution_count": null,
   "metadata": {},
   "outputs": [],
   "source": [
    "15 - 13"
   ]
  },
  {
   "cell_type": "code",
   "execution_count": null,
   "metadata": {},
   "outputs": [],
   "source": [
    "2 * 2"
   ]
  },
  {
   "cell_type": "code",
   "execution_count": null,
   "metadata": {},
   "outputs": [],
   "source": [
    "15 / 13"
   ]
  },
  {
   "cell_type": "markdown",
   "metadata": {},
   "source": [
    "### Using this Notebook\n",
    "\n",
    "Each of the above four boxes contains valid Python. Click in each of them and then hit Shift-Enter.\n",
    "\n",
    "In general, you should evaluate every statement in this notebook to see what it does. If you aren't completely clear on what it does and why it does it, keep playing with it until you are.\n",
    "\n",
    "### Cells and Kernels\n",
    "\n",
    "Notice that the Python statements above got their own boxes. You actually are allowed to put multiple statements in a box, but I am starting simply.\n",
    "\n",
    "These boxes are Python, not Markdown. Somehow Jupyter needs to know that 2 + 2 was Python, not more documentation, right? The boxes are part of that.\n",
    "\n",
    "Let's start using the official names for the boxes. They are called cells, and so you now have been introduced to the two main cell types: Markdown cells and code cells. Code cells have In[ ] next to them.\n",
    "\n",
    "One more thing to introduce is the notion of a kernel. It's a separate process. You can think of a process as a separate app, but one which has no on-screen representation. Whenever you execute a Python cell by hitting Shift-Enter the statements in it get sent to the kernel, which evaluates them. The kernel sends the result back to the notebook and the notebook renders that as an Out[ ] cell (unless there is no result). Sometimes the notebook renders other things as side effects of executing the statements (like graphs! &mdash; but we are not getting to that today).\n",
    "\n",
    "The numbers in the brackets in the In and Out cells are sequential. The sequence is determined by their order in getting sent to the kernel, not the order they appear in the notebook.\n",
    "\n",
    "Every time you hit Shift-Enter in a code cell, whatever is in the cell gets re-sent to the kernel and the number is incremented.\n",
    "\n",
    "**If you don't hit Shift-Enter in a cell, then the kernel doesn't know about the statements in that cell.**\n",
    "\n",
    "Try hitting Shift-Enter multiple times in a cell. For example, just keep hitting Shift-Enter in the 2 + 2 cell. See the In/Out numbers increment? Ok, that's not very interesting, but it helps you understand the relationship of the cells to the kernel. Re-executing cells will get more interesting when the values in them start changing.\n",
    "\n",
    "### Variables and Assignments\n",
    "\n",
    "Just like in ordinary mathematics, mathematics on computers uses variables. Variables hold values.\n",
    "\n",
    "Here is a nice simple assignment statement that lets the kernel know about a new variable x:"
   ]
  },
  {
   "cell_type": "code",
   "execution_count": null,
   "metadata": {},
   "outputs": [],
   "source": [
    "x = 2 + 2"
   ]
  },
  {
   "cell_type": "markdown",
   "metadata": {},
   "source": [
    "The expression on the right of the equals evaluates to 4.\n",
    "\n",
    "The equals sign says, put the result of the expression on the right into the new variable named x. It's new because we haven't named it before. Now that we have named it, and sent the statement that names it to the kernel, the kernel will not forget that we have a variable named x. The kernel currently has 4 in x.\n",
    "\n",
    "Notice there is no Out statement to go with this In statement even after you hit Shift-Enter in it. That's because there is no result that comes with an assignment statement."
   ]
  },
  {
   "cell_type": "code",
   "execution_count": null,
   "metadata": {},
   "outputs": [],
   "source": [
    "x"
   ]
  },
  {
   "cell_type": "markdown",
   "metadata": {},
   "source": [
    "However, as you can see, if we type x all by itself and hit Shift-Enter,what x holds is rendered. By the way, that was your first example of an expression containing a variable.\n",
    "\n",
    "Here's another:"
   ]
  },
  {
   "cell_type": "code",
   "execution_count": null,
   "metadata": {},
   "outputs": [],
   "source": [
    "x = 2 * x"
   ]
  },
  {
   "cell_type": "code",
   "execution_count": null,
   "metadata": {},
   "outputs": [],
   "source": [
    "x"
   ]
  },
  {
   "cell_type": "markdown",
   "metadata": {},
   "source": [
    "Try executing the preceding two statements (x = 2 * x and x) a few times in various orders. Do you see what is happening? It's kind of crazy actually. If you divide x from both sides of x = 2 * x you get 1 = 2. That makes no sense mathematically. The computer understand this as follows:\n",
    "\n",
    "* first, see what is in x\n",
    "* then, multiply it by 2\n",
    "* then put the result back into x\n",
    "\n",
    "So there is a before-the-assignment and after-the-assignment notion of x. That's why it isn't actually crazy. In ordinary math we might write\n",
    "\n",
    "x_after = 2 * x_before\n",
    "\n",
    "In computer math, it is understood to everyone (the programmer and the computer itself), that x has a value before and after the assignment, so we just write\n",
    "\n",
    "x = 2 * x\n",
    "\n",
    "There is **no need** to write before and after."
   ]
  },
  {
   "cell_type": "markdown",
   "metadata": {},
   "source": [
    "### Some Types\n",
    "\n",
    "Expressions and variables have many possible types. Here are the ones you use most often. Some more will be coming later.\n",
    "\n",
    "#### Boolean Type\n",
    "\n",
    "Examples:\n",
    "\n",
    "* True\n",
    "* False\n",
    "\n",
    "#### Integer Type\n",
    "\n",
    "Examples:\n",
    "\n",
    "* 1\n",
    "* -13\n",
    "\n",
    "#### Floating Type\n",
    "\n",
    "Examples:\n",
    "\n",
    "* 1.0\n",
    "* -13.0\n",
    "\n",
    "#### String Type\n",
    "\n",
    "* \"One\"\n",
    "* \"Negative 13\"\n",
    "* \"1\"\n",
    "* \"-13\"\n",
    "\n",
    "Notice that \"1\" is very different from 1, which is in turn different from 1.0."
   ]
  },
  {
   "cell_type": "code",
   "execution_count": null,
   "metadata": {},
   "outputs": [],
   "source": [
    "\"1\" + 1"
   ]
  },
  {
   "cell_type": "code",
   "execution_count": null,
   "metadata": {},
   "outputs": [],
   "source": [
    "\"2\" + \"2\""
   ]
  },
  {
   "cell_type": "markdown",
   "metadata": {},
   "source": [
    "## Python &mdash; Comparisons and Control Flow\n",
    "\n",
    "It would be mighty boring if programs always did the same calculations. For example, suppose, no matter which button you clicked on Amazon, it sent you to the checkout step. That would prevent you from adding anything to your cart! A program has to make decisions about what to do next. Decisions are most often made by making comparisons.\n",
    "\n",
    "### Comparisons\n",
    "\n",
    "The most common comparisons are:\n",
    "\n",
    "* < (read less than)\n",
    "* \\> (read greater than)\n",
    "* == (read equal to, but do not confuse this with assignment!)\n",
    "* \\>= (read greater than or equal to)\n",
    "* <= (read less than or equal to)\n",
    "* != (read not equal to)\n",
    "\n",
    "Make some comparisons to see how these work:"
   ]
  },
  {
   "cell_type": "code",
   "execution_count": null,
   "metadata": {},
   "outputs": [],
   "source": [
    "5 != 3"
   ]
  },
  {
   "cell_type": "markdown",
   "metadata": {},
   "source": [
    "### Control Flow\n",
    "\n",
    "Here's an example of control flow using the while statement:"
   ]
  },
  {
   "cell_type": "code",
   "execution_count": null,
   "metadata": {},
   "outputs": [],
   "source": [
    "y = 1\n",
    "\n",
    "while y < 10:\n",
    "    y = y + 1\n",
    "    \n",
    "y"
   ]
  },
  {
   "cell_type": "markdown",
   "metadata": {},
   "source": [
    "Eliminate the indentation of y = y + 1 and re-execute the program.\n",
    "\n",
    "Put the indentation back in by using the tab key. Re-execute the program to make sure it works.\n",
    "\n",
    "Modify the program to start with y = 3 and increment y by 2 each time. Before you execute the program, guess the result."
   ]
  },
  {
   "cell_type": "markdown",
   "metadata": {},
   "source": [
    "## Summary\n",
    "\n",
    "That's it for today! Congratulate yourself. Those of you that are new to Jupyter and Python (that's almost all of you) have been introduced to a massive amount already! You know how to write documentation using Markdown. You know how to send Python to the Python interpreter running in the kernel. You know about statements, expressions, variables, assignments, comparisons, and even though we haven't done much with control flow yet, you have seen your first while loop. We'll start with control flow next time."
   ]
  }
 ],
 "metadata": {
  "kernelspec": {
   "display_name": "Python 3",
   "language": "python",
   "name": "python3"
  },
  "language_info": {
   "codemirror_mode": {
    "name": "ipython",
    "version": 3
   },
   "file_extension": ".py",
   "mimetype": "text/x-python",
   "name": "python",
   "nbconvert_exporter": "python",
   "pygments_lexer": "ipython3",
   "version": "3.7.4"
  }
 },
 "nbformat": 4,
 "nbformat_minor": 2
}
