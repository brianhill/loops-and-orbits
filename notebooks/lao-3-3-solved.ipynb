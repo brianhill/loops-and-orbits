{
 "cells": [
  {
   "cell_type": "markdown",
   "metadata": {},
   "source": [
    "# Loops & Orbits &mdash; Week 3 &mdash; Day 3 &mdash; Jupyter Notebook\n",
    "\n",
    "## Ellipses from Newton's Cannon with Second-Order Runge-Kutta\n",
    "\n",
    "Pronounce the German names well: \"roon-geh koot-tuh\" &mdash; not \"runj kutah\" which is admittedly how it looks.\n",
    "\n",
    "**Execute the imports.** There is nothing here for you to change."
   ]
  },
  {
   "cell_type": "code",
   "execution_count": 1,
   "metadata": {},
   "outputs": [],
   "source": [
    "# Important math functions and the constant pi:\n",
    "from math import sin, cos, atan2, sqrt, pi\n",
    "\n",
    "# We will start using the high-performance numpy library for dealing with arrays of floats:\n",
    "import numpy as np\n",
    "\n",
    "# The following import statement makes the plotting library available to us. There is also a mysterious\n",
    "# statement beginning with % to work around a known Jupyter bug: https://github.com/jupyter/notebook/issues/3670\n",
    "%matplotlib inline\n",
    "import matplotlib.pyplot as plt\n",
    "\n",
    "# Use unit testing framework to test each function we write:\n",
    "import unittest"
   ]
  },
  {
   "cell_type": "markdown",
   "metadata": {},
   "source": [
    "Next, define all the constants. *Our numbers in meters were getting really huge. All of the constants are now in kilometers instead of meters.* **Execute these assignments.**"
   ]
  },
  {
   "cell_type": "code",
   "execution_count": 2,
   "metadata": {},
   "outputs": [],
   "source": [
    "# The following two parameters are get us the strength of gravity at various heights:\n",
    "g = 0.00981                    # 0.00981 km/s**2 at Earth surface\n",
    "radius_of_earth = 6371.0 # Earth radius in km\n",
    "\n",
    "# The following two variables define the cannonball launch conditions:\n",
    "initial_position = [0.0, radius_of_earth + 500.0]  # cannon is on a 500 km high mountain\n",
    "initial_velocity = [8.982, 0.0]                     # a good range of initial x-velocities to try is 7.6 to 9.2 km/s\n",
    "# The value of 8.982 km/s was tweaked to make exactly one elliptical orbit in 200 minutes.\n",
    "\n",
    "# The following two parameters establish the simulation time step and its maximum total duration:\n",
    "delta_t = 120.0              # simulation time step in seconds\n",
    "simulation_time_steps = 100  # 200 minutes worth for a delta_t of 120.0"
   ]
  },
  {
   "cell_type": "markdown",
   "metadata": {},
   "source": [
    "## Functions for Working with Vectors\n",
    "\n",
    "All of these functions you implemented previously. **Just execute this cell to get our vector functions.**"
   ]
  },
  {
   "cell_type": "code",
   "execution_count": 3,
   "metadata": {},
   "outputs": [
    {
     "name": "stderr",
     "output_type": "stream",
     "text": [
      "test_angle_from_vector (__main__.VectorTests) ... ok\n",
      "test_length_from_vector (__main__.VectorTests) ... ok\n",
      "test_vector_from_length_and_angle (__main__.VectorTests) ... ok\n",
      "\n",
      "----------------------------------------------------------------------\n",
      "Ran 3 tests in 0.003s\n",
      "\n",
      "OK\n"
     ]
    },
    {
     "data": {
      "text/plain": [
       "<unittest.runner.TextTestResult run=3 errors=0 failures=0>"
      ]
     },
     "execution_count": 3,
     "metadata": {},
     "output_type": "execute_result"
    }
   ],
   "source": [
    "# computes horizontal and vertical components of a vector and returns them as a tuple\n",
    "def vector_from_length_and_angle(length: float, angle: float) -> np.ndarray:\n",
    "    # we are working in degrees -- python's are expecting radians -- convert degrees to radian\n",
    "    angle_in_radians = angle * pi / 180.0\n",
    "    x_component = length * cos(angle_in_radians)\n",
    "    y_component = length * sin(angle_in_radians)\n",
    "    return np.array([x_component, y_component])\n",
    "\n",
    "# get angle from components using atan2 version of arctangent function -- result is converted to degrees\n",
    "def angle_from_vector(vector: np.ndarray) -> float:\n",
    "    # use the arctangent function\n",
    "    angle_in_radians = atan2(vector[1], vector[0])  \n",
    "    # we are working in degrees -- python's functions return radians -- convert radians to degrees\n",
    "    angle = angle_in_radians * 180.0 / pi\n",
    "    # return the result\n",
    "    return angle\n",
    "\n",
    "# get length from components using Pythagorean theorem\n",
    "def length_from_vector(vector: np.ndarray) -> float:\n",
    "    length_squared = np.sum(vector**2)\n",
    "    return sqrt(length_squared)\n",
    "\n",
    "### Unit tests ###\n",
    "\n",
    "class VectorTests(unittest.TestCase):\n",
    "    \n",
    "    def test_vector_from_length_and_angle(self):\n",
    "        vector = vector_from_length_and_angle(1000.0, 30.0)\n",
    "        expected_vector = np.array([866.02540378, 500.0])\n",
    "        self.assertTrue(np.allclose(vector, expected_vector),\n",
    "                        msg=\"Expected {}, but got {}\".format(expected_vector, vector))\n",
    "        \n",
    "    def test_angle_from_vector(self):\n",
    "        angle = angle_from_vector(np.array([866.02540378, 500.0]))\n",
    "        self.assertAlmostEqual(angle, 30.0)\n",
    "        \n",
    "    def test_length_from_vector(self):\n",
    "        length = length_from_vector(np.array([5.0, 12.0]))\n",
    "        self.assertAlmostEqual(length, 13.0)\n",
    "\n",
    "testSuite = unittest.TestLoader().loadTestsFromName(\"__main__.VectorTests\")\n",
    "testRunner = unittest.TextTestRunner(verbosity=2)\n",
    "testRunner.run(testSuite)"
   ]
  },
  {
   "cell_type": "markdown",
   "metadata": {},
   "source": [
    "## Functions to Get Acceleration of Gravity\n",
    "\n",
    "All of these functions for gravity you implemented in Notebook 3-1. **Just execute this cell to get the gravity functions.**"
   ]
  },
  {
   "cell_type": "code",
   "execution_count": 4,
   "metadata": {},
   "outputs": [
    {
     "name": "stderr",
     "output_type": "stream",
     "text": [
      "test_acceleration_of_gravity_4g_up (__main__.GravityTests) ... ok\n",
      "test_acceleration_of_gravity_g_left (__main__.GravityTests) ... ok\n",
      "test_direction_of_gravity_left (__main__.GravityTests) ... ok\n",
      "test_direction_of_gravity_up (__main__.GravityTests) ... ok\n",
      "test_strength_of_gravity (__main__.GravityTests) ... ok\n",
      "test_strength_of_gravity_high_up (__main__.GravityTests) ... ok\n",
      "\n",
      "----------------------------------------------------------------------\n",
      "Ran 6 tests in 0.005s\n",
      "\n",
      "OK\n"
     ]
    },
    {
     "data": {
      "text/plain": [
       "<unittest.runner.TextTestResult run=6 errors=0 failures=0>"
      ]
     },
     "execution_count": 4,
     "metadata": {},
     "output_type": "execute_result"
    }
   ],
   "source": [
    "def strength_of_gravity(position):\n",
    "    # this function encodes the strength of gravity as a function of distance from the center of the Earth\n",
    "    radius = length_from_vector(position)\n",
    "    strength = g * radius_of_earth**2 / radius**2\n",
    "    return strength\n",
    "\n",
    "def direction_of_gravity(position):\n",
    "    # this function encodes the direction of gravity (the angle)\n",
    "    # gravity is attractive -- it always points toward the center of the Earth\n",
    "    direction = angle_from_vector(position) + 180.0\n",
    "    return direction\n",
    "\n",
    "def acceleration_of_gravity(position):\n",
    "    # using the strength and direction functions you have just implemented compute and\n",
    "    # return a 2x1 array for the acceleration of gravity\n",
    "    strength = strength_of_gravity(position)\n",
    "    direction = direction_of_gravity(position)\n",
    "    acceleration = vector_from_length_and_angle(strength, direction)\n",
    "    return acceleration\n",
    "\n",
    "### Unit tests ###\n",
    "\n",
    "class GravityTests(unittest.TestCase):\n",
    "\n",
    "    # tests of strength\n",
    "\n",
    "    def test_strength_of_gravity(self):\n",
    "        position = np.array([radius_of_earth, 0.0])\n",
    "        strength = strength_of_gravity(position)\n",
    "        self.assertAlmostEqual(strength, g)\n",
    "\n",
    "    def test_strength_of_gravity_high_up(self):\n",
    "        position = np.array([0.0, 2.0 * radius_of_earth])\n",
    "        strength = strength_of_gravity(position)\n",
    "        self.assertAlmostEqual(strength, 0.25 * g)\n",
    "        \n",
    "    # tests of direction\n",
    "        \n",
    "    def test_direction_of_gravity_left(self):\n",
    "        position = np.array([100.0, 0.0])\n",
    "        direction = direction_of_gravity(position)\n",
    "        self.assertEqual(direction, 180.0)\n",
    "\n",
    "    def test_direction_of_gravity_up(self):\n",
    "        position = np.array([0.0, -100.0])\n",
    "        direction = direction_of_gravity(position)\n",
    "        self.assertEqual(direction, 90.0)\n",
    "        \n",
    "    # tests of acceleration\n",
    "\n",
    "    def test_acceleration_of_gravity_g_left(self):\n",
    "        position = np.array([radius_of_earth, 0.0])\n",
    "        acceleration = acceleration_of_gravity(position)\n",
    "        expected_acceleration = np.array([-g, 0.0])\n",
    "        self.assertTrue(np.allclose(acceleration, expected_acceleration),\n",
    "                        msg=\"Expected {}, but got {}\".format(expected_acceleration, acceleration))\n",
    "\n",
    "    def test_acceleration_of_gravity_4g_up(self):\n",
    "        position = np.array([0.0, -radius_of_earth / 2.0])\n",
    "        acceleration = acceleration_of_gravity(position)\n",
    "        expected_acceleration = np.array([0.0, 4.0 * g])\n",
    "        self.assertTrue(np.allclose(acceleration, expected_acceleration),\n",
    "                        msg=\"Expected {}, but got {}\".format(expected_acceleration, acceleration))\n",
    "\n",
    "testSuite = unittest.TestLoader().loadTestsFromName(\"__main__.GravityTests\")\n",
    "testRunner = unittest.TextTestRunner(verbosity=2)\n",
    "testRunner.run(testSuite)\n"
   ]
  },
  {
   "cell_type": "markdown",
   "metadata": {},
   "source": [
    "## The While Loop That Does the Work\n",
    "\n",
    "Here is where your work lies.\n",
    "\n",
    "You have learned about Kepler's laws for ellipses. Euler and Euler-Cromer have too much accumulated\n",
    "error to work well with ellipses.\n",
    "\n",
    "**Below you will be implementing second-order Runge-Kutta.** Look for the five TODO comments in the code. That's where your work is. I have tried to make second-order Runge-Kutta understandable."
   ]
  },
  {
   "cell_type": "code",
   "execution_count": 5,
   "metadata": {},
   "outputs": [],
   "source": [
    "# Initialize the x and y velocities\n",
    "velocities = np.zeros((simulation_time_steps, 2))\n",
    "velocities[0] = initial_velocity\n",
    "\n",
    "# Initialize the x and y positions\n",
    "positions = np.zeros((simulation_time_steps, 2))\n",
    "positions[0] = initial_position\n",
    "\n",
    "# Initialize the times\n",
    "times = np.zeros((simulation_time_steps,))\n",
    "\n",
    "# The 0th elements of velocities, positions, and times are already filled in, so start with 1\n",
    "for i in range(1, simulation_time_steps):\n",
    "    #\n",
    "    # get all the before values\n",
    "    #\n",
    "    # velocities\n",
    "    before_velocity = velocities[i - 1]\n",
    "    # positions\n",
    "    before_position = positions[i - 1]\n",
    "    # time\n",
    "    before_time = times[i - 1]\n",
    "    #\n",
    "    # fundamental change for 2nd-order Runge-Kutta -- first estimate mid_position!!\n",
    "    #\n",
    "    mid_position = before_position + before_velocity * delta_t / 2.0\n",
    "    #\n",
    "    # calculate mid_acceleration -- using the estimated mid_position!\n",
    "    # \n",
    "    mid_acceleration = acceleration_of_gravity(mid_position)\n",
    "    #\n",
    "    # calculate after_velocity from before_velocity and mid_acceleration\n",
    "    #\n",
    "    after_velocity = before_velocity + mid_acceleration * delta_t\n",
    "    #\n",
    "    # calculate after_position using the democratic combination of after_velocity and before_velocity\n",
    "    #\n",
    "    after_position = before_position + (before_velocity + after_velocity) / 2.0 * delta_t\n",
    "    #\n",
    "    # update time\n",
    "    #\n",
    "    after_time = before_time + delta_t\n",
    "    #\n",
    "    # assign the after values into their lists\n",
    "    #\n",
    "    velocities[i] = after_velocity\n",
    "    positions[i] = after_position\n",
    "    times[i] = after_time\n"
   ]
  },
  {
   "cell_type": "markdown",
   "metadata": {},
   "source": [
    "## Diagram\n",
    "\n",
    "**Execute this to make a graph that looks a little like [the diagram Newton made](https://upload.wikimedia.org/wikipedia/commons/thumb/2/2f/Newton%27s_Principia_%281846%29.djvu/page519-1024px-Newton%27s_Principia_%281846%29.djvu.jpg).** Our ellipses are better than Newton's!"
   ]
  },
  {
   "cell_type": "code",
   "execution_count": 6,
   "metadata": {},
   "outputs": [
    {
     "data": {
      "image/png": "[encoded data removed]",
      "text/plain": [
       "<Figure size 1080x1080 with 1 Axes>"
      ]
     },
     "metadata": {
      "needs_background": "light"
     },
     "output_type": "display_data"
    }
   ],
   "source": [
    "plt.figure(figsize=(15, 15))\n",
    "\n",
    "x_positions = positions[:, 0]\n",
    "y_positions = positions[:, 1]\n",
    "plt.scatter(x_positions, y_positions)\n",
    "\n",
    "plt.xlabel(\"x position (km)\")\n",
    "plt.ylabel(\"y position (km)\")\n",
    "\n",
    "# Some gibberish that draws a big blue circle representing the Earth:\n",
    "earth = plt.Circle((0, 0), radius_of_earth, color='b')\n",
    "plt.gcf().gca().add_artist(earth)\n",
    "\n",
    "# Make the plot big enough to show elliptical orbits:\n",
    "plot_limit = 8000\n",
    "plt.xlim(-1.8 * plot_limit, 1.8 * plot_limit)\n",
    "plt.ylim(-2.4 * plot_limit, 1.2 * plot_limit)\n",
    "\n",
    "plt.show()"
   ]
  },
  {
   "cell_type": "markdown",
   "metadata": {},
   "source": [
    "## Playing with the Notebook and Checkout Questions\n",
    "\n",
    "### Question 1a\n",
    "\n",
    "Using the intial velocity of 8.982 km/s, where in the ellipse is the cannonball moving the slowest? How are you answering this?\n",
    "\n",
    "### Question 1b\n",
    "\n",
    "Where in the ellipse is the cannonball moving the fastest?\n",
    "\n",
    "### Question 2a\n",
    "\n",
    "Without changing the simulation duration, increase the initial velocity. Do you expect to get a larger or smaller ellipse? Is the ellipse more or less eccentric (more oval or more circular)?\n",
    "\n",
    "### Question 2b\n",
    "\n",
    "With the increased initial velocity, do you expect the orbit to over-close in the same simulation duration, or will it not close?\n",
    "\n",
    "### Question 3a\n",
    "\n",
    "Still without changing the simulation duration, decrease the initial velocity. Do you expect to get a larger or smaller ellipse? Is the ellipse more or less eccentric (more oval or more circular)?\n",
    "\n",
    "### Question 3b\n",
    "\n",
    "With the decreased initial velocity, do you expect the orbit to over-close in the same simulation duration, or will it not close?\n",
    "\n",
    "### Question 4\n",
    "\n",
    "What value of the initial velocity gets a circle?"
   ]
  },
  {
   "cell_type": "markdown",
   "metadata": {},
   "source": [
    "## Conclusion\n",
    "\n",
    "With oodles of software and hardware and just three weeks of time learning to use it, you can get more results than Isaac Newton."
   ]
  }
 ],
 "metadata": {
  "kernelspec": {
   "display_name": "Python 3",
   "language": "python",
   "name": "python3"
  },
  "language_info": {
   "codemirror_mode": {
    "name": "ipython",
    "version": 3
   },
   "file_extension": ".py",
   "mimetype": "text/x-python",
   "name": "python",
   "nbconvert_exporter": "python",
   "pygments_lexer": "ipython3",
   "version": "3.7.4"
  }
 },
 "nbformat": 4,
 "nbformat_minor": 2
}
