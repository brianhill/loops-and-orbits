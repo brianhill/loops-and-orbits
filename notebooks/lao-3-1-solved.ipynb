{
 "cells": [
  {
   "cell_type": "markdown",
   "metadata": {},
   "source": [
    "# Loops & Orbits &mdash; Week 3 &mdash; Day 1\n",
    "\n",
    "## Battery Charging &mdash; with `numpy`\n",
    "\n",
    "To the user, the battery appears to be a single component, but to an electrical engineer, it needs to\n",
    "be modeled as at least two components:\n",
    "\n",
    "* One component that resists charging or discharging regardless of how full the battery is. This will be called internal_resistance in our code below.\n",
    "* A second component, that depends on the state of the battery. The battery has S=0 when it is discharged and S=1 when it is fully charged. Voc(S) defines the battery's open circuit voltage as a function of its state. This voltage source is the second component.\n",
    "\n",
    "**Just execute the imports.** There is nothing here for you to work on."
   ]
  },
  {
   "cell_type": "code",
   "execution_count": 1,
   "metadata": {},
   "outputs": [],
   "source": [
    "# Use the numpy library for dealing with arrays of floats:\n",
    "import numpy as np\n",
    "\n",
    "# The following import statement makes the plotting library available to us. There is also a mysterious\n",
    "# statement to work around a known Jupyter bug: https://github.com/jupyter/notebook/issues/3670\n",
    "%matplotlib inline\n",
    "import matplotlib.pyplot as plt\n",
    "\n",
    "# Use unit testing framework to test each function we write:\n",
    "import unittest"
   ]
  },
  {
   "cell_type": "markdown",
   "metadata": {},
   "source": [
    "## Battery Model Constants\n",
    "\n",
    "We define all the constants for the battery model.\n",
    "\n",
    "The constants a1, b1, a2, b2, and c are from Figure 4(b) of Ruifeng Zhang, Bizhong Xia, Baohua Li, Libo Cao, Yongzhi Lai,Weiwei Zheng, Huawen Wang, Wei Wang, and Mingwang Wang, \"Study on the Open Circuit Voltage and State of Charge Characterization of High Capacity Lithium-Ion Battery Under Different Temperature\",\n",
    "published in [Energies (2018) **11** 2408](https://www.mdpi.com/1996-1073/11/9/2408). Download the PDF and go to the bottom of page 5 to see the open-circuit voltage model.\n",
    "\n",
    "**You need to implement the open-circuit voltage model from their paper. The implementation that is currently\n",
    "there is a dummy implementation.**"
   ]
  },
  {
   "cell_type": "code",
   "execution_count": 2,
   "metadata": {},
   "outputs": [
    {
     "name": "stderr",
     "output_type": "stream",
     "text": [
      "test_discharged_voltage (__main__.OpenCircuitVoltageTests) ... ok\n",
      "test_full_voltage (__main__.OpenCircuitVoltageTests) ... ok\n",
      "\n",
      "----------------------------------------------------------------------\n",
      "Ran 2 tests in 0.002s\n",
      "\n",
      "OK\n"
     ]
    },
    {
     "data": {
      "text/plain": [
       "<unittest.runner.TextTestResult run=2 errors=0 failures=0>"
      ]
     },
     "execution_count": 2,
     "metadata": {},
     "output_type": "execute_result"
    }
   ],
   "source": [
    "# At 25 degrees Centigrade\n",
    "a1 = 3.679\n",
    "b1 = -0.1101\n",
    "a2 = -0.2528\n",
    "b2 = -6.829\n",
    "c = 0.9386\n",
    "\n",
    "# open-circuit voltage model\n",
    "def Voc(S):\n",
    "    # The rest of this function definition is a dummy implementation that you should replace with the model\n",
    "    # from the paper by fixing the following lines to agree with their paper. Their model has exponentials in it.\n",
    "    # When you need an exponential function, you can do it like this (although you don't need to make a separate\n",
    "    # variable -- you can write it out as one big formula).\n",
    "    #\n",
    "    # whatever_exponentiated = np.exp(whatever)\n",
    "    #\n",
    "    # In the preceding, notice the use of the np.exp function -- not the exp function from the math library.\n",
    "    #\n",
    "    # Your formula will involve a1, b1, a2, b2, c, and S\n",
    "    #\n",
    "    # HAH! Their model has an obvious typo in it. The b1 in the second exponential should be b2!\n",
    "    #\n",
    "    voltage = a1 * np.exp(b1 * S) + a2 * np.exp(b2 * S) + c * S**2\n",
    "    return voltage\n",
    "\n",
    "# The charger voltage\n",
    "charger_voltage = Voc(1.0) # The charger voltage to eventually get the battery 100% full\n",
    "    \n",
    "### Unit tests ###\n",
    "\n",
    "class OpenCircuitVoltageTests(unittest.TestCase):\n",
    "    \n",
    "    def test_discharged_voltage(self):\n",
    "        # a simple case to test -- empty\n",
    "        self.assertAlmostEqual(Voc(0.0), a1 + a2)\n",
    "        \n",
    "    def test_full_voltage(self):\n",
    "        # another -- almost as simple case to test -- full\n",
    "        self.assertAlmostEqual(charger_voltage, a1 * np.exp(b1) + a2 * np.exp(b2) + c)\n",
    "\n",
    "testSuite = unittest.TestLoader().loadTestsFromName(\"__main__.OpenCircuitVoltageTests\")\n",
    "testRunner = unittest.TextTestRunner(verbosity=2)\n",
    "testRunner.run(testSuite)"
   ]
  },
  {
   "cell_type": "markdown",
   "metadata": {},
   "source": [
    "## More Constants Needed for a Realistic Simulation\n",
    "\n",
    "We need a realistic charging time. How about 5 hours. We'll model that in 5-second increments. So that's 3600\n",
    "simulation steps.\n",
    "\n",
    "We also need:\n",
    "\n",
    "* The battery's total size.\n",
    "* The battery's internal resistance.\n",
    "\n",
    "The battery's size is measured in mAh (milli-amp hours) for most consumer electronics batteries and in amp-hours for much bigger batteries like car or motorcycle batteries. A total amount of charge goes into the battery as it goes from empty (S=0) to full (S=1). We will call this capacity_mAh in the code below. Physicists measure this in Coulombs, so we'll convert to capacity_coulombs right off the bat.\n",
    "\n",
    "I put a small internal resistance into the battery. Real consumer electronics batteries may have an even\n",
    "smaller internal_resistance.\n",
    "\n",
    "**Just execute the cell below to define all the constants.** There is nothing here for you to work on."
   ]
  },
  {
   "cell_type": "code",
   "execution_count": 3,
   "metadata": {},
   "outputs": [],
   "source": [
    "# The following two parameters establish the simulation time step and its maximum total duration:\n",
    "delta_t = 5.0                  # simulation time step in seconds\n",
    "simulation_time_steps = 3600   # 5 hours of charging for a delta_t of 5.0\n",
    "\n",
    "# Battery capacity\n",
    "capacity_mAh = 3100.0 # capacity in milliamp-hours -- mAh -- a nice phone battery\n",
    "# Convert battery capacity in mAh to Coulombs\n",
    "seconds_in_an_hour = 3600.0\n",
    "milliamps_in_an_amp = 1000.0\n",
    "capacity_coulombs = capacity_mAh * seconds_in_an_hour / milliamps_in_an_amp\n",
    "# that's right folks, with capacity_mAh = 3100, that's going to be a whopping 11,160 Coulombs!\n",
    "\n",
    "# The battery's internal resistance\n",
    "internal_resistance = 0.200 # internal resistance in Ohms -- usually called R0"
   ]
  },
  {
   "cell_type": "markdown",
   "metadata": {},
   "source": [
    "## Finish the Plotting Code\n",
    "\n",
    "To make a nice plot, **you need to define Ss_for_plot**. You can easily make what we want with np.arange()."
   ]
  },
  {
   "cell_type": "code",
   "execution_count": 4,
   "metadata": {},
   "outputs": [
    {
     "data": {
      "image/png": "[encoded data removed]",
      "text/plain": [
       "<Figure size 432x288 with 1 Axes>"
      ]
     },
     "metadata": {
      "needs_background": "light"
     },
     "output_type": "display_data"
    }
   ],
   "source": [
    "# Data for plotting\n",
    "# For the Ss_for_plot (ess'es) we want 101 values from 0.00 to 1.00 stepping by 0.01.\n",
    "# 0.00, 0.01, 0.02, ..., 1.00.\n",
    "# That's easy to do with Make them with np.arange. Go back to Friday's notebook\n",
    "# or Google np.arange if you don't remember how np.arange works.\n",
    "# The following is a dummy implementation that only does 3 values -- FIXED!\n",
    "Ss_for_plot = np.arange(0.00, 1.01, 0.01)\n",
    "\n",
    "# The Vs (vee's) are the corresponding voltages for each battery state.\n",
    "# This is where the power of numpy starts to show. The computer is computing 101 Vs\n",
    "# using the function you defined above in a single clear and compact line of code\n",
    "# that can run simultaneously on multiple processors if your computer has that.\n",
    "Vs = Voc(Ss_for_plot)\n",
    "\n",
    "# Convert Ss_for_plot to percentages.\n",
    "# Again the power of numpy is that 100.0 * Ss_for_plot multiplies\n",
    "# all 101 Ss_for_plot by 100 with a single line of code.\n",
    "Ss_for_plot = 100.0 * Ss_for_plot # convert to percentages\n",
    "\n",
    "# Now invoke the plot functions as usual\n",
    "plt.plot(Ss_for_plot, Vs)\n",
    "plt.xlabel(\"Charge State S (%)\")\n",
    "plt.ylabel(\"Open-Circuit Voltage (V)\")\n",
    "plt.grid()\n",
    "\n",
    "plt.show()"
   ]
  },
  {
   "cell_type": "markdown",
   "metadata": {},
   "source": [
    "## Checkpoint\n",
    "\n",
    "Make sure you have the model right. Your two indications that your model is right are:\n",
    "\n",
    "* The unit tests passed.\n",
    "* Your curve looks like the curve in Zhang et al's figure Figure 4(b) &mdash; that figure is about half-way down page 7 of the paper you already downloaded."
   ]
  },
  {
   "cell_type": "markdown",
   "metadata": {},
   "source": [
    "## The For Loop That Does the Work\n",
    "\n",
    "In every step below, I have done the Ss. **You need to do the corresponding &mdash; slightly easier! &mdash; thing for the times.**\n",
    "\n",
    "**You also need to implement the assignments that have the physics in them!**\n",
    "\n",
    "**I have marked all the places you need to implement with `# You!` so that you don't miss any.**"
   ]
  },
  {
   "cell_type": "code",
   "execution_count": 5,
   "metadata": {},
   "outputs": [],
   "source": [
    "# Initialize the charge state\n",
    "# These Ss will be filled in as the for loop runs.\n",
    "Ss = np.zeros((simulation_time_steps + 1,))\n",
    "\n",
    "# Initialize the times\n",
    "# Each time you have something to implement, see how the Ss worked and try\n",
    "# to do the right thing for the times.\n",
    "times = np.zeros((simulation_time_steps + 1,))\n",
    "\n",
    "\n",
    "# The 0th elements of Ss and times are already filled in.\n",
    "# Start the loop with i = 1 and go for 3600 more steps\n",
    "for i in range(1, simulation_time_steps + 1):\n",
    "    #\n",
    "    # get all the before values\n",
    "    #\n",
    "    # charge state\n",
    "    before_S = Ss[i - 1]\n",
    "    # time\n",
    "    before_time = times[i - 1]\n",
    "    #\n",
    "    # get the battery's open-circuit voltage for this change state\n",
    "    #\n",
    "    battery_voltage = Voc(before_S)\n",
    "    #\n",
    "    # get the charging rate -- this is where the physics is -- remind me to put the physics on the whiteboard!\n",
    "    #\n",
    "    voltage_difference = charger_voltage - battery_voltage\n",
    "    charging_rate = voltage_difference / internal_resistance\n",
    "    amount_of_charge = charging_rate * delta_t\n",
    "    \n",
    "    # Now it's pretty much the usual update code:\n",
    "    # First after_S\n",
    "    change_in_charge_state = amount_of_charge / capacity_coulombs\n",
    "    after_S = before_S + change_in_charge_state\n",
    "    # Then after_time\n",
    "    after_time = before_time + delta_t\n",
    "    #\n",
    "    # assign the after values into their lists\n",
    "    #\n",
    "    Ss[i] = after_S\n",
    "    times[i] = after_time\n"
   ]
  },
  {
   "cell_type": "markdown",
   "metadata": {},
   "source": [
    "## Graph\n",
    "\n",
    "**One last `# You!` to find and complete.**"
   ]
  },
  {
   "cell_type": "code",
   "execution_count": 6,
   "metadata": {},
   "outputs": [
    {
     "data": {
      "image/png": "[encoded data removed]",
      "text/plain": [
       "<Figure size 576x576 with 1 Axes>"
      ]
     },
     "metadata": {
      "needs_background": "light"
     },
     "output_type": "display_data"
    }
   ],
   "source": [
    "plt.figure(figsize=(8, 8))\n",
    "\n",
    "# Convert the Ss to mAh\n",
    "Ss = Ss * capacity_mAh\n",
    "\n",
    "# You! Convert the times to hours.\n",
    "# As usual, understand what was done for the Ss -- how do you do the right thing for the times?\n",
    "times = times\n",
    "\n",
    "plt.plot(times / seconds_in_an_hour, Ss)\n",
    "\n",
    "plt.xlabel(\"Time (h)\")\n",
    "plt.ylabel(\"Charge State (mAh)\")\n",
    "\n",
    "# Size the x-axis to go from 0 to the maximum time in hours\n",
    "plt.xlim(0.0, delta_t * simulation_time_steps / seconds_in_an_hour)\n",
    "# Size the y-axis to run from empty to full (0 to capacity_mAh):\n",
    "plt.ylim(0.0, capacity_mAh)\n",
    "\n",
    "plt.show()"
   ]
  },
  {
   "cell_type": "markdown",
   "metadata": {},
   "source": [
    "## Conclusion\n",
    "\n",
    "Looks like the phone battery is extremely close to full after three hours of charging.\n",
    "\n",
    "Step back and think about what was accomplished.\n",
    "\n",
    "### Final Checkpoint\n",
    "\n",
    "Show Ben or me that you have the right graphs. While you are waiting for one of us, contemplate your accomplishments.\n",
    "\n",
    "#### Accomplishments\n",
    "\n",
    "* You have completely changed gears from mechanics to circuitry. This &mdash; and tomorrow's special class on economics with Prof. Andr&aacute;s Margitay-Becht &mdash; are designed to show you what a wide range of problems can be solved with finite-difference methods.\n",
    "* You have gained some familiarity with how physicists and electrical engineers model circuits. More specifically, you have gained some familiarity with how battery engineers model battery charging.\n",
    "* Battery charging is an excellent example of what is called a first-order differential equation. These equations are very often used in biology, ecology, and economics. First-order differential equations are actually simpler than the second-order differential equations (involving acceleration) that Newton realized were critical to the formulation of mechanics.\n",
    "* You have started using numpy. You have seen some of the trickiness in using it and you have seen some payoff in terms of its power to do massive amounts of floating-point computations in parallel.\n",
    "\n",
    "I tell you truly, this is a massive amount to be getting to in just the third week of an immersion.\n",
    "\n",
    "Please don't stress if you are not yet feeling any sense of mastery of what you did Friday and today. I am aware that you are only gaining familiarity. Gaining familiarity is important to give you a sense of the range of what as possible with computational methods, and to know how the numpy, matplotlib, and unittest are commonly used to write high-quality scientific code."
   ]
  }
 ],
 "metadata": {
  "kernelspec": {
   "display_name": "Python 3",
   "language": "python",
   "name": "python3"
  },
  "language_info": {
   "codemirror_mode": {
    "name": "ipython",
    "version": 3
   },
   "file_extension": ".py",
   "mimetype": "text/x-python",
   "name": "python",
   "nbconvert_exporter": "python",
   "pygments_lexer": "ipython3",
   "version": "3.7.4"
  }
 },
 "nbformat": 4,
 "nbformat_minor": 2
}
