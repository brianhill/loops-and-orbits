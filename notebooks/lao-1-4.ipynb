{
 "cells": [
  {
   "cell_type": "markdown",
   "metadata": {},
   "source": [
    "# Loops & Orbits &mdash; Week 1 &mdash; Day 4 &mdash; Jupyter Notebook"
   ]
  },
  {
   "cell_type": "markdown",
   "metadata": {},
   "source": [
    "## Air Glider on a Spring\n",
    "\n",
    "### Video Demonstration\n",
    "\n",
    "The Investigative Science Learning Environment (ISLE) team has the [best air-glider-on-a-spring demonstration](https://youtu.be/gvPNrdfNo9g).\n",
    "\n",
    "**Watch their [video](https://youtu.be/gvPNrdfNo9g) at full speed and at 0.5x or 0.25x until you understand what behavior the real system has.**\n",
    "\n",
    "### Initial Conditions\n",
    "\n",
    "In the code cell below are all the initial conditions needed to set up the air glider on a spring. The initial conditions have been chosen to match the 2nd demonstration in the video starting at about 14 seconds:\n",
    "\n",
    "* Resting point of spring: 0.129m\n",
    "* Amplitude of oscillation: the air glider is released from 0.140m ([see 2nd demonstration starting at 14s](https://youtu.be/gvPNrdfNo9g?t=14))\n",
    "* k/m value: 13 oscillations took 5.5s gives k/m of 220.6/s\\*\\*2\n",
    "\n",
    "### Time Increment &mdash; delta_t\n",
    "\n",
    "The air glider does a complete oscillation cycle in under 0.5 seconds. If we want to see this motion in some detail, we need to have at least 10 delta_t steps in 0.5 seconds. So that means delta_t must be at most 0.05 seconds. To be generous, let's use an even finer delta_t of 0.01 seconds and run the simulation for 0.85 seconds. That means we'll be taking 85 time steps.\n",
    "\n",
    "### Expectation\n",
    "\n",
    "0.85 seconds was chosen to be two oscillations. If our code is good, we expect to see two complete oscillations.\n",
    "\n",
    "**Execute the initialization code cell so that the kernel knows about all these variables.**"
   ]
  },
  {
   "cell_type": "code",
   "execution_count": null,
   "metadata": {},
   "outputs": [],
   "source": [
    "# Before the string is stretched, you can see that the air glider rests at about 0.129m\n",
    "resting_position = 0.129\n",
    "# The amplitude is how much the air glider was stretched from its resting position before being released.\n",
    "amplitude = 0.011    \n",
    "\n",
    "delta_t = 0.01       # time increment in seconds\n",
    "time_steps = 85      # this gives us 0.01 * 85 gives us 0.85 seconds of simulation -- about two oscillation cycles\n",
    "\n",
    "# k_over_m is the strength of the spring relative to the mass of the air cart\n",
    "k_over_m = 220.6     # 220.6/s**2 in mks units"
   ]
  },
  {
   "cell_type": "markdown",
   "metadata": {},
   "source": [
    "## The For Loop That Does the Work\n",
    "\n",
    "### Compare with Drag Racer\n",
    "\n",
    "The for loop in this notebook is extremely similar to the while loop in the drag racer notebook.\n",
    "\n",
    "It might be good to compare. The main difference is that we stop after a fixed number of time steps rather\n",
    "than stopping when the drag racer passes the finish line.\n",
    "\n",
    "### The Acceleration Function\n",
    "\n",
    "The update of the velocity depends on the acceleration function. I have *not* provided this function.\n",
    "This code cell will not execute.\n",
    "\n",
    "**Try executing the code cell anyway. Study the error message, but then go on *without* fixing it.**"
   ]
  },
  {
   "cell_type": "code",
   "execution_count": null,
   "metadata": {},
   "outputs": [],
   "source": [
    " # velocities in meter/second -- the air glider is released with no velocity\n",
    "velocities = [0.0]  \n",
    "# positions in meters -- initial air glider position is resting_position + amplitude\n",
    "positions = [resting_position + amplitude]\n",
    "# times in seconds -- initialized with stopwatch at 0.0 when air glider is released\n",
    "times = [0.0]\n",
    "\n",
    "for i in range(0, time_steps):\n",
    "    #\n",
    "    # get all the before values -- they are the ones at the end of the list\n",
    "    #\n",
    "    before_velocity = velocities[-1]\n",
    "    before_position = positions[-1]\n",
    "    before_time = times[-1]\n",
    "    #\n",
    "    # calculate the after values -- the acceleration function is not defined yet -- we'll get to that\n",
    "    #\n",
    "    after_velocity = before_velocity + delta_t * acceleration(before_velocity, before_position, before_time)\n",
    "    after_position = before_position + delta_t * before_velocity\n",
    "    after_time = before_time + delta_t\n",
    "    #\n",
    "    # append all the after values to their lists\n",
    "    #\n",
    "    velocities.append(after_velocity)\n",
    "    positions.append(after_position)\n",
    "    times.append(after_time)\n",
    "    \n",
    "velocities, positions, times"
   ]
  },
  {
   "cell_type": "markdown",
   "metadata": {},
   "source": [
    "## The Acceleration Function\n",
    "\n",
    "The function takes three arguments: a velocity, a position, and a time. It is supposed to return an acceleration.\n",
    "\n",
    "Here's what the accereration function would look like if we were still doing the drag racer problem:\n",
    "\n",
    "```\n",
    "def acceleration(velocity, position, time):\n",
    "    # For the simplest version of the drag racer, the acceleration was a constant 12 in mks units.\n",
    "    return 12\n",
    "```\n",
    "\n",
    "Notice that a function can take more arguments than it uses. The drag racer acceleration function doesn't \n",
    "use any of its arguments. That's fine. Having all those arguments allows us future flexibility.\n",
    "\n",
    "Take a look at the whiteboard where I have put the relationship between acceleration and position for an air cart on a spring.\n",
    "\n",
    "**You need to code a correct version of the acceleration function in the code cell below. Once you have a correct version, execute the code cell so that the kernel knows about your definition.**"
   ]
  },
  {
   "cell_type": "code",
   "execution_count": null,
   "metadata": {},
   "outputs": [],
   "source": [
    "def acceleration(velocity, position, time):\n",
    "    # The code below is for the drag racer. It isn't right for this problem. Fix it.\n",
    "    # You will need to use the variables k_over_m and resting_position from the initialization block.\n",
    "    return 12\n",
    "\n",
    "# Acceleration is a function. This line shows how the Jupyter notebook attempts to display your function.\n",
    "acceleration"
   ]
  },
  {
   "cell_type": "markdown",
   "metadata": {},
   "source": [
    "## Re-Execute the For Loop\n",
    "\n",
    "If you are here, you think you have a better definition for the acceleration function, and the kernel knows about it.\n",
    "\n",
    "**Re-execute the code cell that had the for loop. Now it should work fine.** "
   ]
  },
  {
   "cell_type": "markdown",
   "metadata": {},
   "source": [
    "## Make a Position vs. Time Graph\n",
    "\n",
    "**I have noticed that the following code cell often needs to be executed twice in order to show.**"
   ]
  },
  {
   "cell_type": "code",
   "execution_count": null,
   "metadata": {},
   "outputs": [],
   "source": [
    "import matplotlib.pyplot as plt\n",
    "\n",
    "plt.figure(figsize=(12, 6))\n",
    "\n",
    "plt.scatter(times, positions)\n",
    "\n",
    "plt.xlabel(\"Time (s)\")\n",
    "plt.ylabel(\"Position (m)\")\n",
    "\n",
    "plt.show()\n",
    "\n",
    "\"BAD NEWS: If you have done everything right, the oscillation grows -- which it definitely didn't do in the video.\""
   ]
  },
  {
   "cell_type": "markdown",
   "metadata": {},
   "source": [
    "## The Euler Method vs. the Euler-Cromer Method vs. the Midpoint Method\n",
    "\n",
    "You may have been bothered that we use before_velocity when we update the position:\n",
    "\n",
    "```\n",
    "after_position = before_position + delta_t * before_velocity\n",
    "```\n",
    "\n",
    "This is a choice. There are other possibilities. This choice is called the Euler Method.\n",
    "\n",
    "How about using after_velocity instead:\n",
    "\n",
    "```\n",
    "after_position = before_position + delta_t * after_velocity\n",
    "```\n",
    "\n",
    "This choice is called the [Euler-Cromer Method](http://liceocuneo.it/oddenino/wp-content/uploads/sites/2/Alan-Cromer-Stable-solutions-using-the-Euler-Approximation-American-Journal-of-Physics-49-455-1981.pdf) and it was published in 1981.\n",
    "\n",
    "How about being \"democratic\" about it and using:\n",
    "\n",
    "```\n",
    "after_position = before_position + delta_t * (after_velocity + before_velocity) / 2\n",
    "\n",
    "```\n",
    "\n",
    "The democratic choice is called the Midpoint Method.\n",
    "\n",
    "It happens that the Euler-Cromer method works darned well for the air glider on a spring.\n",
    "\n",
    "**Finish today by doing the following:**\n",
    "\n",
    "* Change time_steps to 550 to give 5.5 seconds of simulation &mdash; in the video that was how long 13 oscillation cycles took.\n",
    "* Let's triple the amplitude to 0.033! Will that affect the number of oscillations?\n",
    "* Be sure to re-execute the initialization code cell or the preceding two changes will have no effect.\n",
    "* Change the for loop to use the Euler-Cromer Method. Don't over-think this. If you understand the discussion above you'll see that it is a one-word change. Once you've done it, re-execute the for-loop code cell.\n",
    "* Execute the plot cell code below. How many complete oscillation cycles do you count?\n",
    "* Read the conclusion. Have Ben or me check your results and ask any questions you have.\n",
    "* We will have a question for you having to do with the k_over_m parameter."
   ]
  },
  {
   "cell_type": "markdown",
   "metadata": {},
   "source": [
    "## Re-Make the Position vs. Time Graph"
   ]
  },
  {
   "cell_type": "code",
   "execution_count": null,
   "metadata": {},
   "outputs": [],
   "source": [
    "plt.figure(figsize=(12, 6))\n",
    "\n",
    "plt.scatter(times, positions)\n",
    "\n",
    "plt.xlabel(\"Time (s)\")\n",
    "plt.ylabel(\"Position (m)\")\n",
    "\n",
    "plt.show()\n",
    "\n",
    "\"GOOD NEWS: The Euler-Cromer method works well for the air-cart-on-a-spring problem.\""
   ]
  },
  {
   "cell_type": "markdown",
   "metadata": {},
   "source": [
    "## Conclusion\n",
    "\n",
    "Compare with the [the video](https://youtu.be/gvPNrdfNo9g?t=14). Savor the success.\n",
    "\n",
    "Error can get out of control with numerical simulation even in very simple problems. A lot of what we will be doing is implementing strategies to reduce error.\n",
    "\n",
    "Sadly, although the Euler-Cromer method worked perfectly for this problem, there are two issues:\n",
    "\n",
    "* We don't have any theory yet as to why it worked better than the Euler method.\n",
    "* On many problems the Euler-Cromer method does not work better &mdash; we will be forced to introduce something more sophisticated called Runge-Kutta during the third week.\n",
    "\n",
    "In parallel with developing our Python programming chops and our numerical methods, we will also be trying other physics problems &mdash; including two-dimensional problems."
   ]
  }
 ],
 "metadata": {
  "kernelspec": {
   "display_name": "Python 3",
   "language": "python",
   "name": "python3"
  },
  "language_info": {
   "codemirror_mode": {
    "name": "ipython",
    "version": 3
   },
   "file_extension": ".py",
   "mimetype": "text/x-python",
   "name": "python",
   "nbconvert_exporter": "python",
   "pygments_lexer": "ipython3",
   "version": "3.7.4"
  }
 },
 "nbformat": 4,
 "nbformat_minor": 2
}
