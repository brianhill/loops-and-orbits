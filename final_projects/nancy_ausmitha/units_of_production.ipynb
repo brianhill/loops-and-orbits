{
 "cells": [
  {
   "cell_type": "markdown",
   "metadata": {},
   "source": [
    "# Units of Production Depreciation Method\n"
   ]
  },
  {
   "cell_type": "code",
   "execution_count": 1,
   "metadata": {},
   "outputs": [],
   "source": [
    "import numpy as np\n",
    "\n",
    "%matplotlib inline\n",
    "import matplotlib.pyplot as plt\n",
    "\n",
    "import unittest"
   ]
  },
  {
   "cell_type": "markdown",
   "metadata": {},
   "source": [
    "## Function of Units of Production Depreciation and Unit Tests"
   ]
  },
  {
   "cell_type": "code",
   "execution_count": 2,
   "metadata": {},
   "outputs": [
    {
     "name": "stderr",
     "output_type": "stream",
     "text": [
      "test_depreciation_function_month_0_to_1 (__main__.unitsofproductionTests) ... ok\n",
      "test_depreciation_function_one_year (__main__.unitsofproductionTests) ... ok\n",
      "test_depreciation_function_year_4_to_5 (__main__.unitsofproductionTests) ... ok\n",
      "\n",
      "----------------------------------------------------------------------\n",
      "Ran 3 tests in 0.002s\n",
      "\n",
      "OK\n"
     ]
    },
    {
     "data": {
      "text/plain": [
       "<unittest.runner.TextTestResult run=3 errors=0 failures=0>"
      ]
     },
     "execution_count": 2,
     "metadata": {},
     "output_type": "execute_result"
    }
   ],
   "source": [
    "def units_of_production(prior_asset_value, original_asset_value, residual_asset_value, estimated_production, actual_production):\n",
    "    depreciation_expense = (original_asset_value - residual_asset_value) * (actual_production / estimated_production)\n",
    "    \n",
    "    next_asset_value = prior_asset_value - depreciation_expense \n",
    "\n",
    "    # calculate new value\n",
    "    \n",
    "    if next_asset_value <= residual_asset_value:\n",
    "        # worth only the residual\n",
    "        return residual_asset_value\n",
    "    else:\n",
    "        # still worth more than residual\n",
    "        return next_asset_value\n",
    "    \n",
    "### Unit tests ###\n",
    "\n",
    "class unitsofproductionTests(unittest.TestCase):\n",
    "    \n",
    "    def test_depreciation_function_month_0_to_1(self):\n",
    "        depreciated_value = units_of_production(22000.0, 22000.00, 2000.0, 10000.0, 50.0)\n",
    "        expected_value = 22000.0 - (22000.0 -2000.0) * 50.0 / 10000.0\n",
    "        self.assertAlmostEqual(depreciated_value, expected_value)\n",
    "        \n",
    "    def test_depreciation_function_year_4_to_5(self):\n",
    "        depreciated_value = units_of_production(4000.0, 22000.0, 2000.0, 10000.0, 1000.0)\n",
    "        expected_value = 4000.0 - (22000.0 - 2000.0) * (1000.0 / 10000.0)\n",
    "        self.assertAlmostEqual(depreciated_value, expected_value)\n",
    "        \n",
    "    def test_depreciation_function_one_year(self):\n",
    "        depreciated_value = units_of_production(22000.0, 22000.00, 2000.0, 10000.0, 2000.0)\n",
    "        expected_value = 22000 - (22000.0 - 2000.0) * (2000.0 / 10000.0)\n",
    "        self.assertAlmostEqual(depreciated_value, expected_value)\n",
    "        \n",
    "testSuite = unittest.TestLoader().loadTestsFromName(\"__main__.unitsofproductionTests\")\n",
    "testRunner = unittest.TextTestRunner(verbosity=2)\n",
    "testRunner.run(testSuite)"
   ]
  },
  {
   "cell_type": "markdown",
   "metadata": {},
   "source": [
    "## Asset 1\n",
    "* original cost: $22,000\n",
    "\n",
    "* residual value: $2,000\n",
    "\n",
    "* estimated total production: 10,000 units"
   ]
  },
  {
   "cell_type": "code",
   "execution_count": 3,
   "metadata": {},
   "outputs": [],
   "source": [
    "year_1 = 5000.0\n",
    "year_2 = 1000.0\n",
    "year_3 = 500.0\n",
    "year_4 = 1500.0\n",
    "year_5 = 2000.0\n",
    "\n",
    "total_years = 8\n",
    "\n",
    "def production_amount(year_number):\n",
    "    if year_number == 1:\n",
    "        return year_1\n",
    "    elif year_number == 2:\n",
    "        return year_2\n",
    "    elif year_number == 3:\n",
    "        return year_3\n",
    "    elif year_number == 4:\n",
    "        return year_4\n",
    "    else: \n",
    "        return year_5\n",
    "    \n",
    "year_numbers = np.arange(1, total_years + 1)"
   ]
  },
  {
   "cell_type": "code",
   "execution_count": 4,
   "metadata": {},
   "outputs": [],
   "source": [
    "\n",
    "times_to_plot = np.arange(2000.0, 2000.0 + total_years + 1, 1.0)\n",
    "\n",
    "asset_values_to_plot = np.zeros((total_years + 1,))\n",
    "\n",
    "asset_values_to_plot[0] = 22000.0\n",
    "\n",
    "for i in year_numbers:\n",
    "    # The units_of_production function is expecting the following arguments:\n",
    "    # prior_asset_value, original_asset_value, residual_asset_value, estimated_production, actual_production\n",
    "    actual_production = production_amount(i)\n",
    "    asset_values_to_plot[i] = units_of_production(asset_values_to_plot[i - 1], 22000.0, 2000.0, 10000.0, actual_production)"
   ]
  },
  {
   "cell_type": "code",
   "execution_count": 5,
   "metadata": {},
   "outputs": [
    {
     "data": {
      "image/png": "[encoded data removed]",
      "text/plain": [
       "<Figure size 432x288 with 1 Axes>"
      ]
     },
     "metadata": {
      "needs_background": "light"
     },
     "output_type": "display_data"
    }
   ],
   "source": [
    "plt.plot(times_to_plot, asset_values_to_plot)\n",
    "\n",
    "plt.xlabel(\"Times (Years)\")\n",
    "plt.ylabel(\"Asset Value (dollars)\")\n",
    "plt.grid()\n",
    "plt.show()"
   ]
  },
  {
   "cell_type": "markdown",
   "metadata": {},
   "source": [
    "## Asset 2\n",
    "* original cost: $8,000\n",
    "\n",
    "*  residual value: $300\n",
    "\n",
    "* estimated total production: 20,000 units"
   ]
  },
  {
   "cell_type": "code",
   "execution_count": 6,
   "metadata": {},
   "outputs": [],
   "source": [
    "two_year_1 = 7000.0\n",
    "two_year_2 = 1300.0\n",
    "two_year_3 = 4700.0\n",
    "two_year_4 = 1500.0\n",
    "two_year_5 = 2000.0\n",
    "two_year_6 = 500.0\n",
    "two_year_7 = 2000.0\n",
    "two_year_8 = 1000.0\n",
    "\n",
    "def production_amount_2(year_number):\n",
    "    if year_number == 1:\n",
    "        return two_year_1\n",
    "    elif year_number == 2:\n",
    "        return two_year_2\n",
    "    elif year_number == 3:\n",
    "        return two_year_3\n",
    "    elif year_number == 4:\n",
    "        return two_year_4\n",
    "    elif year_number == 5:\n",
    "        return two_year_5\n",
    "    elif year_number == 6:\n",
    "        return two_year_6\n",
    "    elif year_number == 7:\n",
    "        return two_year_7\n",
    "    else:\n",
    "        return two_year_8\n"
   ]
  },
  {
   "cell_type": "code",
   "execution_count": 7,
   "metadata": {},
   "outputs": [],
   "source": [
    "asset_2_values_to_plot = np.zeros((total_years + 1,))\n",
    "\n",
    "asset_2_values_to_plot[0] = 8000.0\n",
    "\n",
    "\n",
    "for i in year_numbers:\n",
    "    # The units_of_production function is expecting the following arguments:\n",
    "    # prior_asset_value, original_asset_value, residual_asset_value, estimated_production, actual_production\n",
    "    actual_production_2 = production_amount_2(i)\n",
    "    asset_2_values_to_plot[i] = units_of_production(asset_2_values_to_plot[i - 1], 8000.0, 300.0, 20000.0, actual_production_2)"
   ]
  },
  {
   "cell_type": "code",
   "execution_count": 8,
   "metadata": {},
   "outputs": [
    {
     "data": {
      "image/png": "[encoded data removed]",
      "text/plain": [
       "<Figure size 432x288 with 1 Axes>"
      ]
     },
     "metadata": {
      "needs_background": "light"
     },
     "output_type": "display_data"
    }
   ],
   "source": [
    "plt.plot(times_to_plot, asset_2_values_to_plot)\n",
    "\n",
    "plt.xlabel(\"Times (Years)\")\n",
    "plt.ylabel(\"Asset Value (dollars)\")\n",
    "plt.grid()\n",
    "plt.show()\n",
    "\n"
   ]
  },
  {
   "cell_type": "markdown",
   "metadata": {},
   "source": [
    "### Show the Portfolio as a Stacked Plot\n",
    "\n",
    "We used this example code:\n",
    "\n",
    "* [Tutorial on Stackplot Feature](https://matplotlib.org/gallery/lines_bars_and_markers/stackplot_demo.html)"
   ]
  },
  {
   "cell_type": "code",
   "execution_count": 9,
   "metadata": {},
   "outputs": [
    {
     "data": {
      "image/png": "[encoded data removed]",
      "text/plain": [
       "<Figure size 432x288 with 1 Axes>"
      ]
     },
     "metadata": {
      "needs_background": "light"
     },
     "output_type": "display_data"
    }
   ],
   "source": [
    "labels = [\"Asset 1\", \"Asset 2\"]\n",
    "\n",
    "figure, axis = plt.subplots()\n",
    "plt.xlabel(\"Times (Years)\")\n",
    "plt.ylabel(\"Portfolio (dollars)\")\n",
    "axis.stackplot(times_to_plot, asset_values_to_plot, asset_2_values_to_plot, labels=labels)\n",
    "\n",
    "\n",
    "axis.legend(loc='upper right')\n",
    "\n",
    "plt.show()\n"
   ]
  }
 ],
 "metadata": {
  "kernelspec": {
   "display_name": "Python 3",
   "language": "python",
   "name": "python3"
  },
  "language_info": {
   "codemirror_mode": {
    "name": "ipython",
    "version": 3
   },
   "file_extension": ".py",
   "mimetype": "text/x-python",
   "name": "python",
   "nbconvert_exporter": "python",
   "pygments_lexer": "ipython3",
   "version": "3.7.4"
  }
 },
 "nbformat": 4,
 "nbformat_minor": 2
}
