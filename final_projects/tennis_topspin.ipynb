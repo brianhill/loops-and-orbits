{
 "cells": [
  {
   "cell_type": "markdown",
   "metadata": {},
   "source": [
    "# Final Project Jupyter Notebook\n",
    "\n",
    "## Tennis Forehand with Changing Spin in 3D\n",
    "\n",
    "### By: Andy Glover and Gaby Tevez\n",
    "\n",
    "Trajectory of tennis balls in flight using the research paper \"Measurements of drag and lift on tennis balls in flight\" by Rod Cross and Crawford Lindsey"
   ]
  },
  {
   "cell_type": "code",
   "execution_count": 1,
   "metadata": {},
   "outputs": [],
   "source": [
    "# The following import statement makes the plotting library available to us. There is also a\n",
    "# statement to work around a known Jupyter bug: https://github.com/jupyter/notebook/issues/3670\n",
    "%matplotlib inline\n",
    "import matplotlib.pyplot as plt\n",
    "from mpl_toolkits import mplot3d\n",
    "from math import sin, cos, atan2, sqrt, pi\n",
    "import numpy as np\n",
    "\n",
    "# Initial speed of tennis ball in meters per second\n",
    "initial_speed = 45\n",
    "\n",
    "\n",
    "# Initial angle of tennis ball in degrees from horizontal\n",
    "initial_angle_from_horizontal = 6\n",
    "\n",
    "initial_angle_xy = 90\n",
    "\n",
    "# Simulation time step in seconds\n",
    "delta_t = 0.03\n",
    "\n",
    "# Distance to baseline in meters\n",
    "distance_to_baseline = 23.77\n",
    "\n",
    "#following variables will be used to calculate drag and lift force\n",
    "coefficient_drag = 0.507\n",
    "radius = 0.0335     #average radius of the tennis ball in meters\n",
    "area_of_ball = pi * radius ** 2\n",
    "density_of_air = 1.225   #density of air at 15 degrees celsius\n",
    "\n",
    "# fraction of lift given to slice -- arbitrary\n",
    "fraction_to_slice = 0.25\n",
    "\n",
    "#rpm needs to converted to radians/sec\n",
    "initial_rpm = 5000\n",
    "conversion_to_w = pi / 30   #conversion factor \n",
    "initial_omega = conversion_to_w * initial_rpm # w is used for how fast the ball is spinning in radians per second\n",
    "decline_rate = 0.02 # loses two percent of its speed for every second\n",
    "\n",
    "mass = 0.05803  # mass of tennis balls in kg\n",
    "g = 9.81\n"
   ]
  },
  {
   "cell_type": "markdown",
   "metadata": {},
   "source": [
    "## Function to get Components of a Vector\n",
    "\n",
    "Used from our past notebook, this is a single function that has both components returned as a tuple.\n"
   ]
  },
  {
   "cell_type": "code",
   "execution_count": 2,
   "metadata": {},
   "outputs": [],
   "source": [
    "# computes horizontal and vertical components of a vector and returns them as a tuple\n",
    "def vector_components(length, angle_from_horizontal):\n",
    "    # convert angle from degrees to radians\n",
    "    angle = angle_from_horizontal * pi / 180.0\n",
    "    # this line is good\n",
    "    horizontal_component = length * cos(angle)\n",
    "    # fix the next line\n",
    "    vertical_component = length * sin(angle)\n",
    "    # return both components as a tuple\n",
    "    return horizontal_component, vertical_component\n",
    "\n",
    "initial_horizontal_velocity, initial_vertical_velocity = vector_components(initial_speed, initial_angle_from_horizontal)\n"
   ]
  },
  {
   "cell_type": "markdown",
   "metadata": {},
   "source": [
    "## Functions to get Angle and Speed from Components\n",
    "\n",
    "This function gives us the angle and the speed from the components to be used in the acceleration code\n"
   ]
  },
  {
   "cell_type": "code",
   "execution_count": 3,
   "metadata": {},
   "outputs": [],
   "source": [
    "# sometimes we need to go from components to angle and speed -- instead of from angle and speed to components\n",
    "\n",
    "# get angle from components using atan2 version of arctangent function\n",
    "def angle_from_velocity(horizontal_velocity, vertical_velocity):\n",
    "    # use the arctangent function\n",
    "    angle = atan2(vertical_velocity, horizontal_velocity)  \n",
    "    # we are working in degrees -- convert radians to degrees\n",
    "    angle_in_degrees = angle * 180.0 / pi\n",
    "    # return the result\n",
    "    return angle_in_degrees\n",
    "\n",
    "# get speed from components using Pythagorean theorem\n",
    "def speed_from_velocity(horizontal_velocity, vertical_velocity):\n",
    "    # pythagorean theorem\n",
    "    hypotenuse = sqrt(vertical_velocity **2 + horizontal_velocity **2)\n",
    "    # return the result\n",
    "    return hypotenuse\n"
   ]
  },
  {
   "cell_type": "markdown",
   "metadata": {},
   "source": [
    "# Spin Function\n",
    "#### Spin is changing so we need to add the changes of spin into our coefficient of lift function"
   ]
  },
  {
   "cell_type": "code",
   "execution_count": 4,
   "metadata": {},
   "outputs": [],
   "source": [
    "def spin(time):\n",
    "    current_omega = initial_omega - decline_rate * time * initial_omega\n",
    "    spins =  - current_omega * radius / initial_speed\n",
    "    return spins\n"
   ]
  },
  {
   "cell_type": "markdown",
   "metadata": {},
   "source": [
    "## Function to get Acceleration Components as a Tuple\n",
    "\n",
    "This function has been substantially modified from the baseball notebook, in two ways:\n",
    "\n",
    "* we have lift as well as drag\n",
    "* we have a third axis &mdash; and have given 25% of the lift to this new axis &mdash; to capture slice"
   ]
  },
  {
   "cell_type": "code",
   "execution_count": 5,
   "metadata": {},
   "outputs": [],
   "source": [
    "def acceleration_with_drag_and_lift(x_velocity, y_velocity, z_velocity, time):\n",
    "    angle = angle_from_velocity(x_velocity, y_velocity)\n",
    "    speed = speed_from_velocity(x_velocity, y_velocity)\n",
    "    drag_strength = 0.5 * coefficient_drag * density_of_air * area_of_ball * speed ** 2 / mass\n",
    "    spins = spin(time)\n",
    "    coefficient_lift = 0.46 * spins\n",
    "    lift_strength = 0.5 * coefficient_lift * density_of_air * area_of_ball * speed ** 2 / mass\n",
    "    z_acc = fraction_to_slice * lift_strength # quite a fraction of lift to slice\n",
    "    z_acc = sqrt (1 - fraction_to_slice**2) * z_acc # give remainder of lift to the x and y components\n",
    "    horizontal_drag_component, vertical_drag_component =  vector_components(drag_strength, angle)\n",
    "    horizontal_lift_component, vertical_lift_component =  vector_components(lift_strength, angle)\n",
    "    horizontal_acc = - horizontal_drag_component - vertical_lift_component\n",
    "    vertical_acc = horizontal_lift_component - vertical_drag_component - g\n",
    "    return horizontal_acc, vertical_acc, z_acc"
   ]
  },
  {
   "cell_type": "markdown",
   "metadata": {},
   "source": [
    "## The While Loop That Does the Work\n",
    "\n",
    "This is also substantially similar to the baseball notebook, except that a third axis is now present."
   ]
  },
  {
   "cell_type": "code",
   "execution_count": 6,
   "metadata": {},
   "outputs": [],
   "source": [
    "# Initialize the x, y, and z velocities\n",
    "x_velocities = [initial_horizontal_velocity]\n",
    "y_velocities = [initial_vertical_velocity]\n",
    "z_velocities = [0]\n",
    "# Initialize the x, y, and z positions\n",
    "x_positions = [0.0]\n",
    "y_positions = [0.8] #the height where the tennis ball is first contacted\n",
    "z_positions = [0.0]  \n",
    "# Initialize the times\n",
    "times = [0.0]\n",
    "\n",
    "# We want to go until the tennis ball lands on the court. Add a while loop that stops \n",
    "# when the height of the ball is less than 0.\n",
    "while x_positions[-1] < distance_to_baseline and y_positions[-1] > 0:\n",
    "    #\n",
    "    # get all the before values\n",
    "    #\n",
    "    # velocities\n",
    "    before_x_velocity = x_velocities[-1]\n",
    "    before_y_velocity = y_velocities[-1]\n",
    "    before_z_velocity = z_velocities[-1]\n",
    "    # positions\n",
    "    before_x_position = x_positions[-1]\n",
    "    before_y_position = y_positions[-1]\n",
    "    before_z_position = z_positions[-1]\n",
    "    # time\n",
    "    before_time = times[-1]\n",
    "    #\n",
    "    # use the new acceleration_with_drag_and_lift function to get the accelerations\n",
    "    #\n",
    "    x_acceleration, y_acceleration, z_acceleration = acceleration_with_drag_and_lift(before_x_velocity, before_y_velocity, before_z_velocity, before_time)\n",
    "    #\n",
    "    # bog-standard Euler update code -- in two dimensions\n",
    "    #\n",
    "    # update the x, y, and z velocities\n",
    "    after_x_velocity = before_x_velocity + delta_t * x_acceleration\n",
    "    after_y_velocity = before_y_velocity + delta_t * y_acceleration\n",
    "    after_z_velocity = before_z_velocity + delta_t * z_acceleration\n",
    "    \n",
    "    # update the x, y, and z positions\n",
    "     \n",
    "    after_x_position = before_x_position + delta_t * before_x_velocity\n",
    "    after_y_position = before_y_position + delta_t * before_y_velocity\n",
    "    after_z_position = before_z_position + delta_t * before_z_velocity\n",
    "    # update time\n",
    "    after_time = before_time + delta_t\n",
    "    \n",
    "\n",
    "    # append all the after values to their lists\n",
    "    #\n",
    "    x_velocities.append(after_x_velocity)\n",
    "    y_velocities.append(after_y_velocity)\n",
    "    z_velocities.append(after_z_velocity)\n",
    "    x_positions.append(after_x_position)\n",
    "    y_positions.append(after_y_position)\n",
    "    z_positions.append(after_z_position)\n",
    "    times.append(after_time)\n",
    "    \n",
    "    \n",
    "    \n",
    "\n"
   ]
  },
  {
   "cell_type": "markdown",
   "metadata": {},
   "source": [
    "## Graphs\n"
   ]
  },
  {
   "cell_type": "markdown",
   "metadata": {},
   "source": [
    "### The Net\n",
    "To creat the net, we need to create a np.arange of x and y positions to make a line in the graph. The net is 0.91 meters high and its 11.89 meters from the baseline"
   ]
  },
  {
   "cell_type": "code",
   "execution_count": 7,
   "metadata": {},
   "outputs": [],
   "source": [
    "y = np.arange(0.00, 1.00, 0.01)\n",
    "x = np.zeros(len(y))\n",
    "for i in range (0, len(x)): \n",
    "    x[i] = 11.89"
   ]
  },
  {
   "cell_type": "markdown",
   "metadata": {},
   "source": [
    "## Side View Showing X-Y Motion"
   ]
  },
  {
   "cell_type": "code",
   "execution_count": 8,
   "metadata": {},
   "outputs": [
    {
     "data": {
      "image/png": "[encoded data removed]",
      "text/plain": [
       "<Figure size 936x108 with 1 Axes>"
      ]
     },
     "metadata": {
      "needs_background": "light"
     },
     "output_type": "display_data"
    }
   ],
   "source": [
    "plt.figure(figsize=(13, 1.5))\n",
    "\n",
    "plt.scatter(x_positions, y_positions, color ='lawngreen')\n",
    "\n",
    "plt.scatter(x, 0.91 * y, color ='black')\n",
    "\n",
    "plt.xlabel(\"Horizontal position (m)\")\n",
    "plt.ylabel(\"Vertical position (m)\")\n",
    "\n",
    "plt.xlim(-2, 30)\n",
    "plt.ylim(0, 2)\n",
    "\n",
    "plt.show()"
   ]
  },
  {
   "cell_type": "markdown",
   "metadata": {},
   "source": [
    "## Top View Showing X-Z Motion  (Bird's Eye View)"
   ]
  },
  {
   "cell_type": "code",
   "execution_count": 9,
   "metadata": {},
   "outputs": [
    {
     "data": {
      "image/png": "[encoded data removed]",
      "text/plain": [
       "<Figure size 936x108 with 1 Axes>"
      ]
     },
     "metadata": {
      "needs_background": "light"
     },
     "output_type": "display_data"
    }
   ],
   "source": [
    "plt.figure(figsize=(13, 1.5))\n",
    "\n",
    "plt.scatter(x_positions, z_positions, color ='lawngreen')\n",
    "\n",
    "court_z_width = 2.0 # amount of the width of the court we are showing on the top view\n",
    "\n",
    "plt.scatter(x, court_z_width * (y - 0.5), color ='black')\n",
    "\n",
    "plt.xlabel(\"Horizontal position (m)\")\n",
    "plt.ylabel(\"Slice position (m)\")\n",
    "\n",
    "plt.xlim(-2, 30)\n",
    "plt.ylim(-court_z_width / 2.0, court_z_width / 2.0)\n",
    "\n",
    "plt.show()"
   ]
  },
  {
   "cell_type": "markdown",
   "metadata": {},
   "source": [
    "## 3-D Plots (Hawk Eye)\n",
    "\n",
    "We googled how to plot our data in a 3D plot. It looks a lot like a hawk eye view of the ball which in tennis can be used to challenge the referee's calls on a ball."
   ]
  },
  {
   "cell_type": "code",
   "execution_count": 14,
   "metadata": {},
   "outputs": [
    {
     "data": {
      "image/png": "[encoded data removed]",
      "text/plain": [
       "<Figure size 936x144 with 1 Axes>"
      ]
     },
     "metadata": {
      "needs_background": "light"
     },
     "output_type": "display_data"
    }
   ],
   "source": [
    "plt.figure(figsize=(13, 2))\n",
    "b = np.zeros(len(y))\n",
    "ax = plt.axes(projection='3d')\n",
    "ax.plot3D(x, court_z_width * y - 1, 0.91, color ='black')\n",
    "ax.plot3D(x_positions, z_positions, y_positions, 'limegreen')\n",
    "ax.plot3D(x, b - 1, y, color ='black')\n",
    "ax.plot3D(x, b + 1, y, color ='black')\n",
    "ax.set_xlabel('Court Length(m)')\n",
    "ax.set_ylabel('Court Width(m)')\n",
    "ax.set_zlabel('Ball Height(m)');\n",
    "\n",
    "\n",
    "ax.set_xlim(0, 30); ax.set_ylim(-1, 1); ax.set_zlim(0, 2);\n"
   ]
  },
  {
   "cell_type": "markdown",
   "metadata": {},
   "source": [
    "## Conclusion\n",
    "\n",
    "We have simulated both (downward) lift and slice by using a realistic function for the coefficient of lift. It is downward for topspin. The amount of slice was arbitrary. We gave 25% of the lift to the slice direction."
   ]
  }
 ],
 "metadata": {
  "kernelspec": {
   "display_name": "Python 3",
   "language": "python",
   "name": "python3"
  },
  "language_info": {
   "codemirror_mode": {
    "name": "ipython",
    "version": 3
   },
   "file_extension": ".py",
   "mimetype": "text/x-python",
   "name": "python",
   "nbconvert_exporter": "python",
   "pygments_lexer": "ipython3",
   "version": "3.7.4"
  }
 },
 "nbformat": 4,
 "nbformat_minor": 2
}
