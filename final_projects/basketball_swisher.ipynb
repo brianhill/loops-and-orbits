{
 "cells": [
  {
   "cell_type": "markdown",
   "metadata": {},
   "source": [
    "# Tragectory of a Basketball - Final Project\n",
    "\n",
    "## Venessa Ramirez\n",
    "## Jack Heymach \n"
   ]
  },
  {
   "cell_type": "code",
   "execution_count": 12,
   "metadata": {},
   "outputs": [],
   "source": [
    "import numpy as np\n",
    "\n",
    "initial_speed = 10.0\n",
    "\n",
    "initial_angle = 50\n",
    "\n",
    "initial_height = 2.0\n",
    "\n",
    "# Distance to backboard in meters\n",
    "distance_to_backboard = 8\n",
    "\n",
    "# Hoop height to determine swish\n",
    "\n",
    "hoop_height = 3\n",
    "\n",
    "air_constant_over_m = 0.012\n",
    "\n",
    "g = 9.81\n",
    "\n",
    "# Simulation time step in seconds\n",
    "delta_t = 0.035\n",
    "\n",
    "\n",
    "from math import sin, cos, atan2, sqrt, pi\n",
    "\n",
    "%matplotlib inline\n",
    "import matplotlib.pyplot as plt"
   ]
  },
  {
   "cell_type": "markdown",
   "metadata": {},
   "source": []
  },
  {
   "cell_type": "code",
   "execution_count": 14,
   "metadata": {},
   "outputs": [
    {
     "data": {
      "text/plain": [
       "(6.427876096865393, 7.66044443118978)"
      ]
     },
     "execution_count": 14,
     "metadata": {},
     "output_type": "execute_result"
    }
   ],
   "source": [
    "def vector_components(length, angle_from_horizontal):\n",
    "    # convert angle from degrees to radians\n",
    "    angle = angle_from_horizontal * pi / 180.0\n",
    "    horizontal_component = length * cos(angle)\n",
    "    vertical_component = length * sin(angle)\n",
    "    # return both components as a tuple\n",
    "    return horizontal_component, vertical_component\n",
    "\n",
    "\n",
    "initial_horizontal_velocity, initial_vertical_velocity = vector_components(initial_speed, initial_angle)\n",
    "initial_horizontal_velocity, initial_vertical_velocity"
   ]
  },
  {
   "cell_type": "markdown",
   "metadata": {},
   "source": [
    "## Getting Angle and Speed"
   ]
  },
  {
   "cell_type": "code",
   "execution_count": 15,
   "metadata": {},
   "outputs": [
    {
     "data": {
      "text/plain": [
       "0.9999999999999999"
      ]
     },
     "execution_count": 15,
     "metadata": {},
     "output_type": "execute_result"
    }
   ],
   "source": [
    "def angle_from_velocity(horizontal_velocity, vertical_velocity):\n",
    "    angle = atan2(vertical_velocity, horizontal_velocity)  \n",
    "    # convert radians to degrees\n",
    "    angle_in_degrees = angle * 180.0 / pi\n",
    "    # return the result\n",
    "    return angle_in_degrees\n",
    "\n",
    "# get speed from components using Pythagorean theorem\n",
    "def speed_from_velocity(horizontal_velocity, vertical_velocity):\n",
    "    # pythagorean theorem\n",
    "    hypotenuse = sqrt(horizontal_velocity**2 + vertical_velocity**2)\n",
    "    # return the result\n",
    "    return hypotenuse\n",
    "\n",
    "speed_from_velocity(sqrt(3.0)/2.0, 0.5)"
   ]
  },
  {
   "cell_type": "markdown",
   "metadata": {},
   "source": [
    "## Acceleration with Drag"
   ]
  },
  {
   "cell_type": "code",
   "execution_count": 16,
   "metadata": {},
   "outputs": [
    {
     "data": {
      "text/plain": [
       "(-15.004736850919702, -20.004449632854342)"
      ]
     },
     "execution_count": 16,
     "metadata": {},
     "output_type": "execute_result"
    }
   ],
   "source": [
    "# The function will return a tuple consisting of the horizontal acceleration and the vertical acceleration.\n",
    "def acceleration_with_drag(horizontal_velocity, vertical_velocity):\n",
    "    angle = angle_from_velocity(horizontal_velocity, vertical_velocity)\n",
    "    speed = speed_from_velocity(horizontal_velocity, vertical_velocity)\n",
    "    strength_of_drag = air_constant_over_m * speed**2\n",
    "    direction_of_drag = angle + 180\n",
    "    horizontal_component, vertical_component = vector_components(strength_of_drag, direction_of_drag)\n",
    "    return horizontal_component, vertical_component - g\n",
    "\n",
    "acceleration_with_drag(32.16, 21.85)"
   ]
  },
  {
   "cell_type": "markdown",
   "metadata": {},
   "source": [
    "## The Swish Function"
   ]
  },
  {
   "cell_type": "code",
   "execution_count": 17,
   "metadata": {},
   "outputs": [],
   "source": [
    "hoop_x_left = distance_to_backboard - 0.7\n",
    "hoop_x_right = hoop_x_left + 0.5\n",
    "hoop_x_center = (hoop_x_left + hoop_x_right) / 2.0\n",
    "\n",
    "fudge = 0.15 # amount above or below hoop we will count as going in for a swish\n",
    "hoop_height = 3\n",
    "\n",
    "def swish(x_position, y_position):\n",
    "    if hoop_x_left < x_position < hoop_x_right and \\\n",
    "        hoop_height - fudge < y_position < hoop_height + fudge:\n",
    "        return True\n",
    "    else:\n",
    "        # No swish\n",
    "        return False\n",
    "    "
   ]
  },
  {
   "cell_type": "markdown",
   "metadata": {},
   "source": [
    "## The While Loop That Does the Work\n"
   ]
  },
  {
   "cell_type": "code",
   "execution_count": 18,
   "metadata": {},
   "outputs": [],
   "source": [
    "# Initialize the x and y velocities\n",
    "x_velocities = [initial_horizontal_velocity]\n",
    "y_velocities = [initial_vertical_velocity]\n",
    "# Initialize the x and y positions\n",
    "x_positions = [0.0]\n",
    "y_positions = [initial_height]\n",
    "# Initialize the times\n",
    "times = [0.0]\n",
    "\n",
    "while y_positions[-1] > 0 and len(times) < 100:\n",
    "    #\n",
    "    # get all the before values\n",
    "    #\n",
    "    # velocities\n",
    "    before_x_velocity = x_velocities[-1]\n",
    "    before_y_velocity = y_velocities[-1]\n",
    "    # positions\n",
    "    before_x_position = x_positions[-1]\n",
    "    before_y_position = y_positions[-1]\n",
    "    # time\n",
    "    before_time = times[-1]\n",
    "    #\n",
    "    # use the new acceleration_with_drag function to get the accelerations\n",
    "    #\n",
    "    x_acceleration, y_acceleration = acceleration_with_drag(before_x_velocity, before_y_velocity)\n",
    "    #\n",
    "    # bog-standard Euler update code -- in two dimensions\n",
    "    #\n",
    "    # update the x and y velocities\n",
    "    after_x_velocity = before_x_velocity + delta_t * x_acceleration\n",
    "    after_y_velocity = before_y_velocity + delta_t * y_acceleration\n",
    "    # update the x and y positions\n",
    "    after_x_position = before_x_position + delta_t * before_x_velocity\n",
    "    after_y_position = before_y_position + delta_t * before_y_velocity\n",
    "    \n",
    "    if after_x_position > distance_to_backboard:\n",
    "        # turn the ball around!\n",
    "        distance_past_backboard = after_x_position - distance_to_backboard\n",
    "        after_x_position = distance_to_backboard - distance_past_backboard\n",
    "        after_x_velocity = -1.0 * after_x_velocity\n",
    "        \n",
    "    # Muah-ha-ha -- that's enought to do a reflection -- now see if we've swished\n",
    "    if swish(after_x_position, after_y_position):\n",
    "        after_x_position = hoop_x_center\n",
    "        after_x_velocity = 0.0\n",
    "        after_y_velocity = -0.2\n",
    "    \n",
    "    # update time\n",
    "    after_time = before_time + delta_t\n",
    "    #\n",
    "    # append all the after values to their lists\n",
    "    #\n",
    "    x_velocities.append(after_x_velocity)\n",
    "    y_velocities.append(after_y_velocity)\n",
    "    x_positions.append(after_x_position)\n",
    "    y_positions.append(after_y_position)\n",
    "    times.append(after_time)\n"
   ]
  },
  {
   "cell_type": "markdown",
   "metadata": {},
   "source": [
    "## Graphs\n"
   ]
  },
  {
   "cell_type": "code",
   "execution_count": 19,
   "metadata": {
    "scrolled": false
   },
   "outputs": [
    {
     "data": {
      "image/png": "[encoded data removed]",
      "text/plain": [
       "<Figure size 648x864 with 1 Axes>"
      ]
     },
     "metadata": {
      "needs_background": "light"
     },
     "output_type": "display_data"
    }
   ],
   "source": [
    "\n",
    "plt.figure(figsize=(9, 12))\n",
    "\n",
    "plt.scatter(x_positions, y_positions)\n",
    "\n",
    "# draw in the hoop\n",
    "\n",
    "hoop_xs = np.ndarray((51,))\n",
    "hoop_ys = np.ndarray((51,))\n",
    "\n",
    "for i in range(0, 51):\n",
    "    hoop_xs[i] = hoop_x_left + 0.5 * i / 50\n",
    "    hoop_ys[i] = hoop_height\n",
    "\n",
    "plt.scatter(hoop_xs, hoop_ys)\n",
    "\n",
    "# draw in backboard \n",
    "\n",
    "backboard_xs = np.ndarray((51,))\n",
    "backboard_ys = np.ndarray((51,))\n",
    "\n",
    "for i in range(0, 51):\n",
    "    backboard_xs[i] = distance_to_backboard\n",
    "    backboard_ys[i] = hoop_height + 1.0 * i / 50\n",
    "    \n",
    "plt.scatter(backboard_xs, backboard_ys)\n",
    "\n",
    "plt.ylim((0, 6))\n",
    "\n",
    "plt.xlabel(\"Horizontal position (m)\")\n",
    "plt.ylabel(\"Vertical position (m)\")\n",
    "\n",
    "\n",
    "\n",
    "\n",
    "plt.show()"
   ]
  },
  {
   "cell_type": "markdown",
   "metadata": {},
   "source": [
    "# RIP KOBE"
   ]
  },
  {
   "cell_type": "code",
   "execution_count": null,
   "metadata": {},
   "outputs": [],
   "source": []
  },
  {
   "cell_type": "markdown",
   "metadata": {},
   "source": []
  },
  {
   "cell_type": "markdown",
   "metadata": {},
   "source": []
  },
  {
   "cell_type": "code",
   "execution_count": null,
   "metadata": {},
   "outputs": [],
   "source": []
  }
 ],
 "metadata": {
  "kernelspec": {
   "display_name": "Python 3",
   "language": "python",
   "name": "python3"
  },
  "language_info": {
   "codemirror_mode": {
    "name": "ipython",
    "version": 3
   },
   "file_extension": ".py",
   "mimetype": "text/x-python",
   "name": "python",
   "nbconvert_exporter": "python",
   "pygments_lexer": "ipython3",
   "version": "3.7.4"
  }
 },
 "nbformat": 4,
 "nbformat_minor": 2
}
