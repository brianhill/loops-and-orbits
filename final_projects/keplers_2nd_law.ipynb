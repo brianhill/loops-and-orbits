{
 "cells": [
  {
   "cell_type": "markdown",
   "metadata": {},
   "source": [
    "# Loops & Orbits Final Project\n",
    "## Proving Keplers 2nd Law\n",
    "### Created By: Matthew & Nicolo\n",
    "\n",
    "In this notebook we will be proving Keplers 2nd Law of Planetary Motion:\n",
    "\n",
    "\"A radius vector joining any planet to the sun sweeps out equal areas in equal lengths of time\"\n",
    "\n",
    "#### Click Video: https://www.youtube.com/watch?time_continue=1&v=qd3dIGJqRDU&feature=emb_logo"
   ]
  },
  {
   "cell_type": "markdown",
   "metadata": {},
   "source": [
    "*** Execute the Import Statements ***"
   ]
  },
  {
   "cell_type": "code",
   "execution_count": null,
   "metadata": {},
   "outputs": [],
   "source": [
    "#Import Statements\n",
    "from math import sin, cos, atan2, sqrt, pi\n",
    "import numpy as np\n",
    "\n",
    "%matplotlib inline\n",
    "import matplotlib.pyplot as plt"
   ]
  },
  {
   "cell_type": "markdown",
   "metadata": {},
   "source": [
    "Next, define all the constants. *All of the constants are now in kilometers instead of meters. This is to reduce size of numbers* ***Execute these assignments***"
   ]
  },
  {
   "cell_type": "code",
   "execution_count": null,
   "metadata": {},
   "outputs": [],
   "source": [
    "# The following two parameters are get us the strength of gravity at various heights:\n",
    "g = 0.00981 \n",
    "radius_of_earth = 6371.0 \n",
    "\n",
    "# The following two variables define the cannonball launch conditions:\n",
    "initial_position = [0.0, radius_of_earth + 500.0]  \n",
    "# The value of 8.982 km/s was tweaked to make exactly one elliptical orbit in 200 minutes.\n",
    "initial_velocity = [8.982, 0.0]                     \n",
    "\n",
    "delta_t = 240        # simulation time step in seconds ****(120.0) (240)\n",
    "simulation_time_steps = 50 # 200 minutes worth for a delta_t of 120.0 ****(100) (50)"
   ]
  },
  {
   "cell_type": "markdown",
   "metadata": {},
   "source": [
    "## Functions for Working with Vectors\n",
    "\n",
    "All of these functions have been implemented in previous class notebooks. \n",
    " ***Execute this cell to get the vector functions.***"
   ]
  },
  {
   "cell_type": "code",
   "execution_count": null,
   "metadata": {},
   "outputs": [],
   "source": [
    "# computes horizontal and vertical components of a vector and returns them as a tuple\n",
    "def vector_from_length_and_angle(length: float, angle: float) -> np.ndarray:\n",
    "    # we are working in degrees -- python's are expecting radians -- convert degrees to radian\n",
    "    angle_in_radians = angle * pi / 180.0\n",
    "    x_component = length * cos(angle_in_radians)\n",
    "    y_component = length * sin(angle_in_radians)\n",
    "    return np.array([x_component, y_component])\n",
    "\n",
    "# get angle from components using atan2 version of arctangent function -- result is converted to degrees\n",
    "def angle_from_vector(vector: np.ndarray) -> float:\n",
    "    # use the arctangent function\n",
    "    angle_in_radians = atan2(vector[1], vector[0])  \n",
    "    # we are working in degrees -- python's functions return radians -- convert radians to degrees\n",
    "    angle = angle_in_radians * 180.0 / pi\n",
    "    # return the result\n",
    "    return angle\n",
    "\n",
    "# get length from components using Pythagorean theorem\n",
    "def length_from_vector(vector: np.ndarray) -> float:\n",
    "    length_squared = np.sum(vector**2)\n",
    "    return sqrt(length_squared)"
   ]
  },
  {
   "cell_type": "markdown",
   "metadata": {},
   "source": [
    "## Functions to get Acceleration of Gravity\n",
    "\n",
    "All of these functions have been implemented in previous class notebooks. \n",
    "***Execute this cell to get the gravity functions.***"
   ]
  },
  {
   "cell_type": "code",
   "execution_count": null,
   "metadata": {},
   "outputs": [],
   "source": [
    "def strength_of_gravity(position):\n",
    "    # this function encodes the strength of gravity as a function of distance from the center of the Earth\n",
    "    radius = length_from_vector(position)\n",
    "    strength = g * radius_of_earth**2 / radius**2\n",
    "    return strength\n",
    "\n",
    "def direction_of_gravity(position):\n",
    "    # this function encodes the direction of gravity (the angle)\n",
    "    # gravity is attractive -- it always points toward the center of the Earth\n",
    "    direction = angle_from_vector(position) + 180.0\n",
    "    return direction\n",
    "\n",
    "def acceleration_of_gravity(position):\n",
    "    # using the strength and direction functions you have just implemented compute and\n",
    "    # return a 2x1 array for the acceleration of gravity\n",
    "    strength = strength_of_gravity(position)\n",
    "    direction = direction_of_gravity(position)\n",
    "    acceleration = vector_from_length_and_angle(strength, direction)\n",
    "    return acceleration\n"
   ]
  },
  {
   "cell_type": "markdown",
   "metadata": {},
   "source": [
    "## Functions to get Area of Triangle from Two Vectors\n",
    "\n",
    "This function finds the area of two specific triangles in the elliptical orbits using two vectors. \n",
    "***Execute this cell to get the triangle area function.***"
   ]
  },
  {
   "cell_type": "code",
   "execution_count": null,
   "metadata": {},
   "outputs": [],
   "source": [
    "#computes the area of a triangle given two points in the orbit\n",
    "def triangle_area(before_position, after_position):\n",
    "    #gets length of two vectors from center point and averages their length\n",
    "    r1 = length_from_vector(before_position)\n",
    "    r2 = length_from_vector(after_position)\n",
    "    height = (r1 + r2) / 2\n",
    "    \n",
    "    #gets angle from two vectors and uses it to compute the length of the new base of triangle\n",
    "    delta_theta = -(angle_from_vector(after_position) - angle_from_vector(before_position))\n",
    "    base = height * delta_theta * (2 * pi / 360)\n",
    "    \n",
    "    #returns standard area of triangle equation\n",
    "    area = 0.5 * base * height\n",
    "    return area"
   ]
  },
  {
   "cell_type": "markdown",
   "metadata": {},
   "source": [
    "## While Loop That Does The Work\n",
    "\n",
    "This box contains most of the math used to make the points of the elliptical orbit and assigns the areas of every triangle into an array."
   ]
  },
  {
   "cell_type": "code",
   "execution_count": null,
   "metadata": {},
   "outputs": [],
   "source": [
    "# Initialize the x and y velocities\n",
    "velocities = np.zeros((simulation_time_steps, 2))\n",
    "velocities[0] = initial_velocity\n",
    "\n",
    "# Initialize the x and y positions\n",
    "positions = np.zeros((simulation_time_steps, 2))\n",
    "positions[0] = initial_position\n",
    "\n",
    "# Initialize the array to hold the every triangle's area\n",
    "triangle_areas = np.zeros((simulation_time_steps - 1,))\n",
    "\n",
    "# Initialize the times\n",
    "times = np.zeros((simulation_time_steps,))\n",
    "\n",
    "for i in range(1, simulation_time_steps):\n",
    "\n",
    "    #define before velocity for each step of for loop\n",
    "    before_velocity = velocities[i - 1]\n",
    "    before_position = positions[i - 1]\n",
    "    before_time = times[i - 1]\n",
    "    \n",
    "    # fundamental change for 2nd-order Runge-Kutta -- first estimate mid_position!!\n",
    "    mid_position = before_position + (0.5 * before_velocity * delta_t)\n",
    "    \n",
    "    # calculate mid_acceleration -- using the estimated mid_position!\n",
    "    mid_acceleration = acceleration_of_gravity(mid_position)\n",
    "   \n",
    "    # calculate after_velocity from before_velocity and mid_acceleration\n",
    "    after_velocity = mid_acceleration * delta_t + before_velocity \n",
    "    \n",
    "    # calculate after_position using the democratic combination of after_velocity and before_velocity\n",
    "    after_position = before_position + (0.5 * (before_velocity + after_velocity)) * delta_t\n",
    "    \n",
    "    #find area of the triangle from the before_position vector and after_positions vector\n",
    "    area = triangle_area(before_position, after_position)\n",
    "    triangle_areas[i - 1] = area\n",
    "    \n",
    "    # update time\n",
    "    after_time = before_time + delta_t\n",
    "    \n",
    "    # assign the after values into their lists\n",
    "    velocities[i] = after_velocity\n",
    "    positions[i] = after_position\n",
    "    times[i] = after_time"
   ]
  },
  {
   "cell_type": "markdown",
   "metadata": {},
   "source": [
    "### While calculating the areas for each triangle of the elliptical orbit, there is one value that always comes out negative *(as it surpases -180º)*. The following code replaces the negative value with the nearest positive one from the array."
   ]
  },
  {
   "cell_type": "code",
   "execution_count": null,
   "metadata": {},
   "outputs": [],
   "source": [
    "#for loop that checks for outlier negative value and replaces with subsequent value\n",
    "for i in range(1,simulation_time_steps - 1):\n",
    "    if triangle_areas[i] < 0:\n",
    "        triangle_areas[i] = triangle_areas[i + 1]"
   ]
  },
  {
   "cell_type": "markdown",
   "metadata": {},
   "source": [
    "## Function that plots a triangle given two vector positions"
   ]
  },
  {
   "cell_type": "code",
   "execution_count": null,
   "metadata": {},
   "outputs": [],
   "source": [
    "def plot_triangle(first, second):\n",
    "    #plots a line between center point and the first vector\n",
    "    x1_plots = [0, x_positions[first]]\n",
    "    y1_plots = [0, y_positions[first]]\n",
    "    plt.plot(x1_plots, y1_plots, 'go--', linewidth=2, markersize=12, color='r')\n",
    "\n",
    "    #plots a line between center point and the second vector\n",
    "    x2_plots = [0, x_positions[second]]\n",
    "    y2_plots = [0, y_positions[second]]\n",
    "    plt.plot(x2_plots, y2_plots, 'go--', linewidth=2, markersize=12, color='r')\n",
    "\n",
    "    #plots a line between the end of the first and the end of the second vector\n",
    "    x3_plots = [x_positions[first], x_positions[second]]\n",
    "    y3_plots = [y_positions[first], y_positions[second]]\n",
    "    plt.plot(x3_plots, y3_plots, 'go--', linewidth=2, markersize=12, color='r')"
   ]
  },
  {
   "cell_type": "markdown",
   "metadata": {},
   "source": [
    "## Function that labels the area next to its respective triangle on the graph."
   ]
  },
  {
   "cell_type": "code",
   "execution_count": null,
   "metadata": {},
   "outputs": [],
   "source": [
    "#plots and formats the annotation of the area to each triangle on the graph \n",
    "def plot_area(first, second):\n",
    "    plt.annotate(xy=[x_positions[first],y_positions[first]], s=\"   Area = \" + str(int(triangle_areas[first])))"
   ]
  },
  {
   "cell_type": "markdown",
   "metadata": {},
   "source": [
    "#### Rounds all of the triangle area to the nearest whole number."
   ]
  },
  {
   "cell_type": "code",
   "execution_count": null,
   "metadata": {},
   "outputs": [],
   "source": [
    "#rounds the array to a whole number and prints the array\n",
    "triangle_areas = np.round_(triangle_areas, decimals = 0, out = None)\n",
    "print(triangle_areas)"
   ]
  },
  {
   "cell_type": "markdown",
   "metadata": {},
   "source": [
    "## Creates the first elliptical orbit drawing\n",
    "Chooses two triangles comparing and drawing their areas on the plot"
   ]
  },
  {
   "cell_type": "code",
   "execution_count": null,
   "metadata": {},
   "outputs": [],
   "source": [
    "#create figure for eliptical orbit plot\n",
    "plt.figure(figsize=(15, 15))\n",
    "\n",
    "#plots x and y positions as a scatter plot\n",
    "x_positions = positions[:, 0]\n",
    "y_positions = positions[:, 1]\n",
    "plt.scatter(x_positions, y_positions)\n",
    "\n",
    "#labels the x and y axis\n",
    "plt.xlabel(\"x position (km)\")\n",
    "plt.ylabel(\"y position (km)\")\n",
    "\n",
    "# ***** Choosing what points you want traingles from *****\n",
    "point_1 = 1\n",
    "point_2 = 28\n",
    "\n",
    "#calls function to plot triangle using prevoiusly defined points\n",
    "plot_triangle(point_1, point_1+1)\n",
    "plot_triangle(point_2, point_2+1)\n",
    "\n",
    "#plots the area of the same triangles drawn\n",
    "plot_area(point_1, point_1+1)\n",
    "plot_area(point_2, point_2+1)\n",
    "\n",
    "# Draw a big blue circle to represent the earth\n",
    "earth = plt.Circle((0, 0), radius_of_earth, color='b')\n",
    "plt.gcf().gca().add_artist(earth)\n",
    "\n",
    "# Make the plot big enough to show elliptical orbits\n",
    "plot_limit = 8000\n",
    "plt.xlim(-1.8 * plot_limit, 1.8 * plot_limit)\n",
    "plt.ylim(-2.4 * plot_limit, 1.2 * plot_limit)\n",
    "\n",
    "plt.show()"
   ]
  },
  {
   "cell_type": "markdown",
   "metadata": {},
   "source": [
    "### Plots every single triangle on the elliptical orbit and labels the areas."
   ]
  },
  {
   "cell_type": "code",
   "execution_count": null,
   "metadata": {
    "scrolled": true
   },
   "outputs": [],
   "source": [
    "#create figure for eliptical orbit plot\n",
    "plt.figure(figsize=(15, 15))\n",
    "\n",
    "#plots x and y positions as a scatter plot\n",
    "x_positions = positions[:, 0]\n",
    "y_positions = positions[:, 1]\n",
    "plt.scatter(x_positions, y_positions)\n",
    "\n",
    "#labels the x and y axis\n",
    "plt.xlabel(\"x position (km)\")\n",
    "plt.ylabel(\"y position (km)\")\n",
    "\n",
    "# Loop that prints every triangle and its area \n",
    "for i in range(0, len(triangle_areas)):\n",
    "    plot_triangle(i, i+1)\n",
    "    plot_area(i,i+1)\n",
    "\n",
    "# Plots the last triangle in the series (from the last point back to the first)\n",
    "plot_triangle(len(triangle_areas), 0)\n",
    "\n",
    "# Draw a big blue circle to represent the earth\n",
    "earth = plt.Circle((0, 0), radius_of_earth, color='b')\n",
    "plt.gcf().gca().add_artist(earth)\n",
    "\n",
    "# Make the plot big enough to show elliptical orbits\n",
    "plot_limit = 8000\n",
    "plt.xlim(-1.8 * plot_limit, 1.8 * plot_limit)\n",
    "plt.ylim(-2.4 * plot_limit, 1.2 * plot_limit)\n",
    "\n",
    "plt.show()"
   ]
  },
  {
   "cell_type": "markdown",
   "metadata": {},
   "source": [
    "## This plot shows our Areas by Times Step on a Micro-Level\n",
    "This graph shows the amount of area that we are missing on our calculations.\n",
    "\n",
    "Area error gets larger as the triangle width gets larger, which happens as the orbit gets closer to the sun. "
   ]
  },
  {
   "cell_type": "code",
   "execution_count": null,
   "metadata": {},
   "outputs": [],
   "source": [
    "#Creates an array to represent our simulation timesteps for plotting purposes\n",
    "x_axis = np.arange(0, simulation_time_steps -1)\n",
    "#Sets Y-Axis as our array of triangle areas\n",
    "y_axis = triangle_areas\n",
    "\n",
    "plt.ylabel('Area (km^2)')\n",
    "plt.xlabel('Timesteps')\n",
    "plt.title('Areas by times step')\n",
    "plt.grid()\n",
    "plt.scatter(x_axis, y_axis)\n",
    "\n",
    "#Creates and plots a straight red line at the most accurate area to show error below it \n",
    "x_line_plots = [0, simulation_time_steps - 1]\n",
    "y_line_plots = [triangle_areas[simulation_time_steps//2],triangle_areas[simulation_time_steps//2]]\n",
    "plt.plot(x_line_plots, y_line_plots, 'go--', linewidth=2, markersize=1, color='r')\n",
    "plt.show()"
   ]
  },
  {
   "cell_type": "markdown",
   "metadata": {},
   "source": [
    "## This Bar Chart shows our Areas by Time Steps on a Macro-Level\n",
    "As you can see, there is no discernable variation in areas when you zoom out"
   ]
  },
  {
   "cell_type": "code",
   "execution_count": null,
   "metadata": {},
   "outputs": [],
   "source": [
    "#Creates an array to represent our simulation timesteps for plotting purposes\n",
    "graph_time_steps = np.arange(0, simulation_time_steps-1)\n",
    "\n",
    "plt.bar(graph_time_steps, triangle_areas)\n",
    "plt.ylabel('Area (km^2)')\n",
    "plt.xlabel('Timesteps')\n",
    "plt.title('Areas by times step')\n",
    "plt.show()\n"
   ]
  },
  {
   "cell_type": "code",
   "execution_count": null,
   "metadata": {},
   "outputs": [],
   "source": []
  }
 ],
 "metadata": {
  "kernelspec": {
   "display_name": "Python 3",
   "language": "python",
   "name": "python3"
  },
  "language_info": {
   "codemirror_mode": {
    "name": "ipython",
    "version": 3
   },
   "file_extension": ".py",
   "mimetype": "text/x-python",
   "name": "python",
   "nbconvert_exporter": "python",
   "pygments_lexer": "ipython3",
   "version": "3.6.7"
  }
 },
 "nbformat": 4,
 "nbformat_minor": 2
}
