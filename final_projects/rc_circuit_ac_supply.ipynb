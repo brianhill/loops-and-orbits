{
 "cells": [
  {
   "cell_type": "code",
   "execution_count": 1,
   "metadata": {},
   "outputs": [
    {
     "data": {
      "text/plain": [
       "6.123233995736766e-17"
      ]
     },
     "execution_count": 1,
     "metadata": {},
     "output_type": "execute_result"
    }
   ],
   "source": [
    "import numpy as np\n",
    "from math import cos, sin, tan\n",
    "from math import pi\n",
    "frequency = 1000 #in Hz\n",
    "capacitence = 0.13 * 10**-6 #in Hz\n",
    "resistance = 1000 #in Ohms\n",
    "t = 0.00025 #in seconds\n",
    "charge_before = -1.602 * 10**-19 #in Coulombs\n",
    "time_steps = 1000\n",
    "delta_t = t / time_steps\n",
    "def ac_v(t):\n",
    "    voltage = cos(2.0 * pi * frequency * t)\n",
    "    return voltage\n",
    "ac_v(t)"
   ]
  },
  {
   "cell_type": "code",
   "execution_count": 2,
   "metadata": {},
   "outputs": [
    {
     "data": {
      "text/plain": [
       "1.2323075321077078e-12"
      ]
     },
     "execution_count": 2,
     "metadata": {},
     "output_type": "execute_result"
    }
   ],
   "source": [
    "charge_after = charge_before + (delta_t / resistance) * ac_v(t) - charge_before / capacitence\n",
    "charge_after"
   ]
  },
  {
   "cell_type": "code",
   "execution_count": 3,
   "metadata": {},
   "outputs": [
    {
     "data": {
      "text/plain": [
       "0.8910065241883679"
      ]
     },
     "execution_count": 3,
     "metadata": {},
     "output_type": "execute_result"
    }
   ],
   "source": [
    "frequency_smol = 300 #in Hz\n",
    "capacitence = 0.13 * 10**-6 #in Hz\n",
    "resistance = 1000 #in Ohms\n",
    "t = 0.00025 #in seconds\n",
    "charge_before = -1.602 * 10**-19 #in Coulombs\n",
    "time_steps = 1000\n",
    "delta_t = t / time_steps\n",
    "def ac_vv(t):\n",
    "    voltage_second = cos(2.0 * pi * frequency_smol * t)\n",
    "    return voltage_second\n",
    "ac_vv(t)"
   ]
  },
  {
   "cell_type": "code",
   "execution_count": 4,
   "metadata": {},
   "outputs": [
    {
     "data": {
      "text/plain": [
       "2.2398393857919964e-10"
      ]
     },
     "execution_count": 4,
     "metadata": {},
     "output_type": "execute_result"
    }
   ],
   "source": [
    "charge_after = charge_before + (delta_t / resistance) * ac_vv(t) - charge_before / capacitence\n",
    "charge_after"
   ]
  },
  {
   "cell_type": "code",
   "execution_count": 7,
   "metadata": {},
   "outputs": [
    {
     "data": {
      "text/plain": [
       "-1.8369701987210297e-16"
      ]
     },
     "execution_count": 7,
     "metadata": {},
     "output_type": "execute_result"
    }
   ],
   "source": [
    "frequency_chungus = 3000 #in Hz\n",
    "capacitence = 0.13 * 10**-6 #in Hz\n",
    "resistance = 1000 #in Ohms\n",
    "t = 0.00025 #in seconds\n",
    "charge_before = -1.602 * 10**-19 #in Coulombs\n",
    "time_steps = 1000\n",
    "delta_t = t / time_steps\n",
    "def ac_vvv(t):\n",
    "    voltage_third = cos(2.0 * pi * frequency_chungus * t)\n",
    "    return voltage_third\n",
    "ac_vvv(t)"
   ]
  },
  {
   "cell_type": "code",
   "execution_count": 8,
   "metadata": {},
   "outputs": [
    {
     "data": {
      "text/plain": [
       "1.2323075321076464e-12"
      ]
     },
     "execution_count": 8,
     "metadata": {},
     "output_type": "execute_result"
    }
   ],
   "source": [
    "charge_after = charge_before + (delta_t / resistance) * ac_vvv(t) - charge_before / capacitence\n",
    "charge_after"
   ]
  },
  {
   "cell_type": "code",
   "execution_count": null,
   "metadata": {},
   "outputs": [],
   "source": []
  }
 ],
 "metadata": {
  "kernelspec": {
   "display_name": "Python 3",
   "language": "python",
   "name": "python3"
  },
  "language_info": {
   "codemirror_mode": {
    "name": "ipython",
    "version": 3
   },
   "file_extension": ".py",
   "mimetype": "text/x-python",
   "name": "python",
   "nbconvert_exporter": "python",
   "pygments_lexer": "ipython3",
   "version": "3.7.4"
  }
 },
 "nbformat": 4,
 "nbformat_minor": 2
}
