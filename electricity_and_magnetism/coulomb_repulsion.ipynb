{
 "cells": [
  {
   "cell_type": "markdown",
   "metadata": {},
   "source": [
    "# Coulomb Repulsion Notebook\n",
    "\n",
    "## Notebook Overview\n",
    "\n",
    "This Jupyter notebook is intended to be self-contained. This means it might include material that you already fully understand. To make it easier to jump over material you already understand to the next question or step, there is some color-coding.\n",
    "\n",
    "<font color=blue>Questions are marked in blue.</font> Your lab report will consist of a document that answers all the questions, including some that can be answered by taking screen shots.\n",
    "\n",
    "<font color=green>Steps are marked in green.</font>\n",
    "If the steps are not performed sequentially and accurately, subsequent steps probably will *not* work.\n",
    "\n",
    "You might wonder why this is?!? A Jupyter notebook works hand-in-hand with something called a kernel (some people call it an interpreter). The kernel remembers everything that has been sent to it. For example, if you first send the kernel `x=1` and then you send it `y=x+1` the memory that x is 1 is in the kernel, and y will evalute to 2. It *simply does not matter* if `x=1` is present in the notebook. It must be sent to the kernel for it matter.\n",
    "\n",
    "Working by incrementally passing small parts of programs to a kernel is valued for its interactivity, and it has a long history in computer science. You can see documentation for the [1959 version of Lisp](https://www.informatimago.com/develop/lisp/com/informatimago/small-cl-pgms/aim-8/) showing a computer terminal filled with statements sent to an interpreter. Such a thing is generally called a REPL (read-evaluate-print loop). Many software developers revel in it. Many others find it annoyingly error-prone.\n",
    "\n",
    "The \"read\" part of a REPL is what you send to the interpreter and it evaluates (or attempts to evaluate &mdash; it may choke on it). What is printed as part of the \"print\" part of the REPL can be very complex and is not just limited to text in a Jupyter notebook. For example a graph or a raster image might be printed.\n",
    "\n",
    "A corollary of the interaction between the notebook and the kernel is that if you quit the kernel and start over, you have to start from the beginning, even if you save the notebook. The new kernel\n",
    "has no memory of what might have been sent to a previous kernel, and it has no knowledge of what is in the notebook until it is re-sent. This is true despite the fact that the notebook you saved might still be displaying old kernel\n",
    "output! Very confusing for newbies!\n",
    "\n",
    "<font color=green>S1: Find the menu item called Kernel. Under it is Restart &amp; Clear Output. This gives you a fresh kernel. It also removes any old kernel output from the notebook. Restart and clear all output.</font>\n",
    "\n",
    "*NB: This notebook is self-guided. However, you have your lab professor (Prof. Gheith, Prof. Hill, Prof. Karelina, Prof. Kintner, or Prof. Lee) and your lecture professor (Prof. Rosario or Prof. Ray), to lean on if you get stuck. Please be proactive about emailing them to ask questions and make Zoom appointments so that you can get the most out of the notebook.*\n",
    "\n",
    "## Coulomb Repulsion Overview\n",
    "\n",
    "Coulomb repulsion (between two like charges) is a 1/r^2 force like gravity. Things that can be varied are the sizes of the charges or even the signs of the charges (but we will keep them both positive), the initial positions, and the initial velocities.\n",
    "\n",
    "We could also add more charges, and more dimensions. We will stick with just two charges moving along a line (one dimension). We'll call this line the x-axis, and \"right\" will be positive x, and \"left\" will be negative x. Once you see how two charges in one dimension works, if you understand the notebook well, it would be within your reach to add a third charge, or even a second dimension.\n",
    "\n",
    "## Computer Lab Goals\n",
    "\n",
    "There are actually three very different goals in doing this computer lab:\n",
    "\n",
    "1. Physics (Electricity &amp; Magnetism) Goal: Get more experience with properties of Coulomb's law (which you already did quite a lot with in the game of Coulomb hockey)\n",
    "2. Mathematics (Numerical Analysis) Goal: Get an idea of how the differential equations in Newton's Laws can be solved approximately using &ldquo;finite-difference methods.&rdquo;\n",
    "3. Computer Science (Programming) Goal: Learn the basics of writing and executing Python code in a Jupyter notebook.\n",
    "\n",
    "Since we're attempting three things simultaneously, it's fine if we only make a small amount of progress on each of them. Once you've gotten a start, you can build endlessly on these ideas, and you will if you take Physics 102.\n",
    "\n",
    "## Coulomb's Law\n",
    "\n",
    "Let's assume there are two charges that can move in one dimension. Here are their properties:\n",
    "\n",
    "* Charge 1: mass m<sub>1</sub>, charge q<sub>1</sub>, position x<sub>1</sub>, velocity v<sub>1</sub>\n",
    "* Charge 2: mass m<sub>2</sub>, charge q<sub>2</sub>, position x<sub>2</sub>, velocity v<sub>2</sub>\n",
    "\n",
    "Since we are only in one dimension, x<sub>1</sub>, v<sub>1</sub>, x<sub>2</sub>, and v<sub>2</sub>, are numbers not vectors. The subscripts refer to the two particles, not dimensions.\n",
    "\n",
    "The magnitude of the Coulomb force on the charges is:\n",
    "\n",
    "F = k &middot; |q<sub>1</sub>| &middot; |q<sub>2</sub>| / r^2\n",
    "\n",
    "where:\n",
    "\n",
    "r = |x<sub>2</sub> - x<sub>1</sub>|\n",
    "\n",
    "### Taking Care of the Minus Signs\n",
    "\n",
    "To take care of the direction, and not just the magnitude, it is easier to write this as\n",
    "\n",
    "F<sub>2</sub> = k &middot; q<sub>1</sub> &middot; q<sub>2</sub> (x<sub>2</sub> - x<sub>1</sub>)/r^3\n",
    "\n",
    "You can check that this force is the force on charge 2 and it is to the right if\n",
    "the charges have the same sign and charge 2 is to the right of charge 1. The nice thing about the way it is \n",
    "written is that it works for all the other cases (signs of the charge and relative positions of the charges).\n",
    "\n",
    "We also have for the force on charge 1:\n",
    "\n",
    "F<sub>1</sub> = -F<sub>2</sub>\n",
    "\n",
    "## Newton's Laws\n",
    "\n",
    "Newton's 2nd Law of Motion for each of the particles:\n",
    "\n",
    "Equation 4: m<sub>2</sub> dv<sub>2</sub>/dt = F<sub>2</sub>\n",
    "\n",
    "Equation 3: m<sub>1</sub> dv<sub>1</sub>/dt = F<sub>1</sub>\n",
    "\n",
    "## Finite-Difference Methods\n",
    "\n",
    "We have the two equations above, plus two equations that are so obvious you might\n",
    "not think to write them down, but they are important too:\n",
    "\n",
    "Equation 2: dx<sub>2</sub>/dt = v<sub>2</sub>\n",
    "\n",
    "Equation 1: dx<sub>1</sub>/dt = v<sub>1</sub>\n",
    "\n",
    "Let's look at Equation 1 and use the definition of the derivative to rewrite it:\n",
    "\n",
    "x<sub>1</sub>(t+&Delta;t) = x<sub>1</sub>(t) + &Delta;t &middot; v<sub>1</sub>\n",
    "\n",
    "This equation is approximate! It becomes closer and closer to being true as &Delta;t &rarr; 0.\n",
    "\n",
    "<font color=blue>Q1: Make sure you understand why the equation above is just a statement of the definition of the derivative. Then use Equation 2 write down a similar equation for x<sub>2</sub>(t+&Delta;t).</font>\n",
    "\n",
    "Now let's look at Equation 3. First, divide through by m<sub>1</sub>. Then let's use the definition of the derivative to rewrite it:\n",
    "\n",
    "v<sub>1</sub>(t+&Delta;t) = v<sub>1</sub>(t) + &Delta;t &middot; F<sub>1</sub>/m<sub>1</sub>\n",
    "\n",
    "<font color=blue>Q2: Make sure you understand the equation above and then use Equation 4 to write down a similar equation for v<sub>2</sub>(t+&Delta;t).</font>\n",
    "\n",
    "That's all we need! These are called finite-difference equations. They can get a lot worse depending on how you approximate the derivative. But what we have just done is enough to get some solutions to the problem at hand.\n",
    "\n",
    "Let us hope that we can get a good enough approximation to the equations if &Delta;t is 1/100 of a second (10 milliseconds). There has been no good reason given for choosing this particular value. It might be unnecessarily small. It might not be small enough. For the moment, just consider to it to be a good guess.\n",
    "\n",
    "## Parameters and Initial Conditions\n",
    "\n",
    "Our system of two charges has the laws above governing it, and it also has some initial conditions.\n",
    "\n",
    "Let's say that our initial conditions are that at time t=0 neither charge is moving and they are one meter apart.\n",
    "\n",
    "As long as we use MKS units everywhere we won't have to carry units or units conversions around.\n",
    "\n",
    "Here's how we capture the initial conditions and also do some other initialization in Python:"
   ]
  },
  {
   "cell_type": "code",
   "execution_count": 42,
   "metadata": {},
   "outputs": [],
   "source": [
    "# Standard Python doesn't have graphing/plotting. The following statement adds graphing/plotting\n",
    "# capability. The name matplotlib was chosen because the authors were trying for some MATLAB capabilities.\n",
    "\n",
    "import matplotlib.pyplot as plt\n",
    "\n",
    "# We now can use any parts of matplotlib.pyplot we want just using the shorthand plt.\n",
    "\n",
    "# The following is also incredibly convenient when working with lists of times, positions\n",
    "# and velocities, numpy is short for \"numerical Python\" and it isn't part of the\n",
    "# standard Python either.\n",
    "\n",
    "import numpy as np\n",
    "\n",
    "# We now can use any parts of numpy that we want just by using shorthand np.\n",
    "\n",
    "m1 = 0.010 # 10 grams\n",
    "m2 = 0.001 # 1 grams\n",
    "\n",
    "q1 = 0.000010 # 10 micro-Coulombs\n",
    "q2 = 0.000010 # 10 micro-Coulombs\n",
    "\n",
    "k = 9.0 * 10**9\n",
    "\n",
    "x1_0 = 0.0  # particle 1 starts at the origin\n",
    "x2_0 = 1.0  # particle 2 starts 1 meter to the right of the origin\n",
    "\n",
    "v1_0 = 0.0  # particle 1 starts at rest\n",
    "v2_0 = 0.0  # particle 2 starts at rest\n",
    "\n",
    "delta_t = 0.010"
   ]
  },
  {
   "cell_type": "markdown",
   "metadata": {},
   "source": [
    "## Executing Python Code\n",
    "\n",
    "<font color=green>S2: Put your cursor in the code block above by clicking on it. Then hold down the Shift key and while it is held down, hit the Enter key. This might be the hardest step to get used to! It's just a funny key combination.</font>\n",
    "\n",
    "On many computers, the Enter key is labeled Return. There is no significant difference between Enter and Return. Call it what you like.\n",
    "\n",
    "If this goes properly, the In\\[\\] to the left of the code block will change to In\\[1\\]. Do it again. It will change to In\\[2\\]. Sometimes you will do something to the kernel that it completely chokes on. If that happens, the result will change to In\\[\\*\\] and stay that way. Fortunately, you have the Restart &amp; Clear Output command to get a fresh kernel.\n",
    "\n",
    "**If you can't S2 to work there is no point in proceeding. Ask your lab professor or anyone else who might have ideas on what is wrong for help.**\n",
    "\n",
    "### Getting x1_1, x2_1, v1_1, and v2_1\n",
    "\n",
    "We have x1_0, x2_0, v1_0, and v2_0 as our initial conditions.\n",
    "\n",
    "We now use the finite difference equations to get everything at time 1 from everything at time 0."
   ]
  },
  {
   "cell_type": "code",
   "execution_count": 43,
   "metadata": {},
   "outputs": [],
   "source": [
    "# This is quite a mess of subscripts. Anything ending in _1 is at time 1. Anything ending \n",
    "# in _0 is at time 0. Look closely and you'll see that everything at time 1 is derived from everything at time 0.\n",
    "\n",
    "x1_1 = x1_0 + delta_t * v1_0\n",
    "\n",
    "x2_1 = x2_0 + delta_t * v2_0\n",
    "\n",
    "f2 = delta_t * k/m1 * q1 * q2 * (x2_0 - x1_0)/abs(x2_0 - x1_0)**3\n",
    "\n",
    "f1 = -f2\n",
    "\n",
    "v1_1 = v1_0 + delta_t * f1 / m1\n",
    "\n",
    "v2_1 = v2_0 + delta_t * f2 / m2"
   ]
  },
  {
   "cell_type": "code",
   "execution_count": 44,
   "metadata": {},
   "outputs": [
    {
     "data": {
      "text/plain": [
       "(0.0, 1.0, -0.9000000000000002, 9.000000000000002)"
      ]
     },
     "execution_count": 44,
     "metadata": {},
     "output_type": "execute_result"
    }
   ],
   "source": [
    "x1_1, x2_1, v1_1, v2_1"
   ]
  },
  {
   "cell_type": "markdown",
   "metadata": {},
   "source": [
    "### Getting x1_2, x2_2, v1_2, and v2_2\n",
    "\n",
    "We know everything at time 1. We use the finite difference equations to get everything at time 2 from that."
   ]
  },
  {
   "cell_type": "code",
   "execution_count": 45,
   "metadata": {},
   "outputs": [],
   "source": [
    "# Everything that has _1 in it is changed to _2. Then\n",
    "# everything that has _0 in it is changed to _1.\n",
    "\n",
    "x1_2 = x1_1 + delta_t * v1_1\n",
    "\n",
    "x2_2 = x2_1 + delta_t * v2_1\n",
    "\n",
    "f2 = delta_t * k/m1 * q1 * q2 * (x2_1 - x1_1)/abs(x2_1 - x1_1)**3\n",
    "\n",
    "f1 = -f2\n",
    "\n",
    "v1_2 = v1_1 + delta_t * f1 / m1\n",
    "\n",
    "v2_2 = v2_1 + delta_t * f2 / m2"
   ]
  },
  {
   "cell_type": "code",
   "execution_count": 46,
   "metadata": {},
   "outputs": [
    {
     "data": {
      "text/plain": [
       "(-0.009000000000000003, 1.09, -1.8000000000000005, 18.000000000000004)"
      ]
     },
     "execution_count": 46,
     "metadata": {},
     "output_type": "execute_result"
    }
   ],
   "source": [
    "x1_2, x2_2, v1_2, v2_2"
   ]
  },
  {
   "cell_type": "markdown",
   "metadata": {},
   "source": [
    "### Getting x1_3, x2_3, v1_3, and v2_3\n",
    "\n",
    "We now know everything at time 3. We use the finite difference equations to get everything at time 3 from that.\n",
    "<font color=green>S3: You've seen how the pattern works with two examples. By analogy, finish writing the code in the cell below to get everything at time 3.</green>"
   ]
  },
  {
   "cell_type": "code",
   "execution_count": 47,
   "metadata": {},
   "outputs": [],
   "source": [
    "# Everything that has _2 in it is changed to _3. Then\n",
    "# everything that has _1 in it is changed to _2.\n",
    "\n",
    "x1_3 = x1_2 + delta_t * v1_2\n",
    "\n",
    "x2_3 = x2_2 + delta_t * v2_2\n",
    "\n",
    "f2 = delta_t * k/m1 * q1 * q2 * (x2_2 - x1_2)/abs(x2_2 - x1_2)**3\n",
    "\n",
    "f1 = -f2\n",
    "\n",
    "v1_3 = v1_2 + delta_t * f1 / m1\n",
    "\n",
    "v2_3 = v2_2 + delta_t * f2 / m2"
   ]
  },
  {
   "cell_type": "code",
   "execution_count": 48,
   "metadata": {},
   "outputs": [
    {
     "data": {
      "text/plain": [
       "(-0.02700000000000001, 1.27, -2.5451558659083746, 25.451558659083744)"
      ]
     },
     "execution_count": 48,
     "metadata": {},
     "output_type": "execute_result"
    }
   ],
   "source": [
    "x1_3, x2_3, v1_3, v2_3"
   ]
  },
  {
   "cell_type": "markdown",
   "metadata": {},
   "source": [
    "<font color=green>S4: The code for I1, I2, and I3 has been written but not executed. Put your cursor in \n",
    "    each of the three cells defining I1, I2, and I3, and execute all three of them.</font>\n",
    "    \n",
    "The next cell has I3 all by itself with no equals sign. This cell isn't setting I3. *It is displaying it.* The kernel output will be placed below the cell."
   ]
  },
  {
   "cell_type": "code",
   "execution_count": 54,
   "metadata": {},
   "outputs": [],
   "source": [
    "# Everything that has _3 in it is changed to _4. Then\n",
    "# everything that has _2 in it is changed to _3.\n",
    "\n",
    "x1_4 = x1_3 + delta_t * v1_3\n",
    "\n",
    "x2_4 = x2_3 + delta_t * v2_3\n",
    "\n",
    "f2 = delta_t * k/m1 * q1 * q2 * (x2_3 - x1_3)/abs(x2_3 - x1_3)**3\n",
    "\n",
    "f1 = -f2\n",
    "\n",
    "v1_4 = v1_3 + delta_t * f1 / m1\n",
    "\n",
    "v2_4 = v2_3 + delta_t * f2 / m2\n",
    "\n",
    "# Everything that has _4 in it is changed to _5. Then\n",
    "# everything that has _3 in it is changed to _4.\n",
    "\n",
    "x1_5 = x1_4 + delta_t * v1_4\n",
    "\n",
    "x2_5 = x2_4 + delta_t * v2_4\n",
    "\n",
    "f2 = delta_t * k/m1 * q1 * q2 * (x2_4 - x1_4)/abs(x2_4 - x1_4)**3\n",
    "\n",
    "f1 = -f2\n",
    "\n",
    "v1_5 = v1_4 + delta_t * f1 / m1\n",
    "\n",
    "v2_5 = v2_4 + delta_t * f2 / m2"
   ]
  },
  {
   "cell_type": "code",
   "execution_count": 50,
   "metadata": {},
   "outputs": [
    {
     "data": {
      "text/plain": [
       "(-0.052451558659083755,\n",
       " 1.5245155865908375,\n",
       " -3.080166676099023,\n",
       " 30.801666760990226)"
      ]
     },
     "execution_count": 50,
     "metadata": {},
     "output_type": "execute_result"
    }
   ],
   "source": [
    "x1_4, x2_4, v1_4, v2_4"
   ]
  },
  {
   "cell_type": "markdown",
   "metadata": {},
   "source": []
  },
  {
   "cell_type": "code",
   "execution_count": null,
   "metadata": {},
   "outputs": [],
   "source": []
  },
  {
   "cell_type": "code",
   "execution_count": null,
   "metadata": {},
   "outputs": [],
   "source": [
    "I20"
   ]
  },
  {
   "cell_type": "markdown",
   "metadata": {},
   "source": [
    "<font color=green>S7: Execute the cell that displays I20.</font>\n",
    "\n",
    "If the cell above did not get 0.23373982720689868 for I20, go back and re-check your work. Once you have found\n",
    "the mistake, re-execute the above two cells so the kernel has been sent the fix and you can see that you now have the correct result for I20.\n",
    "\n",
    "<font color=green>S8: Execute the cell below that plots the results of your work.</font>"
   ]
  },
  {
   "cell_type": "code",
   "execution_count": 57,
   "metadata": {},
   "outputs": [
    {
     "data": {
      "image/png": "[encoded data removed]",
      "text/plain": [
       "<Figure size 864x432 with 1 Axes>"
      ]
     },
     "metadata": {
      "needs_background": "light"
     },
     "output_type": "display_data"
    }
   ],
   "source": [
    "# Plot what we have got. You don't have to understand this yet.\n",
    "# For now it's just a bunch of gibberish for making plots.\n",
    "\n",
    "time_array = delta_t * np.arange(0, 6, 1)\n",
    "x1_array = [x1_0, x1_1, x1_2, x1_3, x1_4, x1_5]\n",
    "x2_array = [x2_0, x2_1, x2_2, x2_3, x2_4, x2_5]\n",
    "\n",
    "plt.figure(figsize=(12, 6))\n",
    "\n",
    "plt.plot(time_array, x1_array, '-o')\n",
    "\n",
    "plt.show()"
   ]
  },
  {
   "cell_type": "code",
   "execution_count": 58,
   "metadata": {},
   "outputs": [
    {
     "data": {
      "image/png": "[encoded data removed]",
      "text/plain": [
       "<Figure size 864x432 with 1 Axes>"
      ]
     },
     "metadata": {
      "needs_background": "light"
     },
     "output_type": "display_data"
    }
   ],
   "source": [
    "# Plot what we have got. You don't have to understand this yet.\n",
    "# For now it's just a bunch of gibberish for making plots.\n",
    "\n",
    "plt.figure(figsize=(12, 6))\n",
    "\n",
    "plt.plot(time_array, x2_array, '-o')\n",
    "\n",
    "plt.show()"
   ]
  },
  {
   "cell_type": "markdown",
   "metadata": {},
   "source": [
    "The units of the horizontal axis on the plot are seconds. The vertical axis has current in Amperes.\n",
    "\n",
    "<font color=blue>Q3: About how many Amperes are flowing after 20 milliseconds? If there were no\n",
    "    inductor in the circuit at all, how many Amperes would the battery be pushing through the resistor?</font>\n",
    "\n",
    "## Introducing Arrays and While Loops\n",
    "\n",
    "Filling in the formulas for I3 and for I4 to I10, was tedious, right?\n",
    "Imagine if we had wanted to continue all the way to I50\n",
    "how tedious it would have been. Now you're going to learn two concepts that eliminate the tedium.\n",
    "\n",
    "Instead of defining 21 different current variables (I0 to I20 is 21 variables), we are going to introduce\n",
    "something called an array that can hold as many current variables as is needed.\n",
    "\n",
    "Let's do 50 steps (starting from step 0 and ending at step 50). That's actually 51 different values.\n",
    "\n",
    "While we are at it, let's also get a second array that can hold as many times as is needed.\n",
    "\n",
    "Below is how you do that.\n",
    "\n",
    "<font color=green>S9: Execute the next five statements.</font>"
   ]
  },
  {
   "cell_type": "code",
   "execution_count": null,
   "metadata": {},
   "outputs": [],
   "source": [
    "steps = 50\n",
    "\n",
    "currents = np.zeros(steps + 1)\n",
    "times = delta_t * np.arange(0, steps + 1)"
   ]
  },
  {
   "cell_type": "code",
   "execution_count": null,
   "metadata": {},
   "outputs": [],
   "source": [
    "currents"
   ]
  },
  {
   "cell_type": "code",
   "execution_count": null,
   "metadata": {},
   "outputs": [],
   "source": [
    "times"
   ]
  },
  {
   "cell_type": "code",
   "execution_count": null,
   "metadata": {},
   "outputs": [],
   "source": [
    "currents[0]"
   ]
  },
  {
   "cell_type": "code",
   "execution_count": null,
   "metadata": {},
   "outputs": [],
   "source": [
    "times[0]"
   ]
  },
  {
   "cell_type": "markdown",
   "metadata": {},
   "source": [
    "#### Interpreting the Output\n",
    "\n",
    "The cell showing currents shows all the currents. They are all zero. The first one is the correct\n",
    "initial condition. We haven't computed the rest yet. We will do that in a while loop.\n",
    "\n",
    "The cell showing times shows all the times. They are just 1 millisecond apart from 0.000 to 0.050 seconds. There\n",
    "are 51 times in this range.\n",
    "\n",
    "The cell showing currents\\[0\\] is showing the first current in the array.\n",
    "\n",
    "The cell showing times\\[0\\] is showing the first time in the array.\n",
    "\n",
    "You can also access the 15th &mdash; actually the 16th if &mdash; like almost all humans &mdash; you count from 1 rather than counting from 0. This kind of craziness in counting is everywhere. A baby that is just born is in its first year. but it won't be 1 for twelve months. So age is an example of something that everyone agrees we should count from 0. If you are 18, you are actually in your 19th year. This is the 21st century, but the first two digits of the year are 2 and 0. Remember when we said computers are ludicrously simple? It really matters that you are not\n",
    "casual about counting."
   ]
  },
  {
   "cell_type": "code",
   "execution_count": null,
   "metadata": {},
   "outputs": [],
   "source": [
    "times[15]"
   ]
  },
  {
   "cell_type": "markdown",
   "metadata": {},
   "source": [
    "<font color=green>S10: Execute the cell that does times\\[15\\].</font>\n",
    "\n",
    "<font color=blue>Q4: If the array were much longer, what would you have gotten by executing times\\[150\\]? What do you actually get if you execute times\\[150\\]? Is the error message reasonable?</font>\n",
    "\n",
    "<font color=blue>Q5: The array has 51 elements? Why does times\\[51\\] give an error?</font>\n",
    "\n",
    "<font color=green>S11: When you are done playing with the cell above, change it back to something that doesn't produce an error.</font>\n",
    "\n",
    "### While Loops\n",
    "\n",
    "Now we are going to introduce while loops. We're just going to jump right in and show you an example.\n",
    "Here is how you execute something 50 times:"
   ]
  },
  {
   "cell_type": "code",
   "execution_count": null,
   "metadata": {},
   "outputs": [],
   "source": [
    "steps = 50\n",
    "\n",
    "currents = np.zeros(steps + 1)\n",
    "times = delta_t * np.arange(0, steps + 1)\n",
    "\n",
    "i = 1\n",
    "\n",
    "while i <= steps:\n",
    "    currents[i] = currents[i - 1] + delta_t * (Vin/L - currents[i - 1] * R/L)\n",
    "    i = i + 1"
   ]
  },
  {
   "cell_type": "markdown",
   "metadata": {},
   "source": [
    "First, indenting matters in Python. Everything that follows the while statement that is indented by the same amount is part of it. In many languages (C and Java, for example), indenting doesn't matter. It is done for readability. What matters is where you put the curly brackets { }. Python avoids being littered with curly brackets by\n",
    "making the indenting count.\n",
    "\n",
    "Second, let's analyze the while loop. I'm going to imagine i is 11. In that case, the first indented statement is\n",
    "\n",
    "```\n",
    "    currents[11] = currents[10] + delta_t * (Vin/L - currents[10] * R/L)\n",
    "```\n",
    "\n",
    "This avoids the tedium. Before we would have had to write:\n",
    "\n",
    "```\n",
    "    I11 = I10 + delta_t * (Vin/L - I10 * R/L)\n",
    "```\n",
    "\n",
    "And then we would have had to do it again and again for I12 to I50.\n",
    "\n",
    "The second intended statement is:\n",
    "\n",
    "```\n",
    "    i = 11 + 1\n",
    "```\n",
    "\n",
    "NB: You would have been reasonable to say that the second indented statement was:\n",
    "\n",
    "```\n",
    "    11 = 11 + 1\n",
    "```\n",
    "\n",
    "But this is obviously garbage and is not how the computer interprets an assignment statement. Instead it interprets the statement as:\n",
    "```\n",
    "    i = 11 + 1\n",
    "```\n",
    "which means i should be assigned to be 12.\n",
    "\n",
    "\n",
    "### Conditional Tests\n",
    "\n",
    "In the while loop is this conditional test:\n",
    "```\n",
    "    i <= steps\n",
    "```\n",
    "\n",
    "Since i is now 12 and steps is 50, this conditional test evaluates to True, and the while loop proceeds.\n",
    "\n",
    "<font color=blue>Q6: What is the first value of i for which the conditional test will evaluate to False?</font>\n",
    "\n",
    "When this value is reached, the while loop is done.\n",
    "\n",
    "## Summary of Arrays and While Loops\n",
    "\n",
    "You have been introduced to arrays and while loops. That is more than enough software to learn\n",
    "in one sitting. If you didn't fully understand it, no problem.\n",
    "\n",
    "In the rest of this computer lab, rather than building on the computer science you have just learned,\n",
    "we are going to focus on getting a little more experience with RL circuits.\n",
    "\n",
    "## Plot what the While Loop Produced\n",
    "\n",
    "<font color=green>S12: Execute the while statement above and then execute the plotting code in the cell below.</font>"
   ]
  },
  {
   "cell_type": "code",
   "execution_count": null,
   "metadata": {},
   "outputs": [],
   "source": [
    "plt.figure(figsize=(12, 6))\n",
    "\n",
    "plt.plot(times, currents, '-o')\n",
    "\n",
    "plt.show()"
   ]
  },
  {
   "cell_type": "markdown",
   "metadata": {},
   "source": [
    "<font color=blue>Q7: Reading the plot, about how many Amperes are flowing after 50 milliseconds? How does this compare with your answer to Q3?</font>\n",
    "\n",
    "## *FELLOW FACULTY &mdash; THE NOTEBOOK IS ONLY POLISHED TO THIS POINT*\n",
    "\n",
    "*We should think about how many different times we want to evaluate the code block below, and what we want\n",
    "them to get out of that. I am lacking strong ideas on this. Maybe about three more steps would be good for a nice round 15. We can see phase and amplitude. We can ask them to discuss the transient. We can ask them to screenshot a result and include it in their report. If we ask three additional questions, that will be a nice round 10. Many of the earlier questions are very easy. The last three could require more thought.*\n",
    "\n",
    "## Swapping the Battery for a Function Generator\n",
    "\n",
    "Instead of having a constant voltage for V<sub>in</sub>, let's put in a function generator!\n",
    "\n",
    "We'll make it operate at 50 Hz. We'll run our simulation for 200 milliseconds which is 10 cycles of the function generator.\n",
    "\n",
    "The sweet new piece of code in the code block below is:\n",
    "\n",
    "```\n",
    "    voltage = V0 * cos(omega * time)\n",
    "```\n",
    "\n",
    "For each time, the voltage takes on a new value instead of being a constant 12V.\n",
    "\n",
    "<font color=green>S13: Execute the code block below.</font>"
   ]
  },
  {
   "cell_type": "code",
   "execution_count": null,
   "metadata": {},
   "outputs": [],
   "source": [
    "import matplotlib.pyplot as plt\n",
    "import numpy as np\n",
    "from math import cos, pi\n",
    "\n",
    "delta_t = 0.001 # 1 millisecond, as before\n",
    "L = 0.3         # 300 mH, as before\n",
    "R = 50          # 50 Ohms, as before\n",
    "f = 50          # Set function generator frequency to 50 Hz\n",
    "V0 = 10         # Set function generator maximum voltage to 10 V\n",
    "\n",
    "# Nicer mathematically to work with angular frequency\n",
    "omega = 2 * pi * f\n",
    "\n",
    "i = 1\n",
    "steps = 200\n",
    "\n",
    "# Arrays to hold our results\n",
    "currents = np.zeros(steps + 1)\n",
    "currents[0] = 0.0\n",
    "voltages = np.zeros(steps + 1)\n",
    "voltages[0] = V0\n",
    "times = delta_t * np.arange(0, steps + 1)\n",
    "\n",
    "# The while loop that does all the work.\n",
    "while i <= steps:\n",
    "    time = times[i - 1]\n",
    "    old_current = currents[i - 1]\n",
    "    voltage = V0 * cos(omega * time)\n",
    "    new_current = old_current + delta_t * (voltage/L - old_current * R/L)\n",
    "    voltages[i] = voltage\n",
    "    currents[i] = new_current\n",
    "    i = i + 1\n",
    "    \n",
    "# Plot code is getting more complex because both voltage and current need to be shown\n",
    "\n",
    "fig, ax1 = plt.subplots(figsize=(12, 6))\n",
    "\n",
    "color = 'tab:blue'\n",
    "ax1.set_xlabel('time (s)')\n",
    "ax1.set_ylabel('voltage (V)', color=color)\n",
    "ax1.plot(times, voltages, color=color)\n",
    "ax1.tick_params(axis='y', labelcolor=color)\n",
    "\n",
    "ax2 = ax1.twinx()  # instantiate a second axes that shares the same x-axis\n",
    "\n",
    "color = 'tab:green'\n",
    "ax2.set_ylabel('current (A)', color=color)  # we already handled the x-label with ax1\n",
    "ax2.plot(times, currents, color=color)\n",
    "ax2.tick_params(axis='y', labelcolor=color)\n",
    "\n",
    "plt.show()"
   ]
  },
  {
   "cell_type": "code",
   "execution_count": null,
   "metadata": {},
   "outputs": [],
   "source": []
  }
 ],
 "metadata": {
  "kernelspec": {
   "display_name": "Python 3",
   "language": "python",
   "name": "python3"
  },
  "language_info": {
   "codemirror_mode": {
    "name": "ipython",
    "version": 3
   },
   "file_extension": ".py",
   "mimetype": "text/x-python",
   "name": "python",
   "nbconvert_exporter": "python",
   "pygments_lexer": "ipython3",
   "version": "3.7.4"
  }
 },
 "nbformat": 4,
 "nbformat_minor": 2
}
