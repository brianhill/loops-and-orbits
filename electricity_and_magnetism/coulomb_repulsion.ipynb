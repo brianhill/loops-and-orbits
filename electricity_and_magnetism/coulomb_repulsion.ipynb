{
 "cells": [
  {
   "cell_type": "markdown",
   "metadata": {},
   "source": [
    "# Coulomb Repulsion Notebook\n",
    "\n",
    "## Notebook Overview\n",
    "\n",
    "This Jupyter notebook is intended to be self-contained. This means it might include material that you already fully understand. To make it easier to jump over material you already understand to the next question or step, there is some color-coding.\n",
    "\n",
    "<font color=blue>Questions are marked in blue.</font> Your lab report should consist of a document that answers all the questions, including some that can be answered by taking screen shots.\n",
    "\n",
    "<font color=green>Steps are marked in green.</font>\n",
    "If the steps are not performed sequentially and accurately, subsequent steps probably will *not* work.\n",
    "\n",
    "You might wonder why this is?!? A Jupyter notebook works hand-in-hand with something called a kernel (some people call it an interpreter). The kernel remembers everything that has been sent to it. For example, if you first send the kernel `x=1` and then you send it `y=x+1` the memory that x is 1 is in the kernel, and y will evalute to 2. It *simply does not matter* if `x=1` is present in the notebook. It must be sent to the kernel for it matter. Working incrementally by passing small parts of programs to a kernel is valued for its interactivity, but it can also be error-prone.\n",
    "\n",
    "A corollary of the interaction between the notebook and the kernel is that if you quit the kernel and start over, you have to start from the beginning, even if you save the notebook. The new kernel\n",
    "has no memory of what might have been sent to a previous kernel, and it has no knowledge of what is in the notebook until it is re-sent. This is true despite the fact that the notebook you saved might still be displaying old kernel\n",
    "output!\n",
    "\n",
    "<font color=green>S1: Find the menu called Kernel or Runtime. Under it is a menu item called Restart &amp; Clear Output or Restart Runtime. This gives you a fresh kernel. It also removes any old kernel output from the notebook. If you are on Google Colab the menu item will be greyed out because you haven't run anything yet. If you are on Binder, you can already try restarting and clearing all output. When all else fails, it is good to know that you can start from scratch.</font>\n",
    "\n",
    "*NB: This notebook is self-guided. However, you have your lab professor (Prof. Gheith, Prof. Hill, Prof. Karelina, Prof. Kintner, or Prof. Lee) and your lecture professor (Prof. Rosario or Prof. Ray), to lean on if you get stuck. Please be proactive about emailing them to ask questions and make Zoom appointments so that you can get the most out of the notebook.*\n",
    "\n",
    "## Coulomb Repulsion Overview\n",
    "\n",
    "Coulomb repulsion (between two like charges) is a 1/r^2 force like gravity. Things that can be varied are the sizes of the charges or even the signs of the charges (but we will keep them both positive), the initial positions, and the initial velocities.\n",
    "\n",
    "We could also add more charges, and more dimensions. We will stick with just two charges moving along a line (one dimension). We'll call this line the x-axis, and \"right\" will be positive x, and \"left\" will be negative x. Once you see how two charges in one dimension works, if you understand the notebook well, it would be within your reach to add a third charge, or even a second dimension.\n",
    "\n",
    "## Computer Lab Goals\n",
    "\n",
    "There are actually three very different goals in doing this computer lab:\n",
    "\n",
    "1. Physics (Electricity &amp; Magnetism) Goal: Get more experience with properties of Coulomb's law (which you already did quite a lot with in the game of [Electric Field Hockey](https://phet.colorado.edu/en/simulation/electric-hockey)).\n",
    "2. Mathematics (Numerical Analysis) Goal: Get an idea of how the differential equations in Newton's Laws can be solved approximately using &ldquo;finite-difference methods.&rdquo;\n",
    "3. Computer Science (Programming) Goal: Learn the basics of writing and executing Python code in a Jupyter notebook.\n",
    "\n",
    "Since we're attempting three things simultaneously, it's fine if we only make a small amount of progress on each of them. Once you've gotten a start, you can build endlessly on these ideas, and you will if you take Physics 102.\n",
    "\n",
    "## Coulomb's Law\n",
    "\n",
    "Let's assume there are two charges that can move in one dimension. Here are their properties:\n",
    "\n",
    "* Charge 1: mass m<sub>1</sub>, charge q<sub>1</sub>, position x<sub>1</sub>, velocity v<sub>1</sub>\n",
    "* Charge 2: mass m<sub>2</sub>, charge q<sub>2</sub>, position x<sub>2</sub>, velocity v<sub>2</sub>\n",
    "\n",
    "Since we are only in one dimension, x<sub>1</sub>, v<sub>1</sub>, x<sub>2</sub>, and v<sub>2</sub>, are numbers not vectors. The subscripts refer to the two particles, not dimensions.\n",
    "\n",
    "The magnitude of the Coulomb force on the charges is:\n",
    "\n",
    "F = k &middot; |q<sub>1</sub>| &middot; |q<sub>2</sub>| / r^2\n",
    "\n",
    "where:\n",
    "\n",
    "r = |x<sub>2</sub> - x<sub>1</sub>|\n",
    "\n",
    "### Taking Care of the Minus Signs\n",
    "\n",
    "To take care of the direction, and not just the magnitude, it is easier to write the force on charge 2 as:\n",
    "\n",
    "F<sub>2</sub> = k &middot; q<sub>1</sub> &middot; q<sub>2</sub> (x<sub>2</sub> - x<sub>1</sub>)/r^3\n",
    "\n",
    "You can check that this force is to the right if\n",
    "the charges have the same sign and charge 2 is to the right of charge 1. The nice thing about the way it is \n",
    "written is that it works for all the other cases (signs of the charge and relative positions of the charges).\n",
    "\n",
    "We also have for the force on charge 1:\n",
    "\n",
    "F<sub>1</sub> = -F<sub>2</sub>\n",
    "\n",
    "## Newton's Laws\n",
    "\n",
    "Newton's 2nd Law of Motion for each of the particles:\n",
    "\n",
    "Equation 4: m<sub>2</sub> dv<sub>2</sub>/dt = F<sub>2</sub>\n",
    "\n",
    "Equation 3: m<sub>1</sub> dv<sub>1</sub>/dt = F<sub>1</sub>\n",
    "\n",
    "(Yes, it's a little weird to number the equations backwards.)\n",
    "\n",
    "## Finite-Difference Methods\n",
    "\n",
    "We have the two equations above, plus two equations that are so obvious you might\n",
    "not think to write them down, but they are important too:\n",
    "\n",
    "Equation 2: dx<sub>2</sub>/dt = v<sub>2</sub>\n",
    "\n",
    "Equation 1: dx<sub>1</sub>/dt = v<sub>1</sub>\n",
    "\n",
    "Let's look at Equation 1 and use the definition of the derivative to rewrite it:\n",
    "\n",
    "x<sub>1</sub>(t+&Delta;t) = x<sub>1</sub>(t) + &Delta;t &middot; v<sub>1</sub>\n",
    "\n",
    "This equation is approximate! It becomes closer and closer to being true as &Delta;t &rarr; 0.\n",
    "\n",
    "<font color=blue>Q1: Make sure you understand why the equation above is just a statement of the definition of the derivative. Then use Equation 2 to write down a similar equation for x<sub>2</sub>(t+&Delta;t).</font>\n",
    "\n",
    "Now let's look at Equation 3. First, divide through by m<sub>1</sub>. Then use the definition of the derivative to rewrite it:\n",
    "\n",
    "v<sub>1</sub>(t+&Delta;t) = v<sub>1</sub>(t) + &Delta;t &middot; F<sub>1</sub>/m<sub>1</sub>\n",
    "\n",
    "<font color=blue>Q2: Make sure you understand the equation above and then use Equation 4 to write down a similar equation for v<sub>2</sub>(t+&Delta;t).</font>\n",
    "\n",
    "That's all we need! These are four &ldquo;finite-difference&rdquo; equations. Each of them tells you how to get one of the quantities from the quantities at an earlier time. They can get a lot more complicated depending on how you approximate the derivative, but the approximation we have done is enough to get some reasonable solutions to the problem at hand.\n",
    "\n",
    "Regarding the limit that &Delta;t &rarr; 0. A question is how small must &Delta;t be so  that we get a good enough approximation. How about if &Delta;t is 1/100 of a second (10 milliseconds)? There has been no good reason given for choosing this particular value. It might be unnecessarily small. It might not be small enough. It's a guess.\n",
    "\n",
    "## Parameters and Initial Conditions\n",
    "\n",
    "Our system of two charges has the laws above governing it, and it also has some initial conditions.\n",
    "\n",
    "Let's say that our initial conditions are that at time t=0 neither charge is moving and they are one meter apart.\n",
    "\n",
    "As long as we use MKS units everywhere we won't have to carry units or units conversions around.\n",
    "\n",
    "Here's how we capture the initial conditions, some parameters, and also do some other initialization in Python:"
   ]
  },
  {
   "cell_type": "code",
   "execution_count": null,
   "metadata": {},
   "outputs": [],
   "source": [
    "# Standard Python doesn't have graphing/plotting. The following statement adds graphing/plotting\n",
    "# capability. The name matplotlib was chosen because the authors were trying for some MATLAB capabilities.\n",
    "\n",
    "import matplotlib.pyplot as plt\n",
    "\n",
    "# We now can use any features of matplotlib.pyplot we want just using the shorthand plt.\n",
    "\n",
    "# The following is also incredibly convenient when working with lists of times, positions\n",
    "# and velocities, numpy is short for \"numerical Python\" and it isn't part of \n",
    "# standard Python either.\n",
    "\n",
    "import numpy as np\n",
    "\n",
    "# We now can use any features of numpy that we want just by using shorthand np.\n",
    "\n",
    "m1 = 0.010 # 10 grams in MKS units\n",
    "m2 = 0.001 # 1 gram in MKS units\n",
    "\n",
    "q1 = 0.000050 # 50 micro-Coulombs\n",
    "q2 = 0.000050 # 50 micro-Coulombs\n",
    "\n",
    "k = 9.0 * 10**9 # in MKS units\n",
    "\n",
    "x1_0 = 0.0  # particle 1 starts at the origin\n",
    "x2_0 = 1.0  # particle 2 starts 1 meter to the right of the origin\n",
    "\n",
    "v1_0 = 0.0  # particle 1 starts at rest\n",
    "v2_0 = 0.0  # particle 2 starts at rest\n",
    "\n",
    "delta_t = 0.010 # 10 milliseconds in MKS units"
   ]
  },
  {
   "cell_type": "markdown",
   "metadata": {},
   "source": [
    "## Executing Python Code\n",
    "\n",
    "<font color=green>S2: Put your cursor in the code block above by clicking on it. Then hold down the Shift key and while it is held down, hit the Enter key. This might be the hardest step to get used to! It's just a funny key combination.</font>\n",
    "\n",
    "On many computers, the Enter key is labeled Return. There is no significant difference between Enter and Return. Call it what you like.\n",
    "\n",
    "If this goes properly, the In\\[\\] (or on Colab just \\[\\]) near the upper-left of the code block will change to In\\[1\\] (on Colab just \\[1\\])). Do it again. It will change to In\\[2\\] (\\[2\\]). It's just a reminder of what has been sent to the kernel. Sometimes you will make mistakes and send something to the kernel so bad that it can't even report an error message. If that happens, the result can change to In\\[\\*\\] and stay that way. Fortunately, you have the restart option to fix your mistake and try again with a fresh kernel.\n",
    "\n",
    "**If you can't get S2 to work there is no point in proceeding. Ask your lab professor or anyone else who might have ideas on what is wrong for help.**\n",
    "\n",
    "### Getting x1_1, x2_1, v1_1, and v2_1\n",
    "\n",
    "We have x1_0, x2_0, v1_0, and v2_0 as our initial conditions.\n",
    "\n",
    "We will call x1(&Delta;t) x1_1. We will call x1(2 &middot; &Delta;t) x1_2. x1(3 &middot; &Delta;t) x1_3. Etc.\n",
    "\n",
    "We will call x2(&Delta;t) x2_1. We will call x2(2 &middot; &Delta;t) x2_2. Etc.\n",
    "\n",
    "We will call v1(&Delta;t) v1_1. Etc.\n",
    "\n",
    "Etc.\n",
    "\n",
    "We now use the finite difference equations to get everything at time 1 from everything at time 0, using the above notation.\n",
    "Examine the code below carefully. You should be able to see everything that has been\n",
    "discussed above translated into notation that a computer can understand."
   ]
  },
  {
   "cell_type": "code",
   "execution_count": null,
   "metadata": {},
   "outputs": [],
   "source": [
    "# This is quite a mess of subscripts. On the left-hand side of the new position and\n",
    "# time equations, we have things ending in _1. On the right-hand side everything\n",
    "# time-dependent ends in _0.\n",
    "\n",
    "x1_1 = x1_0 + delta_t * v1_0\n",
    "\n",
    "x2_1 = x2_0 + delta_t * v2_0\n",
    "\n",
    "r = abs(x2_0 - x1_0)\n",
    "\n",
    "f2 = delta_t * k * q1 * q2 * (x2_0 - x1_0) / r**3\n",
    "\n",
    "f1 = -f2\n",
    "\n",
    "v1_1 = v1_0 + delta_t * f1 / m1\n",
    "\n",
    "v2_1 = v2_0 + delta_t * f2 / m2"
   ]
  },
  {
   "cell_type": "markdown",
   "metadata": {},
   "source": [
    "<font color=green>S3: Execute the code above.</font>\n",
    "\n",
    "### See what you've got\n",
    "\n",
    "The code you just executed is all assignment statements. Assignment statements\n",
    "don't display anything. It might be nice if they displayed their left-hand side, but\n",
    "they don't.\n",
    "\n",
    "The four statements below are expression statements. The kernel produces some output\n",
    "for each of them, and the notebook renders the output.\n",
    "\n",
    "<font color=green>S4: Execute all four expression statements below.</font>"
   ]
  },
  {
   "cell_type": "code",
   "execution_count": null,
   "metadata": {},
   "outputs": [],
   "source": [
    "x1_1"
   ]
  },
  {
   "cell_type": "code",
   "execution_count": null,
   "metadata": {},
   "outputs": [],
   "source": [
    "x2_1"
   ]
  },
  {
   "cell_type": "code",
   "execution_count": null,
   "metadata": {},
   "outputs": [],
   "source": [
    "v1_1"
   ]
  },
  {
   "cell_type": "code",
   "execution_count": null,
   "metadata": {},
   "outputs": [],
   "source": [
    "v2_1"
   ]
  },
  {
   "cell_type": "markdown",
   "metadata": {},
   "source": [
    "You can see that so far the particles haven't moved. But they have picked up a little velocity.\n",
    "\n",
    "Also note that both particles started at rest, and therefore you the center of\n",
    "mass is at rest, and furthermore, there are no external forces on this sytem.\n",
    "\n",
    "<font color=blue>Q3: Given that particle 2 is now moving to the right with speed 2.25 m/s\n",
    "    and particle 1 is 10 times as heavy as particle 2, what do you expect the speed of particle 2 to be? Is that what is shown above?</font>\n",
    "    \n",
    "<font color=blue>Q4: Compute the center of mass of this system. It will be an x value in\n",
    "    meters. Since the center of mass is not moving, you can use the initial conditions to compute it.</font>\n",
    "    \n",
    "It's a bit of a pain to view four different variables one at a time. There is an \n",
    "expression called a tuple in Python that can contain multiple parts separated by commas.\n",
    "Parenthesis around a tuple are optional. In the kernel output, the optional parenthesis\n",
    "are shown.\n",
    "\n",
    "<font color=green>S5: Execute the tuple expression below.</font>"
   ]
  },
  {
   "cell_type": "code",
   "execution_count": null,
   "metadata": {},
   "outputs": [],
   "source": [
    "x1_1, x2_1, v1_1, v2_1"
   ]
  },
  {
   "cell_type": "markdown",
   "metadata": {},
   "source": [
    "### Getting x1_2, x2_2, v1_2, and v2_2\n",
    "\n",
    "We now know everything at time 1. We use the finite difference equations to get everything at time 2 from that.\n",
    "\n",
    "<font color=green>S6: Your turn to code! You don't have to know what you are doing! Just follow the pattern of advancing all the times by 1 in the code below. Once you've\n",
    "    done the editing, execute the code block.</font>"
   ]
  },
  {
   "cell_type": "code",
   "execution_count": null,
   "metadata": {},
   "outputs": [],
   "source": [
    "# Everything on the left-hand side of the assignments that has\n",
    "# _1 in it needs to be changed to _2.\n",
    "\n",
    "# Then everything on the right-hand side that had _0 in it needs\n",
    "# to be changed to _1.\n",
    "\n",
    "# FACULTY, I HAVE SPARED YOU THE TEDIUM. YOU DON'T HAVE TO EDIT THE CODE.\n",
    "\n",
    "# Do this carefully. Computers don't accept \"close.\" They need precise.\n",
    "\n",
    "x1_2 = x1_1 + delta_t * v1_1\n",
    "\n",
    "x2_2 = x2_1 + delta_t * v2_1\n",
    "\n",
    "r = abs(x2_1 - x1_1)\n",
    "\n",
    "f2 = delta_t * k * q1 * q2 * (x2_1 - x1_1) / r**3\n",
    "\n",
    "f1 = -f2\n",
    "\n",
    "v1_2 = v1_1 + delta_t * f1 / m1\n",
    "\n",
    "v2_2 = v2_1 + delta_t * f2 / m2"
   ]
  },
  {
   "cell_type": "markdown",
   "metadata": {},
   "source": [
    "<font color=green>S7: Check your work by executing the tuple expression below.</font>"
   ]
  },
  {
   "cell_type": "code",
   "execution_count": null,
   "metadata": {},
   "outputs": [],
   "source": [
    "x1_2, x2_2, v1_2, v2_2"
   ]
  },
  {
   "cell_type": "markdown",
   "metadata": {},
   "source": [
    "If your code is correct, you will have:\n",
    "\n",
    "`(-0.0022500000000000003, 1.0225, -0.45000000000000007, 4.5)`\n",
    "\n",
    "If you don't get that, you have to go back and find the mistake(s).\n",
    "\n",
    "### Getting x1_3, x2_3, v1_3, and v2_3\n",
    "\n",
    "We now know everything at time 2. We use the finite difference equations to get everything at time 3 from that.\n",
    "\n",
    "<font color=green>S8: Your turn to code again!</green>"
   ]
  },
  {
   "cell_type": "code",
   "execution_count": null,
   "metadata": {},
   "outputs": [],
   "source": [
    "# Everything on the left-hand side of the assignments that has _2 in it is changed to _3.\n",
    "# Then everything on the right-hand side that had _1 needs to be changed to _2.\n",
    "\n",
    "# FACULTY, AGAIN, I HAVE SPARED YOU THE TEDIUM. YOU DON'T HAVE TO EDIT THE CODE.\n",
    "\n",
    "x1_3 = x1_2 + delta_t * v1_2\n",
    "\n",
    "x2_3 = x2_2 + delta_t * v2_2\n",
    "\n",
    "r = abs(x2_2 - x1_2)\n",
    "\n",
    "f2 = delta_t * k * q1 * q2 * (x2_2 - x1_2) / r**3\n",
    "\n",
    "f1 = -f2\n",
    "\n",
    "v1_3 = v1_2 + delta_t * f1 / m1\n",
    "\n",
    "v2_3 = v2_2 + delta_t * f2 / m2"
   ]
  },
  {
   "cell_type": "code",
   "execution_count": null,
   "metadata": {},
   "outputs": [],
   "source": [
    "x1_3, x2_3, v1_3, v2_3"
   ]
  },
  {
   "cell_type": "markdown",
   "metadata": {},
   "source": [
    "<font color=green>S9: Check your work again be executing the tuple expression.</font>\n",
    "\n",
    "This time the right answer is:\n",
    "\n",
    "`(-0.006750000000000001, 1.0675, -0.6642627448093215, 6.642627448093213)`\n",
    "\n",
    "<font color=green>S10: The code below for the values\n",
    "at time 4 and the values at time 5 is already complete and correct. Just execute it.</font>"
   ]
  },
  {
   "cell_type": "code",
   "execution_count": null,
   "metadata": {},
   "outputs": [],
   "source": [
    "# Everything that has _3 in it has been changed to _4. Then\n",
    "# everything that has _2 in it has been changed to _3.\n",
    "\n",
    "x1_4 = x1_3 + delta_t * v1_3\n",
    "\n",
    "x2_4 = x2_3 + delta_t * v2_3\n",
    "\n",
    "r = abs(x2_3 - x1_3)\n",
    "\n",
    "f2 = delta_t * k * q1 * q2 * (x2_3 - x1_3) / r**3\n",
    "\n",
    "f1 = -f2\n",
    "\n",
    "v1_4 = v1_3 + delta_t * f1 / m1\n",
    "\n",
    "v2_4 = v2_3 + delta_t * f2 / m2\n",
    "\n",
    "# Everything that has _4 in it has been changed to _5. Then\n",
    "# everything that has _3 in it has been changed to _4.\n",
    "\n",
    "x1_5 = x1_4 + delta_t * v1_4\n",
    "\n",
    "x2_5 = x2_4 + delta_t * v2_4\n",
    "\n",
    "r = abs(x2_4 - x1_4)\n",
    "\n",
    "f2 = delta_t * k * q1 * q2 * (x2_4 - x1_4) / r**3\n",
    "\n",
    "f1 = -f2\n",
    "\n",
    "v1_5 = v1_4 + delta_t * f1 / m1\n",
    "\n",
    "v2_5 = v2_4 + delta_t * f2 / m2"
   ]
  },
  {
   "cell_type": "code",
   "execution_count": null,
   "metadata": {},
   "outputs": [],
   "source": [
    "((x1_4, x2_4, v1_4, v2_4), (x1_5, x2_5, v1_5, v2_5))"
   ]
  },
  {
   "cell_type": "markdown",
   "metadata": {},
   "source": [
    "<font color=green>S11: Execute the cells below that plot the x1 and x2 values.</font>"
   ]
  },
  {
   "cell_type": "code",
   "execution_count": null,
   "metadata": {},
   "outputs": [],
   "source": [
    "# Plot what we have got. You don't have to understand this.\n",
    "# It's just a bunch of gibberish for making plots.\n",
    "\n",
    "time_array = delta_t * np.arange(0, 6, 1)\n",
    "x1_array = [x1_0, x1_1, x1_2, x1_3, x1_4, x1_5]\n",
    "\n",
    "plt.figure(figsize=(12, 6))\n",
    "\n",
    "plt.plot(time_array, x1_array, '-o')\n",
    "\n",
    "plt.show()"
   ]
  },
  {
   "cell_type": "code",
   "execution_count": null,
   "metadata": {},
   "outputs": [],
   "source": [
    "# Same thing for the x2 values\n",
    "\n",
    "x2_array = [x2_0, x2_1, x2_2, x2_3, x2_4, x2_5]\n",
    "\n",
    "plt.figure(figsize=(12, 6))\n",
    "\n",
    "plt.plot(time_array, x2_array, '-o')\n",
    "\n",
    "plt.show()"
   ]
  },
  {
   "cell_type": "markdown",
   "metadata": {},
   "source": [
    "The units of the horizontal axis on the plot are seconds. The vertical axis is displaying\n",
    "positions. Look at the upper plot. After 0.05 seconds, particle 1 seems to be\n",
    "at about -0.022 meters.\n",
    "\n",
    "<font color=blue>Q5: Given that particle 1 is 10 times as heavy as particle 2 and you know where the center of mass is (from Q4) where do you expect particle 2 to be at 0.05 seconds.</font>\n",
    "\n",
    "<font color=blue>Q6: Examine the lower plot. Is the particle where you expected? If\n",
    "not, fix your mistakes in Q5.</font>\n",
    "\n",
    "## Introducing Arrays and While Loops\n",
    "\n",
    "Filling in the formulas for was tedious, and most of the point of computers is\n",
    "to make tedious things easy, so we need to introduce more features of what software can do.\n",
    "\n",
    "Imagine if we had wanted to continue all the way to x1_50, x2_50, v1_50, and v2_50\n",
    "how tedious that would have been. The two concepts that eliminate the tedium are arrays and while loops.\n",
    "\n",
    "### Arrays\n",
    "\n",
    "Instead of defining 51 different x1 variables (x1_0 to x1_50 is 51 variables), we are going to introduce something called an array that can hold as many x1s as is needed.\n",
    "\n",
    "Below is how you do that.\n",
    "\n",
    "<font color=green>S12: Execute the next 11 statements.</font>"
   ]
  },
  {
   "cell_type": "code",
   "execution_count": null,
   "metadata": {},
   "outputs": [],
   "source": [
    "steps = 50\n",
    "\n",
    "x1s = np.zeros(steps + 1)\n",
    "\n",
    "x2s = np.zeros(steps + 1)\n",
    "\n",
    "x2s[0] = 1.0 # This was the only initial condition that was non-zero\n",
    "\n",
    "v1s = np.zeros(steps + 1)\n",
    "\n",
    "v2s = np.zeros(steps + 1)\n",
    "\n",
    "times = delta_t * np.arange(0, steps + 1)"
   ]
  },
  {
   "cell_type": "code",
   "execution_count": null,
   "metadata": {},
   "outputs": [],
   "source": [
    "x1s"
   ]
  },
  {
   "cell_type": "code",
   "execution_count": null,
   "metadata": {},
   "outputs": [],
   "source": [
    "v1s"
   ]
  },
  {
   "cell_type": "code",
   "execution_count": null,
   "metadata": {},
   "outputs": [],
   "source": [
    "x2s"
   ]
  },
  {
   "cell_type": "code",
   "execution_count": null,
   "metadata": {},
   "outputs": [],
   "source": [
    "v2s"
   ]
  },
  {
   "cell_type": "code",
   "execution_count": null,
   "metadata": {},
   "outputs": [],
   "source": [
    "times"
   ]
  },
  {
   "cell_type": "code",
   "execution_count": null,
   "metadata": {},
   "outputs": [],
   "source": [
    "x1s[0]"
   ]
  },
  {
   "cell_type": "code",
   "execution_count": null,
   "metadata": {},
   "outputs": [],
   "source": [
    "x2s[0]"
   ]
  },
  {
   "cell_type": "code",
   "execution_count": null,
   "metadata": {},
   "outputs": [],
   "source": [
    "v1s[0]"
   ]
  },
  {
   "cell_type": "code",
   "execution_count": null,
   "metadata": {},
   "outputs": [],
   "source": [
    "v2s[0]"
   ]
  },
  {
   "cell_type": "code",
   "execution_count": null,
   "metadata": {},
   "outputs": [],
   "source": [
    "times[0]"
   ]
  },
  {
   "cell_type": "markdown",
   "metadata": {},
   "source": [
    "#### Interpreting the Output\n",
    "\n",
    "The first statement of the 11 assigned a bunch of values. In particular, 5 arrays\n",
    "were made. The next 5 expression statements showed you the contents of those arrays.\n",
    "\n",
    "The last 5 expression statements just show you the first element of each array. That\n",
    "seems redundant, but it is important to know how to extract the first element of an array.\n",
    "\n",
    "NB: Arrays are numbered from zero. You could also access the 15th element of each array.\n",
    "\n",
    "`x1s[15]`\n",
    "\n",
    "Well technically, because arrays are numbered from zero, that is the 16th element, if &mdash; like almost all humans &mdash; you count from 1 rather than counting from 0. This kind of craziness in counting is everywhere. A baby that is just born is in its first year. but it won't be 1 for twelve months. So age is an example of something that everyone agrees we should count from 0. If you are 18, you are actually in your 19th year. This is the 21st century, but the first two digits of the year are 2 and 0. So that's an example where in spoken and written English, we count from 1, but when we write dates in Arabic numerals, the 1st century was written as if it were century 0. Truly a mess, and a mess that will\n",
    "bite you over and over again when dealing with computers, because they are not forgiving."
   ]
  },
  {
   "cell_type": "code",
   "execution_count": null,
   "metadata": {},
   "outputs": [],
   "source": [
    "times[50]"
   ]
  },
  {
   "cell_type": "markdown",
   "metadata": {},
   "source": [
    "<font color=green>S13: Execute the cell that does times\\[15\\]. NB: On Colab, you may have to unhide cells to execute them.</font>\n",
    "\n",
    "<font color=blue>Q7: If the array were much longer, what would you have gotten by executing times\\[150\\]? What do you actually get if you execute times\\[150\\]? Is the error message reasonable?</font>\n",
    "\n",
    "<font color=blue>Q8: The array has 51 elements. Why does times\\[51\\] give an error? What is the largest value of the index that does not give an error?</font>\n",
    "\n",
    "<font color=green>S14: When you are done playing with the cell above, leave it with something that does not produce an error.</font>\n",
    "\n",
    "### While Loops\n",
    "\n",
    "Now we are going to introduce while loops. We're just going to jump right in and show you an example.\n",
    "Here is how you execute something 50 times:"
   ]
  },
  {
   "cell_type": "code",
   "execution_count": null,
   "metadata": {},
   "outputs": [],
   "source": [
    "# This code block is almost completely self contained.\n",
    "# If you execute the first cell in the notebook, and then skip everything\n",
    "# else and come straight to here, it will execute.\n",
    "# This can be very convenient if you want to take a break, and you\n",
    "# quit and restart the kernel.\n",
    "\n",
    "steps = 50\n",
    "\n",
    "x1s = np.zeros(steps + 1)\n",
    "x1s[0] = 0.0\n",
    "x2s = np.zeros(steps + 1)\n",
    "x2s[0] = 1.0 # This was the only initial condition that was non-zero\n",
    "v1s = np.zeros(steps + 1)\n",
    "v1s[0] = 0.0\n",
    "v2s = np.zeros(steps + 1)\n",
    "v2s[0] = 0.0\n",
    "times = delta_t * np.arange(0, steps + 1)\n",
    "\n",
    "i = 1\n",
    "\n",
    "while i <= steps:\n",
    "    x1s[i] = x1s[i - 1] + delta_t * v1s[i - 1]\n",
    "    x2s[i] = x2s[i - 1] + delta_t * v2s[i - 1]\n",
    "    r = abs(x2s[i - 1] - x1s[i - 1])\n",
    "    f2 = delta_t * k * q1 * q2 * (x2s[i - 1] - x1s[1 - 1]) / r**3\n",
    "    f1 = -f2\n",
    "    v1s[i] = v1s[i - 1] + delta_t * f1 / m1\n",
    "    v2s[i] = v2s[i - 1] + delta_t * f2 / m2\n",
    "    i = i + 1"
   ]
  },
  {
   "cell_type": "markdown",
   "metadata": {},
   "source": [
    "### The While Statement\n",
    "\n",
    "The thing to find and focus on is the while statement. Everything else was just set up.\n",
    "\n",
    "First, indenting matters in Python. Everything that follows the while statement that is indented by the same amount is part of it. In many languages (C and Java, for example), indenting doesn't matter. It is only done for readability. What matters in those languages is where you put the curly brackets { }. Python avoids being littered with curly brackets by making the indenting count.\n",
    "\n",
    "Second, let's analyze the indented statements in the while loop. Look at the first \n",
    "one and imagine i is 8. In that case, that statement is\n",
    "\n",
    "```\n",
    "    x1s[8] = x1s[7] + delta_t * v1s[7]\n",
    "```\n",
    "\n",
    "This avoids the tedium!! Before we would have had to write:\n",
    "\n",
    "```\n",
    "    x1_8 = x1_7 + delta_t * v1_7\n",
    "```\n",
    "\n",
    "And then we would have had to do it again and again for x1\\_9 all the way to x1\\_50.\n",
    "\n",
    "The last intended statement is:\n",
    "\n",
    "```\n",
    "    i = 8 + 1\n",
    "```\n",
    "\n",
    "NB: You would have been reasonable to say that with `i = 8` the last indented statement was:\n",
    "\n",
    "```\n",
    "    8 = 8 + 1\n",
    "```\n",
    "\n",
    "But this is obviously garbage and is not how the computer interprets an assignment statement. Instead it interprets the statement as:\n",
    "\n",
    "```\n",
    "    i = 8 + 1\n",
    "```\n",
    "\n",
    "which means i should be assigned to be 9.\n",
    "\n",
    "\n",
    "### Conditional Tests\n",
    "\n",
    "In the while statement is this conditional:\n",
    "```\n",
    "    i <= steps\n",
    "```\n",
    "\n",
    "Since i is now 9 and steps is 50, and 9 is most definitely less than or equal to 50, this conditional evaluates to True, and the while loop proceeds.\n",
    "\n",
    "<font color=blue>Q9: What is the first value of i for which the conditional will evaluate to False?</font>\n",
    "\n",
    "When the value that evaluates to False is reached, the while loop is finished (not executed with that value).\n",
    "\n",
    "## Summary of Arrays and While Loops\n",
    "\n",
    "You have been introduced to arrays and while loops. That is more than enough software to learn\n",
    "in one sitting. If you didn't fully understand it, no problem, being exposed the first\n",
    "time around is enough.\n",
    "\n",
    "In the rest of this computer lab, rather than building on the computer science you have just learned,\n",
    "we are going to focus on getting a little more experience with the Coulomb\n",
    "repulsion by trying some other initial conditions.\n",
    "\n",
    "## Plot what the While Loop Produced\n",
    "\n",
    "<font color=green>S15: Execute the while statement above and then execute the plotting code in the two cells below.</font>"
   ]
  },
  {
   "cell_type": "code",
   "execution_count": null,
   "metadata": {},
   "outputs": [],
   "source": [
    "plt.figure(figsize=(12, 6))\n",
    "\n",
    "plt.plot(times, x1s, '-o')\n",
    "\n",
    "plt.show()"
   ]
  },
  {
   "cell_type": "code",
   "execution_count": null,
   "metadata": {},
   "outputs": [],
   "source": [
    "plt.figure(figsize=(12, 6))\n",
    "\n",
    "plt.plot(times, x2s, '-o')\n",
    "\n",
    "plt.show()"
   ]
  },
  {
   "cell_type": "markdown",
   "metadata": {},
   "source": [
    "## *FELLOW FACULTY &mdash; THE NOTEBOOK IS ONLY RELATIVELY COMPLETE UP TO THIS POINT*\n",
    "\n",
    "I think the main thing remaining to do is to write some material where I show the students\n",
    "how to change the initial velocities.\n",
    "\n",
    "First I would have them change v2s\\[0\\] to -10.0.\n",
    "\n",
    "Then I would have them execute that and see if it meets expectations.\n",
    "\n",
    "Then as Q10, I would ask what would v1s\\[0\\] need to be changed to to put us back in the center of mass frame.\n",
    "\n",
    "As S16 I would have them make the change and execute that and see if it meets expectations.\n",
    "\n",
    "As Q11, I would have them screenshot their final position plots.\n",
    "\n",
    "## *IDEAS FOR ADDING MORE*\n",
    "\n",
    "Velocity Plots!? Seems like an important thing. There is already a lot here, but it's easy\n",
    "to add that if we don't have enough.\n",
    "\n",
    "Plots of kinetic energy, potential energy, or center of mass!? I think I have to introduce too many more equations and language features to do quantities that are derived from the\n",
    "positions and velocities.\n",
    "\n",
    "## *IF THE ENTIRE NOTEBOOK IS CONSIDERED TOO COMPLEX*\n",
    "\n",
    "Then I would knock it down to one particle. That spoils the center-of-mass questions though."
   ]
  },
  {
   "cell_type": "code",
   "execution_count": null,
   "metadata": {},
   "outputs": [],
   "source": []
  }
 ],
 "metadata": {
  "kernelspec": {
   "display_name": "Python 3",
   "language": "python",
   "name": "python3"
  },
  "language_info": {
   "codemirror_mode": {
    "name": "ipython",
    "version": 3
   },
   "file_extension": ".py",
   "mimetype": "text/x-python",
   "name": "python",
   "nbconvert_exporter": "python",
   "pygments_lexer": "ipython3",
   "version": "3.7.4"
  }
 },
 "nbformat": 4,
 "nbformat_minor": 2
}
