{
 "cells": [
  {
   "cell_type": "markdown",
   "metadata": {},
   "source": [
    "# RL Circuit Notebook\n",
    "\n",
    "## Introduction\n",
    "\n",
    "This is a Jupyter notebook illustrating a series circuit containing a resistor, an inductor, and a voltage source. The next level up in circuit complexity is to add a capacitor. This notebook doesn't do that. The circuit under consideration is sufficiently popular it has a name, &ldquo;the RL circuit.&rdquo; It could just as well be called the LR circuit. The R in RL stands for the resistance of the resistor, and the L stands for the inductance of the inductor (because the letter I is already used for current in this type of circuit and people decided to honor Emil Lenz (the Russian physicst who gave us Lenz's Law) by using L for inductance.\n",
    "\n",
    "![RL Circuit](https://upload.wikimedia.org/wikipedia/commons/8/8b/Series-RL.png)\n",
    "<center>Image Credit/License: <a href=\"https://commons.wikimedia.org/w/index.php?curid=545110\">CC BY-SA 3.0</a></center>\n",
    "\n",
    "In the drawing above, you need to imagine two things. A voltage source (either a battery or a function generator) would be connected to the two terminals labeled V<sub>in</sub>. This addition to the circuit is needed to complete it. Without it, the circuit can't do anything at all.\n",
    "\n",
    "A multimeter (or better yet, an oscilloscope) would be connected to the two terminals labeled V<sub>L</sub>. Don't think of this as another addition to the circuit. The multimeter or oscilliscope gives us something to measure, namely the voltage across the inductor.\n",
    "\n",
    "## Goals\n",
    "\n",
    "There are actually three very different goals in working with this notebook:\n",
    "\n",
    "1. Get experience with properties of RL circuits.\n",
    "2. Get an idea of how a computer solves a differential equation using &ldquo;finite difference methods.&rdquo;\n",
    "3. Learn how to write and execute Python code in a Jupyter notebook.\n",
    "\n",
    "Since we're attempting three things simultaneously, it's fine if we only make a small amount of progress on each of them. Once you've gotten a start, you can build endlessly on these ideas.\n",
    "\n",
    "## Circuit Equation\n",
    "\n",
    "One of Kirchoff's Laws says that the sum of voltages around a circuit is 0. There's a tiny bit of a cheat in that now that we have introduced inductance, but the result is completely correct. Going clockwise around the circuit above, we must have:\n",
    "\n",
    "0 = V<sub>in</sub> - V<sub>R</sub> - V<sub>L</sub>\n",
    "\n",
    "The signs are there just because that's the way the arrows are drawn. You are supposed to imagine the red or + connector on the battery or multimeter as being at the head of the arrow. If we were to reverse the connectors on the battery or the multimeter, then we would also draw the arrows the other way.\n",
    "\n",
    "\n",
    "### V<sub>R</sub>\n",
    "\n",
    "Look closely at the diagram. The person that drew it has the current going clockwise through the circuit. The voltage across the resistor is going to oppose the current flow. You can see that the person that drew the diagram has been helpful to us by drawing the V<sub>R</sub> arrow to oppose the flow. So we don't have to add any more minus signs in this equation:\n",
    "\n",
    "V<sub>R</sub> = R &middot; I\n",
    "\n",
    "### V<sub>L</sub>\n",
    "\n",
    "Similarly, the voltage across the inductor is going to oppose increasing current, so we don't have to add any more\n",
    "minus signs in this equation:\n",
    "\n",
    "V<sub>L</sub> = L &middot; dI/dt\n",
    "\n",
    "### Differential Equation\n",
    "\n",
    "Substituting in we have\n",
    "\n",
    "0 = V<sub>in</sub> - R &middot; I - L &middot; dI/dt\n",
    "\n",
    "Usually you solve this for dI/dt, so it is:\n",
    "\n",
    "dI/dt = V<sub>in</sub>/L - I &middot; R/L\n",
    "\n",
    "The units of all three terms are Coulombs per second squared. Which are somewhat analogous to meters per second squared, the units for acceleration.\n",
    "\n",
    "In fact, if you put in I = dQ/dt and you also add a capacitor in series, you'd have the equation for an RLC circuit.\n",
    "\n",
    "d<sup>2</sup>Q/dt<sup>2</sup> = V<sub>in</sub>/L - dQ/dt&middot;R/L - Q/(LC)\n",
    "\n",
    "This looks suspiciously similar to:\n",
    "\n",
    "d<sup>2</sup>x/dt<sup>2</sup> = F/m - c &middot; dx/dt/m - k &middot; x/m\n",
    "\n",
    "and indeed the LRC circuit and the damped harmonic oscillator have the same kind of solutions. We're not going to add a capacitor. This is weird. It is like leaving the spring out of the damped harmonic oscillator, in which case\n",
    "you'd have this equation:\n",
    "\n",
    "dv/dt = F/m - c &middot; v/m\n",
    "\n",
    "Notice that without the spring, you can write the equation in terms of the velocity. Mathematically, this is entirely analogous to what we are solving.\n",
    "\n",
    "## Finite Difference Methods\n",
    "\n",
    "We have this equation:\n",
    "\n",
    "dI/dt = V<sub>in</sub>/L - I &middot; R/L\n",
    "\n",
    "We are going to approximate dI/dt by (I(t+&Delta;t)-I(t))/&Delta;t. Put that in and solve for I(t+&Delta;t):\n",
    "\n",
    "I(t+&Delta;t) = I(t) + &Delta;t &middot; (V<sub>in</sub>/L - I(t) &middot; R/L)\n",
    "\n",
    "That's all there is to it! This is called a finite-difference equation. It can get a load messier if we have second derivatives, but because we haven't put in a capacitor, we don't have to get into that.\n",
    "\n",
    "Let us hope that we can get a good approximation to the equation if &Delta;t is 1/10 of a second. There is no good reason for choosing this particular value. It might be unneccesarily small. It might not be small enough.\n",
    "\n",
    "## Parameters and Initial Conditions\n",
    "\n",
    "A system has a some laws governing it (usually a differential equation), and it has some initial conditions.\n",
    "\n",
    "Let's start with no current flowing, and let's put in a battery with a fixed voltage of 12V.\n",
    "\n",
    "Let's use [this](https://www.digikey.com/short/zpmhcm) 300 &mu;H inductor and a 5 k&Omega; resistor.\n",
    "\n",
    "As long as we use MKS units everywhere we don't have to carry units or units conversions around.\n",
    "\n",
    "Here's how we capture this in Python:"
   ]
  },
  {
   "cell_type": "code",
   "execution_count": 2,
   "metadata": {},
   "outputs": [],
   "source": [
    "Vin = 12  # battery voltage\n",
    "\n",
    "I0 = 0    # initial current, none\n",
    "\n",
    "L = 300 * 10**-6  # inductance value\n",
    "\n",
    "R = 5 * 10**3     # resistance value\n",
    "\n",
    "delta_t = 0.1    # time increment in seconds"
   ]
  },
  {
   "cell_type": "markdown",
   "metadata": {},
   "source": [
    "## Executing Python Code\n",
    "\n",
    "Put your cursor in the code block above by clicking on it. Then hold down the shift key and hit the Enter key. On many computers, the Enter key is labeled Return. There is no significant difference between Enter and Return. Call it what you like.\n",
    "\n",
    "If this goes properly, the In\\[\\] to the left of the code block will change to In\\[1\\]. Do it again. It will change to In\\[2\\].\n",
    "\n",
    "**If you can't get this to work there is no point in proceeding. Ask your lab professor or lab assistant or anyone else who might have ideas on what is wrong for help.**\n",
    "\n",
    "### Getting I1\n",
    "\n",
    "We have I(0) as the initial condition and we have called that I0. Let's give I(0+&Delta;t) the name I1, and I(0+2&Delta;t) the name I2, etc.\n",
    "\n",
    "The finite difference equation for I1 says:"
   ]
  },
  {
   "cell_type": "code",
   "execution_count": 7,
   "metadata": {},
   "outputs": [],
   "source": [
    "I1 = I0 + delta_t * Vin/L - I0 * R/L"
   ]
  },
  {
   "cell_type": "markdown",
   "metadata": {},
   "source": [
    "### Getting I2\n",
    "\n",
    "The finite difference equation for I2 says:"
   ]
  },
  {
   "cell_type": "code",
   "execution_count": 8,
   "metadata": {},
   "outputs": [],
   "source": [
    "I2 = I1 + delta_t * Vin/L - I1 * R/L"
   ]
  },
  {
   "cell_type": "markdown",
   "metadata": {},
   "source": [
    "### Getting I3\n",
    "\n",
    "Ok, you've seen how this works, finish writing the code in the cell below to get I3:"
   ]
  }
 ],
 "metadata": {
  "kernelspec": {
   "display_name": "Python 3",
   "language": "python",
   "name": "python3"
  },
  "language_info": {
   "codemirror_mode": {
    "name": "ipython",
    "version": 3
   },
   "file_extension": ".py",
   "mimetype": "text/x-python",
   "name": "python",
   "nbconvert_exporter": "python",
   "pygments_lexer": "ipython3",
   "version": "3.7.4"
  }
 },
 "nbformat": 4,
 "nbformat_minor": 2
}
