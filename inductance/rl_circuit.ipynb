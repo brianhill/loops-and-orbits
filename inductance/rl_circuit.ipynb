{
 "cells": [
  {
   "cell_type": "markdown",
   "metadata": {},
   "source": [
    "# RL Circuit Notebook\n",
    "\n",
    "## Notebook Overview\n",
    "\n",
    "This Jupyter notebook is intended to be self-contained. This means it might include material that you already fully understand. To make it easier to jump ahead to the next question or step.\n",
    "\n",
    "Questions are marked in <font color=blue>blue</font>. Your lab report will consist of a document that answers all the questions and including some that can be answered by  taking screen shots.\n",
    "\n",
    "Steps are marked in <font color=green>green</font>.\n",
    "If the steps are not performed sequentially and accurately, subsequent steps probably will *not* work, so make sure you do each step carefully and in sequence.\n",
    "\n",
    "You might wonder why this is?!? A Jupyter notebook works hand-in-hand with something called a kernel (some people call it an interpreter). The kernel remembers everything that has been sent to it. For example, if you first send the kernel `x=1` and then you send it `y=x+1` the memory that x is 1 is in the kernel, and y will be 2. It *simply does not matter* if `x=1` is present in the notebook. It must be sent to the kernel for it matter.\n",
    "\n",
    "A corollary is that if you quit the kernel and start over, you have to start from the beginning. The new kernel\n",
    "has no memory of what might have been sent to the previous kernel, and it has no knowledge of what is in the notebook until it is sent. This is true despite the fact that the notebook might still be displaying old kernel\n",
    "output! Very confusing.\n",
    "\n",
    "<font color=green>S1: Find the menu item called Kernel. Under it is Restart &amp; Clear Output. This gives you a fresh kernel. It also removes any old kernel output from the notebook. Restart and clear all output.</font>\n",
    "\n",
    "## RL Circuit Overview\n",
    "\n",
    "This notebook illustrates a series circuit containing a resistor, an inductor, and a voltage source. The next level up in circuit complexity is to add a capacitor. *This notebook doesn't do that.* The circuit under consideration is sufficiently popular it has a name, &ldquo;the RL circuit.&rdquo; The R in RL stands for the resistance of the resistor, and the L stands for the inductance of the inductor (because the letter I is already used for current in this type of circuit and people decided to honor Emil Lenz, the Russian physicist who gave us Lenz's Law, by using L for inductance).\n",
    "\n",
    "![RL Circuit](https://upload.wikimedia.org/wikipedia/commons/8/8b/Series-RL.png)\n",
    "<center>Image Credit/License: <a href=\"https://commons.wikimedia.org/w/index.php?curid=545110\">CC BY-SA 3.0</a></center>\n",
    "\n",
    "In the drawing above, you need to imagine two things. A voltage source (either a battery or a function generator) would be connected to the two terminals labeled V<sub>in</sub>. This addition to the circuit is needed to complete it. Without it, there is no closed circuit and it can't do anything at all.\n",
    "\n",
    "A multimeter set to measure voltage (or better yet, an oscilloscope) might be connected to the two terminals labeled V<sub>L</sub>. Don't think of the multimeter as another addition to the circuit. A multimeter set to measure voltage or an oscilliscope attempts to measure voltage *without disturbing it* and without drawing much current.\n",
    "\n",
    "<font color=blue>Q1: Contemplate the previous paragraph, then answer &mdash; assuming that one of the most important components of a multimeter that is measuring voltage is an internal resistor, what can you say about this resistor?</font>\n",
    "\n",
    "## Computer Lab Goals\n",
    "\n",
    "There are actually three very different goals in doing this computer lab:\n",
    "\n",
    "1. Physics Goal: Get experience with properties of RL circuits.\n",
    "2. Mathematics Goal: Get an idea of how a differential equation can be solved approximately using &ldquo;finite-difference methods.&rdquo;\n",
    "3. Software Goal: Learn the basics of writing and executing Python code in a Jupyter notebook.\n",
    "\n",
    "Since we're attempting three things simultaneously, it's fine if we only make a small amount of progress on each of them. Once you've gotten a start, you can build endlessly on these ideas, and you will if you take Physics 102.\n",
    "\n",
    "## Circuit Equation\n",
    "\n",
    "One of Kirchoff's Laws says that the sum of voltages around a circuit is 0. Going clockwise around the circuit above, we must have:\n",
    "\n",
    "0 = V<sub>in</sub> - V<sub>R</sub> - V<sub>L</sub>\n",
    "\n",
    "The signs are there just because that's the way the arrows are drawn. You can draw the arrows any way you like.\n",
    "You just have to be consistent in the equation above and in the next two equations.\n",
    "\n",
    "\n",
    "### V<sub>R</sub>\n",
    "\n",
    "Look closely at the diagram. The person that drew it has the current going clockwise through the circuit. The voltage across the resistor is going to oppose the current flow. You can see that the person that drew the diagram has been helpful to us by drawing the V<sub>R</sub> arrow opposing the flow. So we don't have to put a minus sign in this equation:\n",
    "\n",
    "V<sub>R</sub> = R &middot; I\n",
    "\n",
    "### V<sub>L</sub>\n",
    "\n",
    "Similarly, the voltage across the inductor is going to oppose increasing current (that's one way of stating Lenz's Law), and once again, the artist has put it in that way, so we don't have to put a minus sign in this equation:\n",
    "\n",
    "V<sub>L</sub> = L &middot; dI/dt\n",
    "\n",
    "### Differential Equation\n",
    "\n",
    "Substituting in we have\n",
    "\n",
    "0 = V<sub>in</sub> - R &middot; I - L &middot; dI/dt\n",
    "\n",
    "Usually you solve this for dI/dt, so it is:\n",
    "\n",
    "dI/dt = V<sub>in</sub>/L - I &middot; R/L\n",
    "\n",
    "The units of all three terms are Coulombs per second squared. Which are somewhat analogous to meters per second squared, the units for acceleration.\n",
    "\n",
    "In fact, if you put in I = dQ/dt and you also add a capacitor in series, you'd have the equation for an RLC circuit.\n",
    "\n",
    "d<sup>2</sup>Q/dt<sup>2</sup> = V<sub>in</sub>/L - dQ/dt&middot;R/L - Q/(LC)\n",
    "\n",
    "This looks suspiciously similar to:\n",
    "\n",
    "d<sup>2</sup>x/dt<sup>2</sup> = F<sub>ext</sub>/m - c &middot; dx/dt/m - k &middot; x/m\n",
    "\n",
    "and indeed the LRC circuit and the damped harmonic oscillator have the same kind of solutions. *We're not going to add a capacitor.* This is weird. It is like leaving the spring out of the damped harmonic oscillator, in which case\n",
    "you'd have this equation:\n",
    "\n",
    "dv/dt = F<sub>ext</sub>/m - c &middot; v/m\n",
    "\n",
    "Notice that without the spring, you can write the equation in terms of the velocity. Mathematically, this is entirely analogous to what we are solving.\n",
    "\n",
    "<font color=blue>Q2: Compare the equation for dI/dt with the equation for dv/dt. Mathematically, I is like v. Fill in: V<sub>in</sub> is like _____? L is like _____? R is like _____?</font>\n",
    "\n",
    "## Finite-Difference Methods\n",
    "\n",
    "We have this equation:\n",
    "\n",
    "dI/dt = V<sub>in</sub>/L - I &middot; R/L\n",
    "\n",
    "We are going to approximate dI/dt by (I(t+&Delta;t)-I(t))/&Delta;t. Put that approximation in and solve for I(t+&Delta;t). You'll get:\n",
    "\n",
    "I(t+&Delta;t) = I(t) + &Delta;t &middot; (V<sub>in</sub>/L - I(t) &middot; R/L)\n",
    "\n",
    "That's all there is to it! This is called a finite-difference equation. It can get a load messier if we have second derivatives, but because we didn't put in a capacitor, we get to skip all that messiness.\n",
    "\n",
    "Let us hope that we can get a good approximation to the equation if &Delta;t is 1/1000 of a second (1 millisecond). No good reason for choosing this particular value has been given. It might be unnecessarily small. It might not be small enough. For the moment, just consider to it to be a good guess.\n",
    "\n",
    "## Parameters and Initial Conditions\n",
    "\n",
    "A system has a some laws governing it (usually a differential equation), and it has some initial conditions.\n",
    "\n",
    "Let's say that our initial conditions are that initially no current is flowing, and let's put in a battery with a fixed voltage of 12V for V<sub>in</sub>\n",
    "\n",
    "Let's use [this](https://www.mouser.com/Passive-Components/Inductors-Chokes-Coils/Images/_/N-5gb4?P=1yztpv4) whopping 300 mH inductor and a modest 50 &Omega; resistor.\n",
    "\n",
    "As long as we use MKS units everywhere we don't have to carry units or units conversions around.\n",
    "\n",
    "Here's how we capture the initial conditions and also do some other initialization in Python:"
   ]
  },
  {
   "cell_type": "code",
   "execution_count": null,
   "metadata": {},
   "outputs": [],
   "source": [
    "# Standard Python doesn't have graphing/plotting. The following statement adds graphing/plotting\n",
    "# capability. The name matplotlib was chosen because the authors were trying for some MATLAB capabilities.\n",
    "\n",
    "import matplotlib.pyplot as plt\n",
    "\n",
    "# The following is also incredibly convenient when working with lists of times and currents. numpy\n",
    "# is short for \"numerical Python\" and it isn't part of the standard Python either.\n",
    "\n",
    "import numpy as np\n",
    "\n",
    "# Here are all our initial conditions.\n",
    "# Each of these was discussed above.\n",
    "\n",
    "Vin = 12  # battery voltage in MKS units of Voltage (volts)\n",
    "\n",
    "I0 = 0    # initial current in MKS units of current (Amperes)\n",
    "\n",
    "L = 0.3   # inductance value -- 300 mH -- 0.3 in MKS units of inductance (Henrys)\n",
    "\n",
    "R = 50            # resistance value -- 50 Ohms -- 50 in MKS units of resistance (Ohms)\n",
    "\n",
    "delta_t = 0.001   # time increment in seconds -- 1/1000 of a second -- 0.001 in MKS units of time (seconds)"
   ]
  },
  {
   "cell_type": "markdown",
   "metadata": {},
   "source": [
    "## Executing Python Code\n",
    "\n",
    "<font color=green>S2: Put your cursor in the code block above by clicking on it. Then hold down the Shift key and while it is held down, hit the Enter key.</font>\n",
    "\n",
    "On many computers, the Enter key is labeled Return. There is no significant difference between Enter and Return. Call it what you like.\n",
    "\n",
    "If this goes properly, the In\\[\\] to the left of the code block will change to In\\[1\\]. Do it again. It will change to In\\[2\\].\n",
    "\n",
    "**If you can't get this to work there is no point in proceeding. Ask your lab professor or lab assistant or anyone else who might have ideas on what is wrong for help.**\n",
    "\n",
    "### Getting I1\n",
    "\n",
    "We have I(0) as the initial condition and we have called that I0 in our initial conditions above.\n",
    "Let's give I(0+&Delta;t) the name I1, and I(0+2&Delta;t) the name I2, etc.\n",
    "\n",
    "The finite difference equation for I1 says:"
   ]
  },
  {
   "cell_type": "code",
   "execution_count": null,
   "metadata": {},
   "outputs": [],
   "source": [
    "I1 = I0 + delta_t * (Vin/L - I0 * R/L)"
   ]
  },
  {
   "cell_type": "markdown",
   "metadata": {},
   "source": [
    "### Getting I2\n",
    "\n",
    "The finite difference equation for I2 says:"
   ]
  },
  {
   "cell_type": "code",
   "execution_count": null,
   "metadata": {},
   "outputs": [],
   "source": [
    "I2 = I1 + delta_t * (Vin/L - I1 * R/L)"
   ]
  },
  {
   "cell_type": "markdown",
   "metadata": {},
   "source": [
    "### Getting I3\n",
    "\n",
    "<font color=green>S3: You've seen how this works, finish writing the code in the cell below to get I3.</green>"
   ]
  },
  {
   "cell_type": "code",
   "execution_count": null,
   "metadata": {},
   "outputs": [],
   "source": [
    "I3 = I2 + delta_t * (Vin/L - I2 * R/L)"
   ]
  },
  {
   "cell_type": "code",
   "execution_count": null,
   "metadata": {},
   "outputs": [],
   "source": [
    "I3"
   ]
  },
  {
   "cell_type": "markdown",
   "metadata": {},
   "source": [
    "<font color=green>S4: The code for I1, I2, and I3 has been written but not executed. Put your cursor in \n",
    "    each of the three cells defining I1, I2, and I3, and execute them.</font>\n",
    "   \n",
    "The last cell above just has I3 all by itself. This cell isn't setting I3. *It is displaying it.* The kernel output will be placed below the cell.\n",
    "\n",
    "<font color=green>S5: Put your cursor in the cell that displays I3 and execute it.</font>\n",
    "\n",
    "If the kernel did not display 0.10111111111111111 for I3, go back and re-check your expression for I3.\n",
    "Computers are ludicrously simple. They do exactly what you tell them. So you have to tell them what you want\n",
    "exactly. Once you have found the mistake, re-execute the two cells so that the kernel has been sent the fix and you can see that you now have the correct result."
   ]
  },
  {
   "cell_type": "markdown",
   "metadata": {},
   "source": [
    "### Getting I4 to I20\n",
    "\n",
    "Keep going (yes, this is getting tedious, soon you'll learn new tricks to avoid tedium).\n",
    "\n",
    "<font color=green>S6: Write in the formulas for I4 to I10, and then execute the cell.</font>\n",
    "\n",
    "To keep the tedium reasonable, I11 to I20 are already done."
   ]
  },
  {
   "cell_type": "code",
   "execution_count": null,
   "metadata": {},
   "outputs": [],
   "source": [
    "I4 = I3 + delta_t * (Vin/L - I3 * R/L)\n",
    "I5 = I4 + delta_t * (Vin/L - I4 * R/L)\n",
    "I6 = I5 + delta_t * (Vin/L - I5 * R/L)\n",
    "I7 = I6 + delta_t * (Vin/L - I6 * R/L)\n",
    "I8 = I7 + delta_t * (Vin/L - I7 * R/L)\n",
    "I9 = I8 + delta_t * (Vin/L - I8 * R/L)\n",
    "I10 = I9 + delta_t * (Vin/L - I9 * R/L)\n",
    "I11 = I10 + delta_t * (Vin/L - I10 * R/L)\n",
    "I12 = I11 + delta_t * (Vin/L - I11 * R/L)\n",
    "I13 = I12 + delta_t * (Vin/L - I12 * R/L)\n",
    "I14 = I13 + delta_t * (Vin/L - I13 * R/L)\n",
    "I15 = I14 + delta_t * (Vin/L - I14 * R/L)\n",
    "I16 = I15 + delta_t * (Vin/L - I15 * R/L)\n",
    "I17 = I16 + delta_t * (Vin/L - I16 * R/L)\n",
    "I18 = I17 + delta_t * (Vin/L - I17 * R/L)\n",
    "I19 = I18 + delta_t * (Vin/L - I18 * R/L)\n",
    "I20 = I19 + delta_t * (Vin/L - I19 * R/L)"
   ]
  },
  {
   "cell_type": "code",
   "execution_count": null,
   "metadata": {},
   "outputs": [],
   "source": [
    "I20"
   ]
  },
  {
   "cell_type": "markdown",
   "metadata": {},
   "source": [
    "<font color=green>S7: Execute the cell that displays I20.</font>\n",
    "\n",
    "If the cell above did not get 0.23373982720689868 for I20, go back and re-check your work. Once you have found\n",
    "the mistake, re-execute all the cells from the mistake up until this point.\n",
    "\n",
    "<font color=green>S8: Execute the cell below that plots the results of your work.</font>"
   ]
  },
  {
   "cell_type": "code",
   "execution_count": null,
   "metadata": {},
   "outputs": [],
   "source": [
    "# Plot what we have got. You don't have to understand this yet.\n",
    "# For now it's just a bunch of gibberish for making plots.\n",
    "\n",
    "times = delta_t * np.arange(0, 21, 1)\n",
    "currents = [I0, I1, I2, I3, I4, I5, I6, I7, I8, I9, I10, I11, I12, I13, I14, I15, I16, I17, I18, I19, I20]\n",
    "\n",
    "plt.figure(figsize=(12, 6))\n",
    "\n",
    "plt.plot(times, currents, '-o')\n",
    "\n",
    "plt.show()\n",
    "\n",
    "\"The current rises quickly from zero and then seems to be leveling off.\""
   ]
  },
  {
   "cell_type": "markdown",
   "metadata": {},
   "source": [
    "The units of the horizontal axis on the plot are seconds. The vertical axis is amperes.\n",
    "\n",
    "<font color=blue>Q3: About how many amps are flowing after 20 milliseconds? If there were no\n",
    "    inductor in the circuit at all, how many amps would the battery be pushing through the resistor?</font>\n",
    "\n",
    "## Introducing Arrays and While Loops\n",
    "\n",
    "Filling in the formulas for I3 and for I4 to I10, was tedious, right?\n",
    "Imagine if we had wanted to continue all the way to I50\n",
    "how tedious it would have been. Now you're going to learn two concepts that eliminate the tedium.\n",
    "\n",
    "Instead of defining 21 different current variables (I0 to I20 is 21 variables), we are going to introduce\n",
    "something called an array that can hold as many current variables as is needed.\n",
    "\n",
    "Let's do 50 steps (starting from step 0 and ending at step 50). That's actually 51 different values.\n",
    "\n",
    "While we are at it, let's also get a second array that can hold as many times as is needed.\n",
    "\n",
    "Below is how you do that.\n",
    "\n",
    "<font color=green>S8: Execute the next five statements.</font>"
   ]
  },
  {
   "cell_type": "code",
   "execution_count": null,
   "metadata": {},
   "outputs": [],
   "source": [
    "steps = 50\n",
    "\n",
    "currents = np.zeros(steps + 1)\n",
    "times = delta_t * np.arange(0, steps + 1)"
   ]
  },
  {
   "cell_type": "code",
   "execution_count": null,
   "metadata": {},
   "outputs": [],
   "source": [
    "currents"
   ]
  },
  {
   "cell_type": "code",
   "execution_count": null,
   "metadata": {},
   "outputs": [],
   "source": [
    "times"
   ]
  },
  {
   "cell_type": "code",
   "execution_count": null,
   "metadata": {},
   "outputs": [],
   "source": [
    "currents[0]"
   ]
  },
  {
   "cell_type": "code",
   "execution_count": null,
   "metadata": {},
   "outputs": [],
   "source": [
    "times[0]"
   ]
  },
  {
   "cell_type": "markdown",
   "metadata": {},
   "source": [
    "#### Interpreting the Output\n",
    "\n",
    "The cell showing currents shows all the currents. They are all zero. The first one is the correct\n",
    "initial condition. We haven't computed the rest yet. We will do that in a while loop.\n",
    "\n",
    "The cell showing times shows all the times. They are just 1 millisecond apart from 0.000 to 0.050 seconds. There\n",
    "are 51 times in this range.\n",
    "\n",
    "The cell showing currents\\[0\\] is showing the first current in the array.\n",
    "\n",
    "The cell showing times\\[0\\] is showing the first time in the array.\n",
    "\n",
    "You can also access the 15th (actually the 16th if you count from 1 rather than counting from 0)."
   ]
  },
  {
   "cell_type": "code",
   "execution_count": null,
   "metadata": {},
   "outputs": [],
   "source": [
    "times[15]"
   ]
  },
  {
   "cell_type": "markdown",
   "metadata": {},
   "source": [
    "<font color=green>S9: Execute the cell that does times\\[15\\].</font>\n",
    "\n",
    "<font color=blue>Q4: If the array were much longer, what would you have gotten by executing times\\[150\\]? What do you actually get if you execute times\\[150\\]? Is the error message reasonable?</font>\n",
    "\n",
    "### While Loops\n",
    "\n",
    "Now we are going to introduce while loops. Here is how you execute something 50 times:"
   ]
  },
  {
   "cell_type": "code",
   "execution_count": null,
   "metadata": {},
   "outputs": [],
   "source": [
    "i = 1\n",
    "\n",
    "while i <= steps:\n",
    "    currents[i] = currents[i - 1] + delta_t * (Vin/L - currents[i - 1] * R/L)\n",
    "    i = i + 1"
   ]
  },
  {
   "cell_type": "code",
   "execution_count": null,
   "metadata": {},
   "outputs": [],
   "source": [
    "plt.figure(figsize=(12, 6))\n",
    "\n",
    "plt.plot(times, currents, '-o')\n",
    "\n",
    "plt.show()"
   ]
  },
  {
   "cell_type": "markdown",
   "metadata": {},
   "source": [
    "## Swapping the Battery for a Function Generator\n",
    "\n",
    "Instead of having \n",
    "\n"
   ]
  },
  {
   "cell_type": "code",
   "execution_count": null,
   "metadata": {},
   "outputs": [],
   "source": [
    "from math import cos, pi\n",
    "\n",
    "f = 5   # Set function generator to 5 Hz\n",
    "V0 = 10 # Set maximum voltage to 10V\n",
    "\n",
    "# Nicer to work with angular frequency\n",
    "omega = 2 * pi * f\n",
    "\n",
    "i = 1\n",
    "\n",
    "while i <= steps:\n",
    "    time = times[i - 1]\n",
    "    old_current = currents[i - 1]\n",
    "    voltage = V0 * cos(omega * time)\n",
    "    new_current = old_current + delta_t * (voltage/L - old_current * R/L)\n",
    "    currents[i] = new_current\n",
    "    i = i + 1\n",
    "\n"
   ]
  },
  {
   "cell_type": "code",
   "execution_count": null,
   "metadata": {},
   "outputs": [],
   "source": [
    "plt.figure(figsize=(12, 6))\n",
    "\n",
    "plt.plot(times, currents, '-o')\n",
    "\n",
    "plt.show()"
   ]
  },
  {
   "cell_type": "code",
   "execution_count": null,
   "metadata": {},
   "outputs": [],
   "source": []
  }
 ],
 "metadata": {
  "kernelspec": {
   "display_name": "Python 3",
   "language": "python",
   "name": "python3"
  },
  "language_info": {
   "codemirror_mode": {
    "name": "ipython",
    "version": 3
   },
   "file_extension": ".py",
   "mimetype": "text/x-python",
   "name": "python",
   "nbconvert_exporter": "python",
   "pygments_lexer": "ipython3",
   "version": "3.7.4"
  }
 },
 "nbformat": 4,
 "nbformat_minor": 2
}
